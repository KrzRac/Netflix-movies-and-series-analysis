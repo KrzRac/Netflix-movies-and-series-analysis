{
 "cells": [
  {
   "cell_type": "markdown",
   "id": "762f8ee8",
   "metadata": {},
   "source": [
    "# <center> NETFLIX MOVIES AND SERIES ANALYSIS</center>"
   ]
  },
  {
   "attachments": {
    "2c02-0de1-442a-a59f-589af0c237b8_large.webp": {
     "image/webp": "[encoded data removed]"
    }
   },
   "cell_type": "markdown",
   "id": "fbf12e38",
   "metadata": {},
   "source": [
    "![2c02-0de1-442a-a59f-589af0c237b8_large.webp](attachment:2c02-0de1-442a-a59f-589af0c237b8_large.webp)"
   ]
  },
  {
   "cell_type": "markdown",
   "id": "e27742cd",
   "metadata": {},
   "source": [
    "## ABOUT"
   ]
  },
  {
   "cell_type": "markdown",
   "id": "95ab7aaa",
   "metadata": {},
   "source": [
    "This dataset contains information about content available on Netflix in India in the middle of 2021. It has 12 columns:\n",
    "- show_id\n",
    "- type - movie or TV show\n",
    "- title\n",
    "- director - mainly in movies, rarely mentioned in series\n",
    "- cast - list of actors \n",
    "- country - in which show was produced\n",
    "- date_added - date when the show was added to Neflix\n",
    "- released_year - year when show was released\n",
    "- rating - content rating that specify the age of the viewer\n",
    "- duration - duration time of movies or number of seasons in series\n",
    "- listed_in - genres\n",
    "- description"
   ]
  },
  {
   "cell_type": "markdown",
   "id": "eaf2ed53",
   "metadata": {},
   "source": [
    "Source of the dataset: https://www.kaggle.com/datasets/shivamb/netflix-shows"
   ]
  },
  {
   "cell_type": "markdown",
   "id": "ca9ee1cc",
   "metadata": {},
   "source": [
    "## Importing libraries"
   ]
  },
  {
   "cell_type": "code",
   "execution_count": 1,
   "id": "068e6f6f",
   "metadata": {},
   "outputs": [],
   "source": [
    "import numpy as np\n",
    "import pandas as pd\n",
    "import matplotlib.pyplot as plt\n",
    "import seaborn as sns\n",
    "import matplotlib\n",
    "%matplotlib inline\n",
    "\n",
    "sns.set_style('darkgrid')\n",
    "matplotlib.rcParams['font.size'] = 14\n",
    "matplotlib.rcParams['figure.figsize'] = (9, 5)\n",
    "matplotlib.rcParams['figure.facecolor'] = '#00000000'"
   ]
  },
  {
   "cell_type": "markdown",
   "id": "cd0bdb57",
   "metadata": {},
   "source": [
    "## Data preparation and cleaning"
   ]
  },
  {
   "cell_type": "code",
   "execution_count": 2,
   "id": "03573403",
   "metadata": {},
   "outputs": [],
   "source": [
    "netflix_df = pd.read_csv('netflix_titles.csv')"
   ]
  },
  {
   "cell_type": "code",
   "execution_count": 3,
   "id": "4eb18705",
   "metadata": {
    "scrolled": false
   },
   "outputs": [
    {
     "data": {
      "text/html": [
       "<div>\n",
       "<style scoped>\n",
       "    .dataframe tbody tr th:only-of-type {\n",
       "        vertical-align: middle;\n",
       "    }\n",
       "\n",
       "    .dataframe tbody tr th {\n",
       "        vertical-align: top;\n",
       "    }\n",
       "\n",
       "    .dataframe thead th {\n",
       "        text-align: right;\n",
       "    }\n",
       "</style>\n",
       "<table border=\"1\" class=\"dataframe\">\n",
       "  <thead>\n",
       "    <tr style=\"text-align: right;\">\n",
       "      <th></th>\n",
       "      <th>show_id</th>\n",
       "      <th>type</th>\n",
       "      <th>title</th>\n",
       "      <th>director</th>\n",
       "      <th>cast</th>\n",
       "      <th>country</th>\n",
       "      <th>date_added</th>\n",
       "      <th>release_year</th>\n",
       "      <th>rating</th>\n",
       "      <th>duration</th>\n",
       "      <th>listed_in</th>\n",
       "      <th>description</th>\n",
       "    </tr>\n",
       "  </thead>\n",
       "  <tbody>\n",
       "    <tr>\n",
       "      <th>0</th>\n",
       "      <td>s1</td>\n",
       "      <td>Movie</td>\n",
       "      <td>Dick Johnson Is Dead</td>\n",
       "      <td>Kirsten Johnson</td>\n",
       "      <td>NaN</td>\n",
       "      <td>United States</td>\n",
       "      <td>September 25, 2021</td>\n",
       "      <td>2020</td>\n",
       "      <td>PG-13</td>\n",
       "      <td>90 min</td>\n",
       "      <td>Documentaries</td>\n",
       "      <td>As her father nears the end of his life, filmm...</td>\n",
       "    </tr>\n",
       "    <tr>\n",
       "      <th>1</th>\n",
       "      <td>s2</td>\n",
       "      <td>TV Show</td>\n",
       "      <td>Blood &amp; Water</td>\n",
       "      <td>NaN</td>\n",
       "      <td>Ama Qamata, Khosi Ngema, Gail Mabalane, Thaban...</td>\n",
       "      <td>South Africa</td>\n",
       "      <td>September 24, 2021</td>\n",
       "      <td>2021</td>\n",
       "      <td>TV-MA</td>\n",
       "      <td>2 Seasons</td>\n",
       "      <td>International TV Shows, TV Dramas, TV Mysteries</td>\n",
       "      <td>After crossing paths at a party, a Cape Town t...</td>\n",
       "    </tr>\n",
       "    <tr>\n",
       "      <th>2</th>\n",
       "      <td>s3</td>\n",
       "      <td>TV Show</td>\n",
       "      <td>Ganglands</td>\n",
       "      <td>Julien Leclercq</td>\n",
       "      <td>Sami Bouajila, Tracy Gotoas, Samuel Jouy, Nabi...</td>\n",
       "      <td>NaN</td>\n",
       "      <td>September 24, 2021</td>\n",
       "      <td>2021</td>\n",
       "      <td>TV-MA</td>\n",
       "      <td>1 Season</td>\n",
       "      <td>Crime TV Shows, International TV Shows, TV Act...</td>\n",
       "      <td>To protect his family from a powerful drug lor...</td>\n",
       "    </tr>\n",
       "    <tr>\n",
       "      <th>3</th>\n",
       "      <td>s4</td>\n",
       "      <td>TV Show</td>\n",
       "      <td>Jailbirds New Orleans</td>\n",
       "      <td>NaN</td>\n",
       "      <td>NaN</td>\n",
       "      <td>NaN</td>\n",
       "      <td>September 24, 2021</td>\n",
       "      <td>2021</td>\n",
       "      <td>TV-MA</td>\n",
       "      <td>1 Season</td>\n",
       "      <td>Docuseries, Reality TV</td>\n",
       "      <td>Feuds, flirtations and toilet talk go down amo...</td>\n",
       "    </tr>\n",
       "    <tr>\n",
       "      <th>4</th>\n",
       "      <td>s5</td>\n",
       "      <td>TV Show</td>\n",
       "      <td>Kota Factory</td>\n",
       "      <td>NaN</td>\n",
       "      <td>Mayur More, Jitendra Kumar, Ranjan Raj, Alam K...</td>\n",
       "      <td>India</td>\n",
       "      <td>September 24, 2021</td>\n",
       "      <td>2021</td>\n",
       "      <td>TV-MA</td>\n",
       "      <td>2 Seasons</td>\n",
       "      <td>International TV Shows, Romantic TV Shows, TV ...</td>\n",
       "      <td>In a city of coaching centers known to train I...</td>\n",
       "    </tr>\n",
       "  </tbody>\n",
       "</table>\n",
       "</div>"
      ],
      "text/plain": [
       "  show_id     type                  title         director  \\\n",
       "0      s1    Movie   Dick Johnson Is Dead  Kirsten Johnson   \n",
       "1      s2  TV Show          Blood & Water              NaN   \n",
       "2      s3  TV Show              Ganglands  Julien Leclercq   \n",
       "3      s4  TV Show  Jailbirds New Orleans              NaN   \n",
       "4      s5  TV Show           Kota Factory              NaN   \n",
       "\n",
       "                                                cast        country  \\\n",
       "0                                                NaN  United States   \n",
       "1  Ama Qamata, Khosi Ngema, Gail Mabalane, Thaban...   South Africa   \n",
       "2  Sami Bouajila, Tracy Gotoas, Samuel Jouy, Nabi...            NaN   \n",
       "3                                                NaN            NaN   \n",
       "4  Mayur More, Jitendra Kumar, Ranjan Raj, Alam K...          India   \n",
       "\n",
       "           date_added  release_year rating   duration  \\\n",
       "0  September 25, 2021          2020  PG-13     90 min   \n",
       "1  September 24, 2021          2021  TV-MA  2 Seasons   \n",
       "2  September 24, 2021          2021  TV-MA   1 Season   \n",
       "3  September 24, 2021          2021  TV-MA   1 Season   \n",
       "4  September 24, 2021          2021  TV-MA  2 Seasons   \n",
       "\n",
       "                                           listed_in  \\\n",
       "0                                      Documentaries   \n",
       "1    International TV Shows, TV Dramas, TV Mysteries   \n",
       "2  Crime TV Shows, International TV Shows, TV Act...   \n",
       "3                             Docuseries, Reality TV   \n",
       "4  International TV Shows, Romantic TV Shows, TV ...   \n",
       "\n",
       "                                         description  \n",
       "0  As her father nears the end of his life, filmm...  \n",
       "1  After crossing paths at a party, a Cape Town t...  \n",
       "2  To protect his family from a powerful drug lor...  \n",
       "3  Feuds, flirtations and toilet talk go down amo...  \n",
       "4  In a city of coaching centers known to train I...  "
      ]
     },
     "execution_count": 3,
     "metadata": {},
     "output_type": "execute_result"
    }
   ],
   "source": [
    "netflix_df.head()"
   ]
  },
  {
   "cell_type": "code",
   "execution_count": 4,
   "id": "d9bd4feb",
   "metadata": {},
   "outputs": [
    {
     "data": {
      "text/plain": [
       "(8807, 12)"
      ]
     },
     "execution_count": 4,
     "metadata": {},
     "output_type": "execute_result"
    }
   ],
   "source": [
    "netflix_df.shape\n",
    "# (rows, columns)"
   ]
  },
  {
   "cell_type": "code",
   "execution_count": 5,
   "id": "1e5a690d",
   "metadata": {},
   "outputs": [
    {
     "name": "stdout",
     "output_type": "stream",
     "text": [
      "<class 'pandas.core.frame.DataFrame'>\n",
      "RangeIndex: 8807 entries, 0 to 8806\n",
      "Data columns (total 12 columns):\n",
      " #   Column        Non-Null Count  Dtype \n",
      "---  ------        --------------  ----- \n",
      " 0   show_id       8807 non-null   object\n",
      " 1   type          8807 non-null   object\n",
      " 2   title         8807 non-null   object\n",
      " 3   director      6173 non-null   object\n",
      " 4   cast          7982 non-null   object\n",
      " 5   country       7976 non-null   object\n",
      " 6   date_added    8797 non-null   object\n",
      " 7   release_year  8807 non-null   int64 \n",
      " 8   rating        8803 non-null   object\n",
      " 9   duration      8804 non-null   object\n",
      " 10  listed_in     8807 non-null   object\n",
      " 11  description   8807 non-null   object\n",
      "dtypes: int64(1), object(11)\n",
      "memory usage: 825.8+ KB\n"
     ]
    }
   ],
   "source": [
    "netflix_df.info()"
   ]
  },
  {
   "cell_type": "code",
   "execution_count": 6,
   "id": "2f7a5a50",
   "metadata": {},
   "outputs": [
    {
     "data": {
      "text/plain": [
       "Index(['show_id', 'type', 'title', 'director', 'cast', 'country', 'date_added',\n",
       "       'release_year', 'rating', 'duration', 'listed_in', 'description'],\n",
       "      dtype='object')"
      ]
     },
     "execution_count": 6,
     "metadata": {},
     "output_type": "execute_result"
    }
   ],
   "source": [
    "netflix_df.columns"
   ]
  },
  {
   "cell_type": "code",
   "execution_count": 7,
   "id": "ab5c9b0b",
   "metadata": {},
   "outputs": [],
   "source": [
    "# dropping unnecessary column\n",
    "netflix_df = netflix_df.drop('show_id', axis=1, errors='ignore')"
   ]
  },
  {
   "cell_type": "code",
   "execution_count": 8,
   "id": "eaf8f8c8",
   "metadata": {
    "scrolled": false
   },
   "outputs": [],
   "source": [
    "# changing type of 'date_added' column to datetime in order to divide it into day, month, year and weekday\n",
    "netflix_df['date_added'] = pd.to_datetime(netflix_df.date_added)\n",
    "\n",
    "netflix_df['day'] = pd.DatetimeIndex(netflix_df.date_added).day\n",
    "netflix_df['month'] = pd.DatetimeIndex(netflix_df.date_added).month\n",
    "netflix_df['year'] = pd.DatetimeIndex(netflix_df.date_added).year\n",
    "netflix_df['weekday'] = pd.DatetimeIndex(netflix_df.date_added).weekday + 1 # default value of monday is 0, tuesday - 1 etc."
   ]
  },
  {
   "cell_type": "code",
   "execution_count": 9,
   "id": "1140aac0",
   "metadata": {
    "scrolled": true
   },
   "outputs": [
    {
     "data": {
      "text/html": [
       "<div>\n",
       "<style scoped>\n",
       "    .dataframe tbody tr th:only-of-type {\n",
       "        vertical-align: middle;\n",
       "    }\n",
       "\n",
       "    .dataframe tbody tr th {\n",
       "        vertical-align: top;\n",
       "    }\n",
       "\n",
       "    .dataframe thead th {\n",
       "        text-align: right;\n",
       "    }\n",
       "</style>\n",
       "<table border=\"1\" class=\"dataframe\">\n",
       "  <thead>\n",
       "    <tr style=\"text-align: right;\">\n",
       "      <th></th>\n",
       "      <th>type</th>\n",
       "      <th>title</th>\n",
       "      <th>director</th>\n",
       "      <th>cast</th>\n",
       "      <th>country</th>\n",
       "      <th>date_added</th>\n",
       "      <th>release_year</th>\n",
       "      <th>rating</th>\n",
       "      <th>duration</th>\n",
       "      <th>listed_in</th>\n",
       "      <th>description</th>\n",
       "      <th>day</th>\n",
       "      <th>month</th>\n",
       "      <th>year</th>\n",
       "      <th>weekday</th>\n",
       "    </tr>\n",
       "  </thead>\n",
       "  <tbody>\n",
       "    <tr>\n",
       "      <th>0</th>\n",
       "      <td>Movie</td>\n",
       "      <td>Dick Johnson Is Dead</td>\n",
       "      <td>Kirsten Johnson</td>\n",
       "      <td>NaN</td>\n",
       "      <td>United States</td>\n",
       "      <td>2021-09-25</td>\n",
       "      <td>2020</td>\n",
       "      <td>PG-13</td>\n",
       "      <td>90 min</td>\n",
       "      <td>Documentaries</td>\n",
       "      <td>As her father nears the end of his life, filmm...</td>\n",
       "      <td>25.0</td>\n",
       "      <td>9.0</td>\n",
       "      <td>2021.0</td>\n",
       "      <td>6.0</td>\n",
       "    </tr>\n",
       "    <tr>\n",
       "      <th>1</th>\n",
       "      <td>TV Show</td>\n",
       "      <td>Blood &amp; Water</td>\n",
       "      <td>NaN</td>\n",
       "      <td>Ama Qamata, Khosi Ngema, Gail Mabalane, Thaban...</td>\n",
       "      <td>South Africa</td>\n",
       "      <td>2021-09-24</td>\n",
       "      <td>2021</td>\n",
       "      <td>TV-MA</td>\n",
       "      <td>2 Seasons</td>\n",
       "      <td>International TV Shows, TV Dramas, TV Mysteries</td>\n",
       "      <td>After crossing paths at a party, a Cape Town t...</td>\n",
       "      <td>24.0</td>\n",
       "      <td>9.0</td>\n",
       "      <td>2021.0</td>\n",
       "      <td>5.0</td>\n",
       "    </tr>\n",
       "    <tr>\n",
       "      <th>2</th>\n",
       "      <td>TV Show</td>\n",
       "      <td>Ganglands</td>\n",
       "      <td>Julien Leclercq</td>\n",
       "      <td>Sami Bouajila, Tracy Gotoas, Samuel Jouy, Nabi...</td>\n",
       "      <td>NaN</td>\n",
       "      <td>2021-09-24</td>\n",
       "      <td>2021</td>\n",
       "      <td>TV-MA</td>\n",
       "      <td>1 Season</td>\n",
       "      <td>Crime TV Shows, International TV Shows, TV Act...</td>\n",
       "      <td>To protect his family from a powerful drug lor...</td>\n",
       "      <td>24.0</td>\n",
       "      <td>9.0</td>\n",
       "      <td>2021.0</td>\n",
       "      <td>5.0</td>\n",
       "    </tr>\n",
       "    <tr>\n",
       "      <th>3</th>\n",
       "      <td>TV Show</td>\n",
       "      <td>Jailbirds New Orleans</td>\n",
       "      <td>NaN</td>\n",
       "      <td>NaN</td>\n",
       "      <td>NaN</td>\n",
       "      <td>2021-09-24</td>\n",
       "      <td>2021</td>\n",
       "      <td>TV-MA</td>\n",
       "      <td>1 Season</td>\n",
       "      <td>Docuseries, Reality TV</td>\n",
       "      <td>Feuds, flirtations and toilet talk go down amo...</td>\n",
       "      <td>24.0</td>\n",
       "      <td>9.0</td>\n",
       "      <td>2021.0</td>\n",
       "      <td>5.0</td>\n",
       "    </tr>\n",
       "    <tr>\n",
       "      <th>4</th>\n",
       "      <td>TV Show</td>\n",
       "      <td>Kota Factory</td>\n",
       "      <td>NaN</td>\n",
       "      <td>Mayur More, Jitendra Kumar, Ranjan Raj, Alam K...</td>\n",
       "      <td>India</td>\n",
       "      <td>2021-09-24</td>\n",
       "      <td>2021</td>\n",
       "      <td>TV-MA</td>\n",
       "      <td>2 Seasons</td>\n",
       "      <td>International TV Shows, Romantic TV Shows, TV ...</td>\n",
       "      <td>In a city of coaching centers known to train I...</td>\n",
       "      <td>24.0</td>\n",
       "      <td>9.0</td>\n",
       "      <td>2021.0</td>\n",
       "      <td>5.0</td>\n",
       "    </tr>\n",
       "  </tbody>\n",
       "</table>\n",
       "</div>"
      ],
      "text/plain": [
       "      type                  title         director  \\\n",
       "0    Movie   Dick Johnson Is Dead  Kirsten Johnson   \n",
       "1  TV Show          Blood & Water              NaN   \n",
       "2  TV Show              Ganglands  Julien Leclercq   \n",
       "3  TV Show  Jailbirds New Orleans              NaN   \n",
       "4  TV Show           Kota Factory              NaN   \n",
       "\n",
       "                                                cast        country  \\\n",
       "0                                                NaN  United States   \n",
       "1  Ama Qamata, Khosi Ngema, Gail Mabalane, Thaban...   South Africa   \n",
       "2  Sami Bouajila, Tracy Gotoas, Samuel Jouy, Nabi...            NaN   \n",
       "3                                                NaN            NaN   \n",
       "4  Mayur More, Jitendra Kumar, Ranjan Raj, Alam K...          India   \n",
       "\n",
       "  date_added  release_year rating   duration  \\\n",
       "0 2021-09-25          2020  PG-13     90 min   \n",
       "1 2021-09-24          2021  TV-MA  2 Seasons   \n",
       "2 2021-09-24          2021  TV-MA   1 Season   \n",
       "3 2021-09-24          2021  TV-MA   1 Season   \n",
       "4 2021-09-24          2021  TV-MA  2 Seasons   \n",
       "\n",
       "                                           listed_in  \\\n",
       "0                                      Documentaries   \n",
       "1    International TV Shows, TV Dramas, TV Mysteries   \n",
       "2  Crime TV Shows, International TV Shows, TV Act...   \n",
       "3                             Docuseries, Reality TV   \n",
       "4  International TV Shows, Romantic TV Shows, TV ...   \n",
       "\n",
       "                                         description   day  month    year  \\\n",
       "0  As her father nears the end of his life, filmm...  25.0    9.0  2021.0   \n",
       "1  After crossing paths at a party, a Cape Town t...  24.0    9.0  2021.0   \n",
       "2  To protect his family from a powerful drug lor...  24.0    9.0  2021.0   \n",
       "3  Feuds, flirtations and toilet talk go down amo...  24.0    9.0  2021.0   \n",
       "4  In a city of coaching centers known to train I...  24.0    9.0  2021.0   \n",
       "\n",
       "   weekday  \n",
       "0      6.0  \n",
       "1      5.0  \n",
       "2      5.0  \n",
       "3      5.0  \n",
       "4      5.0  "
      ]
     },
     "execution_count": 9,
     "metadata": {},
     "output_type": "execute_result"
    }
   ],
   "source": [
    "netflix_df.head()"
   ]
  },
  {
   "cell_type": "code",
   "execution_count": 10,
   "id": "80058ff7",
   "metadata": {},
   "outputs": [
    {
     "data": {
      "text/plain": [
       "True"
      ]
     },
     "execution_count": 10,
     "metadata": {},
     "output_type": "execute_result"
    }
   ],
   "source": [
    "# check if there are null or missing values in the dataset\n",
    "netflix_df.isnull().values.any()"
   ]
  },
  {
   "cell_type": "code",
   "execution_count": 11,
   "id": "476ff45d",
   "metadata": {},
   "outputs": [
    {
     "data": {
      "text/plain": [
       "Index(['director', 'cast', 'country', 'date_added', 'rating', 'duration',\n",
       "       'day', 'month', 'year', 'weekday'],\n",
       "      dtype='object')"
      ]
     },
     "execution_count": 11,
     "metadata": {},
     "output_type": "execute_result"
    }
   ],
   "source": [
    "# check which columns contain null or missing values\n",
    "netflix_df.columns[netflix_df.isnull().any()]"
   ]
  },
  {
   "cell_type": "code",
   "execution_count": 12,
   "id": "183c746a",
   "metadata": {},
   "outputs": [
    {
     "data": {
      "text/plain": [
       "10"
      ]
     },
     "execution_count": 12,
     "metadata": {},
     "output_type": "execute_result"
    }
   ],
   "source": [
    "netflix_df['weekday'].isna().sum()"
   ]
  },
  {
   "cell_type": "code",
   "execution_count": 13,
   "id": "f4b8bd15",
   "metadata": {},
   "outputs": [
    {
     "data": {
      "text/plain": [
       "10"
      ]
     },
     "execution_count": 13,
     "metadata": {},
     "output_type": "execute_result"
    }
   ],
   "source": [
    "netflix_df['day'].isna().sum()"
   ]
  },
  {
   "cell_type": "code",
   "execution_count": 14,
   "id": "8eca4836",
   "metadata": {},
   "outputs": [
    {
     "data": {
      "text/plain": [
       "10"
      ]
     },
     "execution_count": 14,
     "metadata": {},
     "output_type": "execute_result"
    }
   ],
   "source": [
    "netflix_df['month'].isna().sum()"
   ]
  },
  {
   "cell_type": "code",
   "execution_count": 15,
   "id": "7b43bc09",
   "metadata": {},
   "outputs": [
    {
     "data": {
      "text/plain": [
       "10"
      ]
     },
     "execution_count": 15,
     "metadata": {},
     "output_type": "execute_result"
    }
   ],
   "source": [
    "netflix_df['year'].isna().sum()"
   ]
  },
  {
   "cell_type": "code",
   "execution_count": 16,
   "id": "110b282d",
   "metadata": {},
   "outputs": [],
   "source": [
    "# there are very low number of nulls in date columns so I simply drop them\n",
    "netflix_df.dropna(axis=0, how=\"any\", thresh=None, subset=['day', 'weekday', 'month', 'year'], inplace=True)"
   ]
  },
  {
   "cell_type": "code",
   "execution_count": 17,
   "id": "5f7855a3",
   "metadata": {},
   "outputs": [],
   "source": [
    "# changing type of the numeric columns from float to int\n",
    "netflix_df[['day', 'weekday', 'month', 'year']] = netflix_df[['day', 'weekday', 'month', 'year']].astype(int)"
   ]
  },
  {
   "cell_type": "code",
   "execution_count": 18,
   "id": "62fe3f1b",
   "metadata": {},
   "outputs": [
    {
     "data": {
      "text/plain": [
       "array(['PG-13', 'TV-MA', 'PG', 'TV-14', 'TV-PG', 'TV-Y', 'TV-Y7', 'R',\n",
       "       'TV-G', 'G', 'NC-17', '74 min', '84 min', '66 min', 'NR', nan,\n",
       "       'TV-Y7-FV', 'UR'], dtype=object)"
      ]
     },
     "execution_count": 18,
     "metadata": {},
     "output_type": "execute_result"
    }
   ],
   "source": [
    "netflix_df['rating'].unique()"
   ]
  },
  {
   "cell_type": "code",
   "execution_count": 19,
   "id": "1f44c16e",
   "metadata": {},
   "outputs": [],
   "source": [
    "# some values in 'rating' column doesn`t fit to it, so I replce them with NaN\n",
    "netflix_df.where(~(netflix_df.rating.str.contains('min', na=False)), np.nan, inplace=True)"
   ]
  },
  {
   "cell_type": "code",
   "execution_count": 20,
   "id": "d1568b8a",
   "metadata": {},
   "outputs": [
    {
     "data": {
      "text/html": [
       "<div>\n",
       "<style scoped>\n",
       "    .dataframe tbody tr th:only-of-type {\n",
       "        vertical-align: middle;\n",
       "    }\n",
       "\n",
       "    .dataframe tbody tr th {\n",
       "        vertical-align: top;\n",
       "    }\n",
       "\n",
       "    .dataframe thead th {\n",
       "        text-align: right;\n",
       "    }\n",
       "</style>\n",
       "<table border=\"1\" class=\"dataframe\">\n",
       "  <thead>\n",
       "    <tr style=\"text-align: right;\">\n",
       "      <th></th>\n",
       "      <th>release_year</th>\n",
       "      <th>day</th>\n",
       "      <th>month</th>\n",
       "      <th>year</th>\n",
       "      <th>weekday</th>\n",
       "    </tr>\n",
       "  </thead>\n",
       "  <tbody>\n",
       "    <tr>\n",
       "      <th>count</th>\n",
       "      <td>8794.000000</td>\n",
       "      <td>8794.000000</td>\n",
       "      <td>8794.000000</td>\n",
       "      <td>8794.000000</td>\n",
       "      <td>8794.000000</td>\n",
       "    </tr>\n",
       "    <tr>\n",
       "      <th>mean</th>\n",
       "      <td>2014.183534</td>\n",
       "      <td>12.497612</td>\n",
       "      <td>6.654878</td>\n",
       "      <td>2018.872754</td>\n",
       "      <td>4.017285</td>\n",
       "    </tr>\n",
       "    <tr>\n",
       "      <th>std</th>\n",
       "      <td>8.823527</td>\n",
       "      <td>9.888716</td>\n",
       "      <td>3.436903</td>\n",
       "      <td>1.573789</td>\n",
       "      <td>1.727461</td>\n",
       "    </tr>\n",
       "    <tr>\n",
       "      <th>min</th>\n",
       "      <td>1925.000000</td>\n",
       "      <td>1.000000</td>\n",
       "      <td>1.000000</td>\n",
       "      <td>2008.000000</td>\n",
       "      <td>1.000000</td>\n",
       "    </tr>\n",
       "    <tr>\n",
       "      <th>25%</th>\n",
       "      <td>2013.000000</td>\n",
       "      <td>1.000000</td>\n",
       "      <td>4.000000</td>\n",
       "      <td>2018.000000</td>\n",
       "      <td>3.000000</td>\n",
       "    </tr>\n",
       "    <tr>\n",
       "      <th>50%</th>\n",
       "      <td>2017.000000</td>\n",
       "      <td>13.000000</td>\n",
       "      <td>7.000000</td>\n",
       "      <td>2019.000000</td>\n",
       "      <td>4.000000</td>\n",
       "    </tr>\n",
       "    <tr>\n",
       "      <th>75%</th>\n",
       "      <td>2019.000000</td>\n",
       "      <td>20.000000</td>\n",
       "      <td>10.000000</td>\n",
       "      <td>2020.000000</td>\n",
       "      <td>5.000000</td>\n",
       "    </tr>\n",
       "    <tr>\n",
       "      <th>max</th>\n",
       "      <td>2021.000000</td>\n",
       "      <td>31.000000</td>\n",
       "      <td>12.000000</td>\n",
       "      <td>2021.000000</td>\n",
       "      <td>7.000000</td>\n",
       "    </tr>\n",
       "  </tbody>\n",
       "</table>\n",
       "</div>"
      ],
      "text/plain": [
       "       release_year          day        month         year      weekday\n",
       "count   8794.000000  8794.000000  8794.000000  8794.000000  8794.000000\n",
       "mean    2014.183534    12.497612     6.654878  2018.872754     4.017285\n",
       "std        8.823527     9.888716     3.436903     1.573789     1.727461\n",
       "min     1925.000000     1.000000     1.000000  2008.000000     1.000000\n",
       "25%     2013.000000     1.000000     4.000000  2018.000000     3.000000\n",
       "50%     2017.000000    13.000000     7.000000  2019.000000     4.000000\n",
       "75%     2019.000000    20.000000    10.000000  2020.000000     5.000000\n",
       "max     2021.000000    31.000000    12.000000  2021.000000     7.000000"
      ]
     },
     "execution_count": 20,
     "metadata": {},
     "output_type": "execute_result"
    }
   ],
   "source": [
    "netflix_df.describe()"
   ]
  },
  {
   "cell_type": "code",
   "execution_count": 21,
   "id": "97487da7",
   "metadata": {},
   "outputs": [],
   "source": [
    "# From the description I don't see any incorret values of numeric columns \n",
    "# (like, for example, day of month greater than 31 or month grater than 12)"
   ]
  },
  {
   "cell_type": "code",
   "execution_count": 22,
   "id": "06273f1e",
   "metadata": {},
   "outputs": [
    {
     "data": {
      "text/plain": [
       "array(['Movie', 'TV Show', nan], dtype=object)"
      ]
     },
     "execution_count": 22,
     "metadata": {},
     "output_type": "execute_result"
    }
   ],
   "source": [
    "netflix_df['type'].unique()"
   ]
  },
  {
   "cell_type": "code",
   "execution_count": 23,
   "id": "93905a2d",
   "metadata": {},
   "outputs": [],
   "source": [
    "# making a copy of dataset that contains just series \n",
    "series_df = netflix_df.loc[netflix_df['type'] == 'TV Show'].copy()"
   ]
  },
  {
   "cell_type": "code",
   "execution_count": 24,
   "id": "941700e2",
   "metadata": {},
   "outputs": [],
   "source": [
    "# making a copy of dataset that contains just movies \n",
    "movies_df = netflix_df.loc[netflix_df['type'] == 'Movie'].copy()"
   ]
  },
  {
   "cell_type": "code",
   "execution_count": 25,
   "id": "ce777b98",
   "metadata": {
    "scrolled": true
   },
   "outputs": [
    {
     "data": {
      "text/html": [
       "<div>\n",
       "<style scoped>\n",
       "    .dataframe tbody tr th:only-of-type {\n",
       "        vertical-align: middle;\n",
       "    }\n",
       "\n",
       "    .dataframe tbody tr th {\n",
       "        vertical-align: top;\n",
       "    }\n",
       "\n",
       "    .dataframe thead th {\n",
       "        text-align: right;\n",
       "    }\n",
       "</style>\n",
       "<table border=\"1\" class=\"dataframe\">\n",
       "  <thead>\n",
       "    <tr style=\"text-align: right;\">\n",
       "      <th></th>\n",
       "      <th>type</th>\n",
       "      <th>title</th>\n",
       "      <th>director</th>\n",
       "      <th>cast</th>\n",
       "      <th>country</th>\n",
       "      <th>date_added</th>\n",
       "      <th>release_year</th>\n",
       "      <th>rating</th>\n",
       "      <th>duration</th>\n",
       "      <th>listed_in</th>\n",
       "      <th>description</th>\n",
       "      <th>day</th>\n",
       "      <th>month</th>\n",
       "      <th>year</th>\n",
       "      <th>weekday</th>\n",
       "    </tr>\n",
       "  </thead>\n",
       "  <tbody>\n",
       "    <tr>\n",
       "      <th>1</th>\n",
       "      <td>TV Show</td>\n",
       "      <td>Blood &amp; Water</td>\n",
       "      <td>NaN</td>\n",
       "      <td>Ama Qamata, Khosi Ngema, Gail Mabalane, Thaban...</td>\n",
       "      <td>South Africa</td>\n",
       "      <td>2021-09-24</td>\n",
       "      <td>2021.0</td>\n",
       "      <td>TV-MA</td>\n",
       "      <td>2 Seasons</td>\n",
       "      <td>International TV Shows, TV Dramas, TV Mysteries</td>\n",
       "      <td>After crossing paths at a party, a Cape Town t...</td>\n",
       "      <td>24.0</td>\n",
       "      <td>9.0</td>\n",
       "      <td>2021.0</td>\n",
       "      <td>5.0</td>\n",
       "    </tr>\n",
       "    <tr>\n",
       "      <th>2</th>\n",
       "      <td>TV Show</td>\n",
       "      <td>Ganglands</td>\n",
       "      <td>Julien Leclercq</td>\n",
       "      <td>Sami Bouajila, Tracy Gotoas, Samuel Jouy, Nabi...</td>\n",
       "      <td>NaN</td>\n",
       "      <td>2021-09-24</td>\n",
       "      <td>2021.0</td>\n",
       "      <td>TV-MA</td>\n",
       "      <td>1 Season</td>\n",
       "      <td>Crime TV Shows, International TV Shows, TV Act...</td>\n",
       "      <td>To protect his family from a powerful drug lor...</td>\n",
       "      <td>24.0</td>\n",
       "      <td>9.0</td>\n",
       "      <td>2021.0</td>\n",
       "      <td>5.0</td>\n",
       "    </tr>\n",
       "    <tr>\n",
       "      <th>3</th>\n",
       "      <td>TV Show</td>\n",
       "      <td>Jailbirds New Orleans</td>\n",
       "      <td>NaN</td>\n",
       "      <td>NaN</td>\n",
       "      <td>NaN</td>\n",
       "      <td>2021-09-24</td>\n",
       "      <td>2021.0</td>\n",
       "      <td>TV-MA</td>\n",
       "      <td>1 Season</td>\n",
       "      <td>Docuseries, Reality TV</td>\n",
       "      <td>Feuds, flirtations and toilet talk go down amo...</td>\n",
       "      <td>24.0</td>\n",
       "      <td>9.0</td>\n",
       "      <td>2021.0</td>\n",
       "      <td>5.0</td>\n",
       "    </tr>\n",
       "    <tr>\n",
       "      <th>4</th>\n",
       "      <td>TV Show</td>\n",
       "      <td>Kota Factory</td>\n",
       "      <td>NaN</td>\n",
       "      <td>Mayur More, Jitendra Kumar, Ranjan Raj, Alam K...</td>\n",
       "      <td>India</td>\n",
       "      <td>2021-09-24</td>\n",
       "      <td>2021.0</td>\n",
       "      <td>TV-MA</td>\n",
       "      <td>2 Seasons</td>\n",
       "      <td>International TV Shows, Romantic TV Shows, TV ...</td>\n",
       "      <td>In a city of coaching centers known to train I...</td>\n",
       "      <td>24.0</td>\n",
       "      <td>9.0</td>\n",
       "      <td>2021.0</td>\n",
       "      <td>5.0</td>\n",
       "    </tr>\n",
       "    <tr>\n",
       "      <th>5</th>\n",
       "      <td>TV Show</td>\n",
       "      <td>Midnight Mass</td>\n",
       "      <td>Mike Flanagan</td>\n",
       "      <td>Kate Siegel, Zach Gilford, Hamish Linklater, H...</td>\n",
       "      <td>NaN</td>\n",
       "      <td>2021-09-24</td>\n",
       "      <td>2021.0</td>\n",
       "      <td>TV-MA</td>\n",
       "      <td>1 Season</td>\n",
       "      <td>TV Dramas, TV Horror, TV Mysteries</td>\n",
       "      <td>The arrival of a charismatic young priest brin...</td>\n",
       "      <td>24.0</td>\n",
       "      <td>9.0</td>\n",
       "      <td>2021.0</td>\n",
       "      <td>5.0</td>\n",
       "    </tr>\n",
       "    <tr>\n",
       "      <th>...</th>\n",
       "      <td>...</td>\n",
       "      <td>...</td>\n",
       "      <td>...</td>\n",
       "      <td>...</td>\n",
       "      <td>...</td>\n",
       "      <td>...</td>\n",
       "      <td>...</td>\n",
       "      <td>...</td>\n",
       "      <td>...</td>\n",
       "      <td>...</td>\n",
       "      <td>...</td>\n",
       "      <td>...</td>\n",
       "      <td>...</td>\n",
       "      <td>...</td>\n",
       "      <td>...</td>\n",
       "    </tr>\n",
       "    <tr>\n",
       "      <th>8795</th>\n",
       "      <td>TV Show</td>\n",
       "      <td>Yu-Gi-Oh! Arc-V</td>\n",
       "      <td>NaN</td>\n",
       "      <td>Mike Liscio, Emily Bauer, Billy Bob Thompson, ...</td>\n",
       "      <td>Japan, Canada</td>\n",
       "      <td>2018-05-01</td>\n",
       "      <td>2015.0</td>\n",
       "      <td>TV-Y7</td>\n",
       "      <td>2 Seasons</td>\n",
       "      <td>Anime Series, Kids' TV</td>\n",
       "      <td>Now that he's discovered the Pendulum Summonin...</td>\n",
       "      <td>1.0</td>\n",
       "      <td>5.0</td>\n",
       "      <td>2018.0</td>\n",
       "      <td>2.0</td>\n",
       "    </tr>\n",
       "    <tr>\n",
       "      <th>8796</th>\n",
       "      <td>TV Show</td>\n",
       "      <td>Yunus Emre</td>\n",
       "      <td>NaN</td>\n",
       "      <td>Gökhan Atalay, Payidar Tüfekçioglu, Baran Akbu...</td>\n",
       "      <td>Turkey</td>\n",
       "      <td>2017-01-17</td>\n",
       "      <td>2016.0</td>\n",
       "      <td>TV-PG</td>\n",
       "      <td>2 Seasons</td>\n",
       "      <td>International TV Shows, TV Dramas</td>\n",
       "      <td>During the Mongol invasions, Yunus Emre leaves...</td>\n",
       "      <td>17.0</td>\n",
       "      <td>1.0</td>\n",
       "      <td>2017.0</td>\n",
       "      <td>2.0</td>\n",
       "    </tr>\n",
       "    <tr>\n",
       "      <th>8797</th>\n",
       "      <td>TV Show</td>\n",
       "      <td>Zak Storm</td>\n",
       "      <td>NaN</td>\n",
       "      <td>Michael Johnston, Jessica Gee-George, Christin...</td>\n",
       "      <td>United States, France, South Korea, Indonesia</td>\n",
       "      <td>2018-09-13</td>\n",
       "      <td>2016.0</td>\n",
       "      <td>TV-Y7</td>\n",
       "      <td>3 Seasons</td>\n",
       "      <td>Kids' TV</td>\n",
       "      <td>Teen surfer Zak Storm is mysteriously transpor...</td>\n",
       "      <td>13.0</td>\n",
       "      <td>9.0</td>\n",
       "      <td>2018.0</td>\n",
       "      <td>4.0</td>\n",
       "    </tr>\n",
       "    <tr>\n",
       "      <th>8800</th>\n",
       "      <td>TV Show</td>\n",
       "      <td>Zindagi Gulzar Hai</td>\n",
       "      <td>NaN</td>\n",
       "      <td>Sanam Saeed, Fawad Khan, Ayesha Omer, Mehreen ...</td>\n",
       "      <td>Pakistan</td>\n",
       "      <td>2016-12-15</td>\n",
       "      <td>2012.0</td>\n",
       "      <td>TV-PG</td>\n",
       "      <td>1 Season</td>\n",
       "      <td>International TV Shows, Romantic TV Shows, TV ...</td>\n",
       "      <td>Strong-willed, middle-class Kashaf and carefre...</td>\n",
       "      <td>15.0</td>\n",
       "      <td>12.0</td>\n",
       "      <td>2016.0</td>\n",
       "      <td>4.0</td>\n",
       "    </tr>\n",
       "    <tr>\n",
       "      <th>8803</th>\n",
       "      <td>TV Show</td>\n",
       "      <td>Zombie Dumb</td>\n",
       "      <td>NaN</td>\n",
       "      <td>NaN</td>\n",
       "      <td>NaN</td>\n",
       "      <td>2019-07-01</td>\n",
       "      <td>2018.0</td>\n",
       "      <td>TV-Y7</td>\n",
       "      <td>2 Seasons</td>\n",
       "      <td>Kids' TV, Korean TV Shows, TV Comedies</td>\n",
       "      <td>While living alone in a spooky town, a young g...</td>\n",
       "      <td>1.0</td>\n",
       "      <td>7.0</td>\n",
       "      <td>2019.0</td>\n",
       "      <td>1.0</td>\n",
       "    </tr>\n",
       "  </tbody>\n",
       "</table>\n",
       "<p>2666 rows × 15 columns</p>\n",
       "</div>"
      ],
      "text/plain": [
       "         type                  title         director  \\\n",
       "1     TV Show          Blood & Water              NaN   \n",
       "2     TV Show              Ganglands  Julien Leclercq   \n",
       "3     TV Show  Jailbirds New Orleans              NaN   \n",
       "4     TV Show           Kota Factory              NaN   \n",
       "5     TV Show          Midnight Mass    Mike Flanagan   \n",
       "...       ...                    ...              ...   \n",
       "8795  TV Show        Yu-Gi-Oh! Arc-V              NaN   \n",
       "8796  TV Show             Yunus Emre              NaN   \n",
       "8797  TV Show              Zak Storm              NaN   \n",
       "8800  TV Show     Zindagi Gulzar Hai              NaN   \n",
       "8803  TV Show            Zombie Dumb              NaN   \n",
       "\n",
       "                                                   cast  \\\n",
       "1     Ama Qamata, Khosi Ngema, Gail Mabalane, Thaban...   \n",
       "2     Sami Bouajila, Tracy Gotoas, Samuel Jouy, Nabi...   \n",
       "3                                                   NaN   \n",
       "4     Mayur More, Jitendra Kumar, Ranjan Raj, Alam K...   \n",
       "5     Kate Siegel, Zach Gilford, Hamish Linklater, H...   \n",
       "...                                                 ...   \n",
       "8795  Mike Liscio, Emily Bauer, Billy Bob Thompson, ...   \n",
       "8796  Gökhan Atalay, Payidar Tüfekçioglu, Baran Akbu...   \n",
       "8797  Michael Johnston, Jessica Gee-George, Christin...   \n",
       "8800  Sanam Saeed, Fawad Khan, Ayesha Omer, Mehreen ...   \n",
       "8803                                                NaN   \n",
       "\n",
       "                                            country date_added  release_year  \\\n",
       "1                                      South Africa 2021-09-24        2021.0   \n",
       "2                                               NaN 2021-09-24        2021.0   \n",
       "3                                               NaN 2021-09-24        2021.0   \n",
       "4                                             India 2021-09-24        2021.0   \n",
       "5                                               NaN 2021-09-24        2021.0   \n",
       "...                                             ...        ...           ...   \n",
       "8795                                  Japan, Canada 2018-05-01        2015.0   \n",
       "8796                                         Turkey 2017-01-17        2016.0   \n",
       "8797  United States, France, South Korea, Indonesia 2018-09-13        2016.0   \n",
       "8800                                       Pakistan 2016-12-15        2012.0   \n",
       "8803                                            NaN 2019-07-01        2018.0   \n",
       "\n",
       "     rating   duration                                          listed_in  \\\n",
       "1     TV-MA  2 Seasons    International TV Shows, TV Dramas, TV Mysteries   \n",
       "2     TV-MA   1 Season  Crime TV Shows, International TV Shows, TV Act...   \n",
       "3     TV-MA   1 Season                             Docuseries, Reality TV   \n",
       "4     TV-MA  2 Seasons  International TV Shows, Romantic TV Shows, TV ...   \n",
       "5     TV-MA   1 Season                 TV Dramas, TV Horror, TV Mysteries   \n",
       "...     ...        ...                                                ...   \n",
       "8795  TV-Y7  2 Seasons                             Anime Series, Kids' TV   \n",
       "8796  TV-PG  2 Seasons                  International TV Shows, TV Dramas   \n",
       "8797  TV-Y7  3 Seasons                                           Kids' TV   \n",
       "8800  TV-PG   1 Season  International TV Shows, Romantic TV Shows, TV ...   \n",
       "8803  TV-Y7  2 Seasons             Kids' TV, Korean TV Shows, TV Comedies   \n",
       "\n",
       "                                            description   day  month    year  \\\n",
       "1     After crossing paths at a party, a Cape Town t...  24.0    9.0  2021.0   \n",
       "2     To protect his family from a powerful drug lor...  24.0    9.0  2021.0   \n",
       "3     Feuds, flirtations and toilet talk go down amo...  24.0    9.0  2021.0   \n",
       "4     In a city of coaching centers known to train I...  24.0    9.0  2021.0   \n",
       "5     The arrival of a charismatic young priest brin...  24.0    9.0  2021.0   \n",
       "...                                                 ...   ...    ...     ...   \n",
       "8795  Now that he's discovered the Pendulum Summonin...   1.0    5.0  2018.0   \n",
       "8796  During the Mongol invasions, Yunus Emre leaves...  17.0    1.0  2017.0   \n",
       "8797  Teen surfer Zak Storm is mysteriously transpor...  13.0    9.0  2018.0   \n",
       "8800  Strong-willed, middle-class Kashaf and carefre...  15.0   12.0  2016.0   \n",
       "8803  While living alone in a spooky town, a young g...   1.0    7.0  2019.0   \n",
       "\n",
       "      weekday  \n",
       "1         5.0  \n",
       "2         5.0  \n",
       "3         5.0  \n",
       "4         5.0  \n",
       "5         5.0  \n",
       "...       ...  \n",
       "8795      2.0  \n",
       "8796      2.0  \n",
       "8797      4.0  \n",
       "8800      4.0  \n",
       "8803      1.0  \n",
       "\n",
       "[2666 rows x 15 columns]"
      ]
     },
     "execution_count": 25,
     "metadata": {},
     "output_type": "execute_result"
    }
   ],
   "source": [
    "series_df"
   ]
  },
  {
   "cell_type": "code",
   "execution_count": 26,
   "id": "144f7cff",
   "metadata": {},
   "outputs": [
    {
     "data": {
      "text/plain": [
       "(2666, 15)"
      ]
     },
     "execution_count": 26,
     "metadata": {},
     "output_type": "execute_result"
    }
   ],
   "source": [
    "series_df.shape"
   ]
  },
  {
   "cell_type": "code",
   "execution_count": 27,
   "id": "aa88c677",
   "metadata": {},
   "outputs": [
    {
     "data": {
      "text/plain": [
       "Index(['director', 'cast', 'country', 'rating'], dtype='object')"
      ]
     },
     "execution_count": 27,
     "metadata": {},
     "output_type": "execute_result"
    }
   ],
   "source": [
    "series_df.columns[series_df.isna().any()]"
   ]
  },
  {
   "cell_type": "code",
   "execution_count": 28,
   "id": "c633e69a",
   "metadata": {},
   "outputs": [
    {
     "data": {
      "text/plain": [
       "2436"
      ]
     },
     "execution_count": 28,
     "metadata": {},
     "output_type": "execute_result"
    }
   ],
   "source": [
    "series_df['director'].isna().sum()"
   ]
  },
  {
   "cell_type": "code",
   "execution_count": 29,
   "id": "a35c7611",
   "metadata": {},
   "outputs": [],
   "source": [
    "# 2446 of 2676 rows of 'director' in series_df are nulls, so this column is not very relevant\n",
    "series_df = series_df.drop('director', axis=1)"
   ]
  },
  {
   "cell_type": "code",
   "execution_count": 30,
   "id": "af2a3086",
   "metadata": {},
   "outputs": [
    {
     "data": {
      "text/plain": [
       "390"
      ]
     },
     "execution_count": 30,
     "metadata": {},
     "output_type": "execute_result"
    }
   ],
   "source": [
    "series_df['country'].isna().sum()"
   ]
  },
  {
   "cell_type": "code",
   "execution_count": 31,
   "id": "690e5162",
   "metadata": {},
   "outputs": [
    {
     "data": {
      "text/plain": [
       "350"
      ]
     },
     "execution_count": 31,
     "metadata": {},
     "output_type": "execute_result"
    }
   ],
   "source": [
    "series_df['cast'].isna().sum()"
   ]
  },
  {
   "cell_type": "code",
   "execution_count": 32,
   "id": "47163096",
   "metadata": {},
   "outputs": [
    {
     "data": {
      "text/plain": [
       "0"
      ]
     },
     "execution_count": 32,
     "metadata": {},
     "output_type": "execute_result"
    }
   ],
   "source": [
    "series_df['date_added'].isna().sum()"
   ]
  },
  {
   "cell_type": "code",
   "execution_count": 33,
   "id": "f95d85c4",
   "metadata": {},
   "outputs": [],
   "source": [
    "series_df.rename(columns={'duration': 'seasons_num'}, inplace=True)"
   ]
  },
  {
   "cell_type": "code",
   "execution_count": 34,
   "id": "05699e64",
   "metadata": {},
   "outputs": [],
   "source": [
    "# simplify values of seasons_num column by extracting digits; for example '1 season' will be just '1'\n",
    "series_df['seasons_num'] = series_df['seasons_num'].str.extract('(\\d+)', expand=False)"
   ]
  },
  {
   "cell_type": "code",
   "execution_count": 35,
   "id": "e376263d",
   "metadata": {},
   "outputs": [],
   "source": [
    "series_df['seasons_num'] = series_df['seasons_num'].astype(int)"
   ]
  },
  {
   "cell_type": "code",
   "execution_count": 36,
   "id": "f3f6f9fa",
   "metadata": {},
   "outputs": [
    {
     "name": "stdout",
     "output_type": "stream",
     "text": [
      "<class 'pandas.core.frame.DataFrame'>\n",
      "Int64Index: 2666 entries, 1 to 8803\n",
      "Data columns (total 14 columns):\n",
      " #   Column        Non-Null Count  Dtype         \n",
      "---  ------        --------------  -----         \n",
      " 0   type          2666 non-null   object        \n",
      " 1   title         2666 non-null   object        \n",
      " 2   cast          2316 non-null   object        \n",
      " 3   country       2276 non-null   object        \n",
      " 4   date_added    2666 non-null   datetime64[ns]\n",
      " 5   release_year  2666 non-null   float64       \n",
      " 6   rating        2664 non-null   object        \n",
      " 7   seasons_num   2666 non-null   int32         \n",
      " 8   listed_in     2666 non-null   object        \n",
      " 9   description   2666 non-null   object        \n",
      " 10  day           2666 non-null   float64       \n",
      " 11  month         2666 non-null   float64       \n",
      " 12  year          2666 non-null   float64       \n",
      " 13  weekday       2666 non-null   float64       \n",
      "dtypes: datetime64[ns](1), float64(5), int32(1), object(7)\n",
      "memory usage: 302.0+ KB\n"
     ]
    }
   ],
   "source": [
    "series_df.info()"
   ]
  },
  {
   "cell_type": "code",
   "execution_count": 37,
   "id": "e397f179",
   "metadata": {},
   "outputs": [],
   "source": [
    "# changing type of the numeric columns from float to int\n",
    "series_df[['release_year', 'day', 'weekday', 'month', 'year']] = series_df[['release_year','day', 'weekday', 'month', 'year']].astype(int)"
   ]
  },
  {
   "cell_type": "code",
   "execution_count": 38,
   "id": "e49bac48",
   "metadata": {
    "scrolled": true
   },
   "outputs": [
    {
     "data": {
      "text/html": [
       "<div>\n",
       "<style scoped>\n",
       "    .dataframe tbody tr th:only-of-type {\n",
       "        vertical-align: middle;\n",
       "    }\n",
       "\n",
       "    .dataframe tbody tr th {\n",
       "        vertical-align: top;\n",
       "    }\n",
       "\n",
       "    .dataframe thead th {\n",
       "        text-align: right;\n",
       "    }\n",
       "</style>\n",
       "<table border=\"1\" class=\"dataframe\">\n",
       "  <thead>\n",
       "    <tr style=\"text-align: right;\">\n",
       "      <th></th>\n",
       "      <th>type</th>\n",
       "      <th>title</th>\n",
       "      <th>director</th>\n",
       "      <th>cast</th>\n",
       "      <th>country</th>\n",
       "      <th>date_added</th>\n",
       "      <th>release_year</th>\n",
       "      <th>rating</th>\n",
       "      <th>duration</th>\n",
       "      <th>listed_in</th>\n",
       "      <th>description</th>\n",
       "      <th>day</th>\n",
       "      <th>month</th>\n",
       "      <th>year</th>\n",
       "      <th>weekday</th>\n",
       "    </tr>\n",
       "  </thead>\n",
       "  <tbody>\n",
       "    <tr>\n",
       "      <th>0</th>\n",
       "      <td>Movie</td>\n",
       "      <td>Dick Johnson Is Dead</td>\n",
       "      <td>Kirsten Johnson</td>\n",
       "      <td>NaN</td>\n",
       "      <td>United States</td>\n",
       "      <td>2021-09-25</td>\n",
       "      <td>2020.0</td>\n",
       "      <td>PG-13</td>\n",
       "      <td>90 min</td>\n",
       "      <td>Documentaries</td>\n",
       "      <td>As her father nears the end of his life, filmm...</td>\n",
       "      <td>25.0</td>\n",
       "      <td>9.0</td>\n",
       "      <td>2021.0</td>\n",
       "      <td>6.0</td>\n",
       "    </tr>\n",
       "    <tr>\n",
       "      <th>6</th>\n",
       "      <td>Movie</td>\n",
       "      <td>My Little Pony: A New Generation</td>\n",
       "      <td>Robert Cullen, José Luis Ucha</td>\n",
       "      <td>Vanessa Hudgens, Kimiko Glenn, James Marsden, ...</td>\n",
       "      <td>NaN</td>\n",
       "      <td>2021-09-24</td>\n",
       "      <td>2021.0</td>\n",
       "      <td>PG</td>\n",
       "      <td>91 min</td>\n",
       "      <td>Children &amp; Family Movies</td>\n",
       "      <td>Equestria's divided. But a bright-eyed hero be...</td>\n",
       "      <td>24.0</td>\n",
       "      <td>9.0</td>\n",
       "      <td>2021.0</td>\n",
       "      <td>5.0</td>\n",
       "    </tr>\n",
       "    <tr>\n",
       "      <th>7</th>\n",
       "      <td>Movie</td>\n",
       "      <td>Sankofa</td>\n",
       "      <td>Haile Gerima</td>\n",
       "      <td>Kofi Ghanaba, Oyafunmike Ogunlano, Alexandra D...</td>\n",
       "      <td>United States, Ghana, Burkina Faso, United Kin...</td>\n",
       "      <td>2021-09-24</td>\n",
       "      <td>1993.0</td>\n",
       "      <td>TV-MA</td>\n",
       "      <td>125 min</td>\n",
       "      <td>Dramas, Independent Movies, International Movies</td>\n",
       "      <td>On a photo shoot in Ghana, an American model s...</td>\n",
       "      <td>24.0</td>\n",
       "      <td>9.0</td>\n",
       "      <td>2021.0</td>\n",
       "      <td>5.0</td>\n",
       "    </tr>\n",
       "    <tr>\n",
       "      <th>9</th>\n",
       "      <td>Movie</td>\n",
       "      <td>The Starling</td>\n",
       "      <td>Theodore Melfi</td>\n",
       "      <td>Melissa McCarthy, Chris O'Dowd, Kevin Kline, T...</td>\n",
       "      <td>United States</td>\n",
       "      <td>2021-09-24</td>\n",
       "      <td>2021.0</td>\n",
       "      <td>PG-13</td>\n",
       "      <td>104 min</td>\n",
       "      <td>Comedies, Dramas</td>\n",
       "      <td>A woman adjusting to life after a loss contend...</td>\n",
       "      <td>24.0</td>\n",
       "      <td>9.0</td>\n",
       "      <td>2021.0</td>\n",
       "      <td>5.0</td>\n",
       "    </tr>\n",
       "    <tr>\n",
       "      <th>12</th>\n",
       "      <td>Movie</td>\n",
       "      <td>Je Suis Karl</td>\n",
       "      <td>Christian Schwochow</td>\n",
       "      <td>Luna Wedler, Jannis Niewöhner, Milan Peschel, ...</td>\n",
       "      <td>Germany, Czech Republic</td>\n",
       "      <td>2021-09-23</td>\n",
       "      <td>2021.0</td>\n",
       "      <td>TV-MA</td>\n",
       "      <td>127 min</td>\n",
       "      <td>Dramas, International Movies</td>\n",
       "      <td>After most of her family is murdered in a terr...</td>\n",
       "      <td>23.0</td>\n",
       "      <td>9.0</td>\n",
       "      <td>2021.0</td>\n",
       "      <td>4.0</td>\n",
       "    </tr>\n",
       "    <tr>\n",
       "      <th>...</th>\n",
       "      <td>...</td>\n",
       "      <td>...</td>\n",
       "      <td>...</td>\n",
       "      <td>...</td>\n",
       "      <td>...</td>\n",
       "      <td>...</td>\n",
       "      <td>...</td>\n",
       "      <td>...</td>\n",
       "      <td>...</td>\n",
       "      <td>...</td>\n",
       "      <td>...</td>\n",
       "      <td>...</td>\n",
       "      <td>...</td>\n",
       "      <td>...</td>\n",
       "      <td>...</td>\n",
       "    </tr>\n",
       "    <tr>\n",
       "      <th>8801</th>\n",
       "      <td>Movie</td>\n",
       "      <td>Zinzana</td>\n",
       "      <td>Majid Al Ansari</td>\n",
       "      <td>Ali Suliman, Saleh Bakri, Yasa, Ali Al-Jabri, ...</td>\n",
       "      <td>United Arab Emirates, Jordan</td>\n",
       "      <td>2016-03-09</td>\n",
       "      <td>2015.0</td>\n",
       "      <td>TV-MA</td>\n",
       "      <td>96 min</td>\n",
       "      <td>Dramas, International Movies, Thrillers</td>\n",
       "      <td>Recovering alcoholic Talal wakes up inside a s...</td>\n",
       "      <td>9.0</td>\n",
       "      <td>3.0</td>\n",
       "      <td>2016.0</td>\n",
       "      <td>3.0</td>\n",
       "    </tr>\n",
       "    <tr>\n",
       "      <th>8802</th>\n",
       "      <td>Movie</td>\n",
       "      <td>Zodiac</td>\n",
       "      <td>David Fincher</td>\n",
       "      <td>Mark Ruffalo, Jake Gyllenhaal, Robert Downey J...</td>\n",
       "      <td>United States</td>\n",
       "      <td>2019-11-20</td>\n",
       "      <td>2007.0</td>\n",
       "      <td>R</td>\n",
       "      <td>158 min</td>\n",
       "      <td>Cult Movies, Dramas, Thrillers</td>\n",
       "      <td>A political cartoonist, a crime reporter and a...</td>\n",
       "      <td>20.0</td>\n",
       "      <td>11.0</td>\n",
       "      <td>2019.0</td>\n",
       "      <td>3.0</td>\n",
       "    </tr>\n",
       "    <tr>\n",
       "      <th>8804</th>\n",
       "      <td>Movie</td>\n",
       "      <td>Zombieland</td>\n",
       "      <td>Ruben Fleischer</td>\n",
       "      <td>Jesse Eisenberg, Woody Harrelson, Emma Stone, ...</td>\n",
       "      <td>United States</td>\n",
       "      <td>2019-11-01</td>\n",
       "      <td>2009.0</td>\n",
       "      <td>R</td>\n",
       "      <td>88 min</td>\n",
       "      <td>Comedies, Horror Movies</td>\n",
       "      <td>Looking to survive in a world taken over by zo...</td>\n",
       "      <td>1.0</td>\n",
       "      <td>11.0</td>\n",
       "      <td>2019.0</td>\n",
       "      <td>5.0</td>\n",
       "    </tr>\n",
       "    <tr>\n",
       "      <th>8805</th>\n",
       "      <td>Movie</td>\n",
       "      <td>Zoom</td>\n",
       "      <td>Peter Hewitt</td>\n",
       "      <td>Tim Allen, Courteney Cox, Chevy Chase, Kate Ma...</td>\n",
       "      <td>United States</td>\n",
       "      <td>2020-01-11</td>\n",
       "      <td>2006.0</td>\n",
       "      <td>PG</td>\n",
       "      <td>88 min</td>\n",
       "      <td>Children &amp; Family Movies, Comedies</td>\n",
       "      <td>Dragged from civilian life, a former superhero...</td>\n",
       "      <td>11.0</td>\n",
       "      <td>1.0</td>\n",
       "      <td>2020.0</td>\n",
       "      <td>6.0</td>\n",
       "    </tr>\n",
       "    <tr>\n",
       "      <th>8806</th>\n",
       "      <td>Movie</td>\n",
       "      <td>Zubaan</td>\n",
       "      <td>Mozez Singh</td>\n",
       "      <td>Vicky Kaushal, Sarah-Jane Dias, Raaghav Chanan...</td>\n",
       "      <td>India</td>\n",
       "      <td>2019-03-02</td>\n",
       "      <td>2015.0</td>\n",
       "      <td>TV-14</td>\n",
       "      <td>111 min</td>\n",
       "      <td>Dramas, International Movies, Music &amp; Musicals</td>\n",
       "      <td>A scrappy but poor boy worms his way into a ty...</td>\n",
       "      <td>2.0</td>\n",
       "      <td>3.0</td>\n",
       "      <td>2019.0</td>\n",
       "      <td>6.0</td>\n",
       "    </tr>\n",
       "  </tbody>\n",
       "</table>\n",
       "<p>6128 rows × 15 columns</p>\n",
       "</div>"
      ],
      "text/plain": [
       "       type                             title                       director  \\\n",
       "0     Movie              Dick Johnson Is Dead                Kirsten Johnson   \n",
       "6     Movie  My Little Pony: A New Generation  Robert Cullen, José Luis Ucha   \n",
       "7     Movie                           Sankofa                   Haile Gerima   \n",
       "9     Movie                      The Starling                 Theodore Melfi   \n",
       "12    Movie                      Je Suis Karl            Christian Schwochow   \n",
       "...     ...                               ...                            ...   \n",
       "8801  Movie                           Zinzana                Majid Al Ansari   \n",
       "8802  Movie                            Zodiac                  David Fincher   \n",
       "8804  Movie                        Zombieland                Ruben Fleischer   \n",
       "8805  Movie                              Zoom                   Peter Hewitt   \n",
       "8806  Movie                            Zubaan                    Mozez Singh   \n",
       "\n",
       "                                                   cast  \\\n",
       "0                                                   NaN   \n",
       "6     Vanessa Hudgens, Kimiko Glenn, James Marsden, ...   \n",
       "7     Kofi Ghanaba, Oyafunmike Ogunlano, Alexandra D...   \n",
       "9     Melissa McCarthy, Chris O'Dowd, Kevin Kline, T...   \n",
       "12    Luna Wedler, Jannis Niewöhner, Milan Peschel, ...   \n",
       "...                                                 ...   \n",
       "8801  Ali Suliman, Saleh Bakri, Yasa, Ali Al-Jabri, ...   \n",
       "8802  Mark Ruffalo, Jake Gyllenhaal, Robert Downey J...   \n",
       "8804  Jesse Eisenberg, Woody Harrelson, Emma Stone, ...   \n",
       "8805  Tim Allen, Courteney Cox, Chevy Chase, Kate Ma...   \n",
       "8806  Vicky Kaushal, Sarah-Jane Dias, Raaghav Chanan...   \n",
       "\n",
       "                                                country date_added  \\\n",
       "0                                         United States 2021-09-25   \n",
       "6                                                   NaN 2021-09-24   \n",
       "7     United States, Ghana, Burkina Faso, United Kin... 2021-09-24   \n",
       "9                                         United States 2021-09-24   \n",
       "12                              Germany, Czech Republic 2021-09-23   \n",
       "...                                                 ...        ...   \n",
       "8801                       United Arab Emirates, Jordan 2016-03-09   \n",
       "8802                                      United States 2019-11-20   \n",
       "8804                                      United States 2019-11-01   \n",
       "8805                                      United States 2020-01-11   \n",
       "8806                                              India 2019-03-02   \n",
       "\n",
       "      release_year rating duration  \\\n",
       "0           2020.0  PG-13   90 min   \n",
       "6           2021.0     PG   91 min   \n",
       "7           1993.0  TV-MA  125 min   \n",
       "9           2021.0  PG-13  104 min   \n",
       "12          2021.0  TV-MA  127 min   \n",
       "...            ...    ...      ...   \n",
       "8801        2015.0  TV-MA   96 min   \n",
       "8802        2007.0      R  158 min   \n",
       "8804        2009.0      R   88 min   \n",
       "8805        2006.0     PG   88 min   \n",
       "8806        2015.0  TV-14  111 min   \n",
       "\n",
       "                                             listed_in  \\\n",
       "0                                        Documentaries   \n",
       "6                             Children & Family Movies   \n",
       "7     Dramas, Independent Movies, International Movies   \n",
       "9                                     Comedies, Dramas   \n",
       "12                        Dramas, International Movies   \n",
       "...                                                ...   \n",
       "8801           Dramas, International Movies, Thrillers   \n",
       "8802                    Cult Movies, Dramas, Thrillers   \n",
       "8804                           Comedies, Horror Movies   \n",
       "8805                Children & Family Movies, Comedies   \n",
       "8806    Dramas, International Movies, Music & Musicals   \n",
       "\n",
       "                                            description   day  month    year  \\\n",
       "0     As her father nears the end of his life, filmm...  25.0    9.0  2021.0   \n",
       "6     Equestria's divided. But a bright-eyed hero be...  24.0    9.0  2021.0   \n",
       "7     On a photo shoot in Ghana, an American model s...  24.0    9.0  2021.0   \n",
       "9     A woman adjusting to life after a loss contend...  24.0    9.0  2021.0   \n",
       "12    After most of her family is murdered in a terr...  23.0    9.0  2021.0   \n",
       "...                                                 ...   ...    ...     ...   \n",
       "8801  Recovering alcoholic Talal wakes up inside a s...   9.0    3.0  2016.0   \n",
       "8802  A political cartoonist, a crime reporter and a...  20.0   11.0  2019.0   \n",
       "8804  Looking to survive in a world taken over by zo...   1.0   11.0  2019.0   \n",
       "8805  Dragged from civilian life, a former superhero...  11.0    1.0  2020.0   \n",
       "8806  A scrappy but poor boy worms his way into a ty...   2.0    3.0  2019.0   \n",
       "\n",
       "      weekday  \n",
       "0         6.0  \n",
       "6         5.0  \n",
       "7         5.0  \n",
       "9         5.0  \n",
       "12        4.0  \n",
       "...       ...  \n",
       "8801      3.0  \n",
       "8802      3.0  \n",
       "8804      5.0  \n",
       "8805      6.0  \n",
       "8806      6.0  \n",
       "\n",
       "[6128 rows x 15 columns]"
      ]
     },
     "execution_count": 38,
     "metadata": {},
     "output_type": "execute_result"
    }
   ],
   "source": [
    "movies_df"
   ]
  },
  {
   "cell_type": "code",
   "execution_count": 39,
   "id": "7ee85cba",
   "metadata": {},
   "outputs": [
    {
     "data": {
      "text/plain": [
       "(6128, 15)"
      ]
     },
     "execution_count": 39,
     "metadata": {},
     "output_type": "execute_result"
    }
   ],
   "source": [
    "movies_df.shape"
   ]
  },
  {
   "cell_type": "code",
   "execution_count": 40,
   "id": "e2976f76",
   "metadata": {},
   "outputs": [
    {
     "data": {
      "text/plain": [
       "Index(['director', 'cast', 'country', 'rating'], dtype='object')"
      ]
     },
     "execution_count": 40,
     "metadata": {},
     "output_type": "execute_result"
    }
   ],
   "source": [
    "movies_df.columns[movies_df.isna().any()]"
   ]
  },
  {
   "cell_type": "code",
   "execution_count": 41,
   "id": "0da5f78e",
   "metadata": {},
   "outputs": [
    {
     "data": {
      "text/plain": [
       "188"
      ]
     },
     "execution_count": 41,
     "metadata": {},
     "output_type": "execute_result"
    }
   ],
   "source": [
    "movies_df['director'].isna().sum()"
   ]
  },
  {
   "cell_type": "code",
   "execution_count": 42,
   "id": "89f366f2",
   "metadata": {},
   "outputs": [
    {
     "data": {
      "text/plain": [
       "0"
      ]
     },
     "execution_count": 42,
     "metadata": {},
     "output_type": "execute_result"
    }
   ],
   "source": [
    "movies_df['duration'].isna().sum()"
   ]
  },
  {
   "cell_type": "code",
   "execution_count": 43,
   "id": "8678a64b",
   "metadata": {},
   "outputs": [],
   "source": [
    "movies_df.rename(columns={'duration': 'duration (min)'}, inplace=True)"
   ]
  },
  {
   "cell_type": "code",
   "execution_count": 44,
   "id": "3ea72aee",
   "metadata": {},
   "outputs": [],
   "source": [
    "# simplify values of 'duration (min)' column by extracting digits; for example '90 min' will be '90'\n",
    "movies_df['duration (min)'] = movies_df['duration (min)'].str.extract('(\\d+)', expand=False)"
   ]
  },
  {
   "cell_type": "code",
   "execution_count": 45,
   "id": "ca0a9344",
   "metadata": {},
   "outputs": [],
   "source": [
    "movies_df['duration (min)'] = movies_df['duration (min)'].astype(int)"
   ]
  },
  {
   "cell_type": "code",
   "execution_count": 46,
   "id": "ef9dd17b",
   "metadata": {},
   "outputs": [
    {
     "name": "stdout",
     "output_type": "stream",
     "text": [
      "<class 'pandas.core.frame.DataFrame'>\n",
      "Int64Index: 6128 entries, 0 to 8806\n",
      "Data columns (total 15 columns):\n",
      " #   Column          Non-Null Count  Dtype         \n",
      "---  ------          --------------  -----         \n",
      " 0   type            6128 non-null   object        \n",
      " 1   title           6128 non-null   object        \n",
      " 2   director        5940 non-null   object        \n",
      " 3   cast            5653 non-null   object        \n",
      " 4   country         5688 non-null   object        \n",
      " 5   date_added      6128 non-null   datetime64[ns]\n",
      " 6   release_year    6128 non-null   float64       \n",
      " 7   rating          6126 non-null   object        \n",
      " 8   duration (min)  6128 non-null   int32         \n",
      " 9   listed_in       6128 non-null   object        \n",
      " 10  description     6128 non-null   object        \n",
      " 11  day             6128 non-null   float64       \n",
      " 12  month           6128 non-null   float64       \n",
      " 13  year            6128 non-null   float64       \n",
      " 14  weekday         6128 non-null   float64       \n",
      "dtypes: datetime64[ns](1), float64(5), int32(1), object(8)\n",
      "memory usage: 742.1+ KB\n"
     ]
    }
   ],
   "source": [
    "movies_df.info()"
   ]
  },
  {
   "cell_type": "code",
   "execution_count": 47,
   "id": "4bcd0d4e",
   "metadata": {},
   "outputs": [],
   "source": [
    "# changing type of the numeric columns from float to int\n",
    "movies_df[['release_year', 'day', 'weekday', 'month', 'year']] = movies_df[['release_year','day', 'weekday', 'month', 'year']].astype(int)"
   ]
  },
  {
   "cell_type": "markdown",
   "id": "1135629d",
   "metadata": {},
   "source": [
    "## Analysis"
   ]
  },
  {
   "cell_type": "markdown",
   "id": "9ad862dd",
   "metadata": {},
   "source": [
    "Exploratory data analysis to find interesting insights."
   ]
  },
  {
   "cell_type": "markdown",
   "id": "d8a1e755",
   "metadata": {},
   "source": [
    "### Type"
   ]
  },
  {
   "cell_type": "code",
   "execution_count": 48,
   "id": "1d9d8263",
   "metadata": {},
   "outputs": [
    {
     "data": {
      "text/plain": [
       "Movie      6128\n",
       "TV Show    2666\n",
       "Name: type, dtype: int64"
      ]
     },
     "execution_count": 48,
     "metadata": {},
     "output_type": "execute_result"
    }
   ],
   "source": [
    "type_counts = netflix_df['type'].value_counts()\n",
    "type_counts"
   ]
  },
  {
   "cell_type": "code",
   "execution_count": 49,
   "id": "4c96b7fa",
   "metadata": {
    "scrolled": false
   },
   "outputs": [
    {
     "data": {
      "image/png": "[encoded data removed]",
      "text/plain": [
       "<Figure size 864x432 with 1 Axes>"
      ]
     },
     "metadata": {},
     "output_type": "display_data"
    }
   ],
   "source": [
    "plt.figure(figsize=(12,6))\n",
    "plt.title('Movies vs TV Shows')\n",
    "plt.pie(type_counts, labels=type_counts.index, autopct='%1.1f%%')\n",
    "plt.show()"
   ]
  },
  {
   "cell_type": "markdown",
   "id": "ef35871f",
   "metadata": {},
   "source": [
    "There are much more movies than TV shows in Netflix offer. It is not surprise for me - making series requires much more time than movies (even one-season productions last longer than single movie)."
   ]
  },
  {
   "cell_type": "markdown",
   "id": "1a460492",
   "metadata": {},
   "source": [
    "### Country"
   ]
  },
  {
   "cell_type": "code",
   "execution_count": 50,
   "id": "e7e53bb2",
   "metadata": {},
   "outputs": [
    {
     "data": {
      "text/plain": [
       "United States     2809\n",
       "India              972\n",
       "United Kingdom     418\n",
       "Japan              244\n",
       "South Korea        199\n",
       "Canada             181\n",
       "Spain              145\n",
       "France             124\n",
       "Mexico             110\n",
       "Egypt              106\n",
       "Name: country, dtype: int64"
      ]
     },
     "execution_count": 50,
     "metadata": {},
     "output_type": "execute_result"
    }
   ],
   "source": [
    "country_count = netflix_df['country'].value_counts()\n",
    "country_count.head(10)"
   ]
  },
  {
   "cell_type": "code",
   "execution_count": 51,
   "id": "6d349594",
   "metadata": {},
   "outputs": [
    {
     "data": {
      "image/png": "[encoded data removed]",
      "text/plain": [
       "<Figure size 1152x576 with 1 Axes>"
      ]
     },
     "metadata": {
      "needs_background": "light"
     },
     "output_type": "display_data"
    }
   ],
   "source": [
    "plt.figure(figsize=(16,8))\n",
    "plt.title('TOP countries by number of productions', fontsize=16)\n",
    "plt.ylabel('Number of productions')\n",
    "sns.barplot(x = country_count.head(10).index, y = country_count.head(10).values)\n",
    "plt.show()"
   ]
  },
  {
   "cell_type": "code",
   "execution_count": 52,
   "id": "0df1fe39",
   "metadata": {},
   "outputs": [
    {
     "data": {
      "text/plain": [
       "United States     2055\n",
       "India              893\n",
       "United Kingdom     206\n",
       "Canada             122\n",
       "Spain               97\n",
       "Egypt               92\n",
       "Nigeria             86\n",
       "Indonesia           77\n",
       "Turkey              76\n",
       "Japan               76\n",
       "Name: country, dtype: int64"
      ]
     },
     "execution_count": 52,
     "metadata": {},
     "output_type": "execute_result"
    }
   ],
   "source": [
    "movies_country_count = movies_df['country'].value_counts()\n",
    "movies_country_count.head(10)"
   ]
  },
  {
   "cell_type": "code",
   "execution_count": 53,
   "id": "f55447c2",
   "metadata": {},
   "outputs": [
    {
     "data": {
      "text/plain": [
       "United States     754\n",
       "United Kingdom    212\n",
       "Japan             168\n",
       "South Korea       158\n",
       "India              79\n",
       "Taiwan             68\n",
       "Canada             59\n",
       "France             49\n",
       "Spain              48\n",
       "Australia          47\n",
       "Name: country, dtype: int64"
      ]
     },
     "execution_count": 53,
     "metadata": {},
     "output_type": "execute_result"
    }
   ],
   "source": [
    "series_country_count = series_df['country'].value_counts()\n",
    "series_country_count.head(10)"
   ]
  },
  {
   "cell_type": "code",
   "execution_count": 54,
   "id": "654b18bd",
   "metadata": {},
   "outputs": [
    {
     "data": {
      "image/png": "[encoded data removed]",
      "text/plain": [
       "<Figure size 1440x576 with 2 Axes>"
      ]
     },
     "metadata": {
      "needs_background": "light"
     },
     "output_type": "display_data"
    }
   ],
   "source": [
    "fig, axes = plt.subplots(1, 2, figsize=(20, 8))\n",
    "axes[0] = sns.barplot(x = movies_country_count.head(7).index, \n",
    "                      y = movies_country_count.head(7).values,\n",
    "                      ax=axes[0])\n",
    "axes[0].set_title('TOP countries by number of movies', fontsize=16)\n",
    "axes[0].set_ylabel('Number of productions')\n",
    "for tick in axes[0].get_xticklabels():\n",
    "    tick.set_rotation(45)\n",
    "\n",
    "\n",
    "axes[1] = sns.barplot(x = series_country_count.head(7).index, \n",
    "                      y = series_country_count.head(7).values, \n",
    "                      ax=axes[1])\n",
    "axes[1].set_title('TOP countries by number of TV shows', fontsize=16)\n",
    "axes[1].set_ylabel('Number of productions')\n",
    "for tick in axes[1].get_xticklabels():\n",
    "    tick.set_rotation(45)"
   ]
  },
  {
   "cell_type": "markdown",
   "id": "36b66599",
   "metadata": {},
   "source": [
    "There are definetly the most movies and series from US. Their developed film industry provides that US productions have the largest share in Netflix offer probably in every country.\n",
    "If it comes to India, it ranks 2nd in movies (after all, this is Netflix in India), but only ranks 5th in series. \n",
    "There are also a lot of series from Asia (Japan and South Korea)."
   ]
  },
  {
   "cell_type": "markdown",
   "id": "b530d487",
   "metadata": {},
   "source": [
    "### Content rating"
   ]
  },
  {
   "cell_type": "markdown",
   "id": "5c2ad336",
   "metadata": {},
   "source": [
    "NETFLIX RATINGS\n",
    "\n",
    "LITTLE KIDS: <br>\n",
    "G - for general audiences <br>\n",
    "TV-Y - is appropriate for children of all ages <br>\n",
    "TV-G - suitable for general audiences <br>\n",
    "\n",
    "OLDER KIDS: <br>\n",
    "PG - parental guidance suggested <br>\n",
    "TV-Y7 - for children of ages 7 and older <br>\n",
    "TV-Y7-FV - a program contains “fantasy violence” that may be more intense or combative than other TV-Y7 programs <br>\n",
    "TV-PG - parental guidance is recommended <br>\n",
    "\n",
    "TEENS: <br> \n",
    "PG-13 - may be inappropriate for children under 13 <br>\n",
    "TV-14 - may be inappropriate for children under 14 <br>\n",
    "\n",
    "MATURE: <br>\n",
    "TV-MA - may not be suitable for ages 17 and under <br>\n",
    "R - Restricted. May be inappropriate for ages 17 and under (given to movies) <br>\n",
    "NC-17 - no one 17 or under admitted <br>\n",
    "NR - not rated <br>\n",
    "UR - unrated <br>"
   ]
  },
  {
   "cell_type": "code",
   "execution_count": 55,
   "id": "707c3311",
   "metadata": {},
   "outputs": [
    {
     "data": {
      "text/plain": [
       "567"
      ]
     },
     "execution_count": 55,
     "metadata": {},
     "output_type": "execute_result"
    }
   ],
   "source": [
    "little_kids = (netflix_df.groupby(['rating'])['rating'].get_group('G').count() \n",
    "               + netflix_df.groupby(['rating'])['rating'].get_group('TV-Y').count()\n",
    "               + netflix_df.groupby(['rating'])['rating'].get_group('TV-G').count())\n",
    "little_kids"
   ]
  },
  {
   "cell_type": "code",
   "execution_count": 56,
   "id": "539d1ba5",
   "metadata": {},
   "outputs": [
    {
     "data": {
      "text/plain": [
       "1487"
      ]
     },
     "execution_count": 56,
     "metadata": {},
     "output_type": "execute_result"
    }
   ],
   "source": [
    "older_kids = (netflix_df.groupby(['rating'])['rating'].get_group('PG').count() \n",
    "              + netflix_df.groupby(['rating'])['rating'].get_group('TV-Y7').count() \n",
    "              + netflix_df.groupby(['rating'])['rating'].get_group('TV-Y7-FV').count()\n",
    "              + netflix_df.groupby(['rating'])['rating'].get_group('TV-PG').count())\n",
    "older_kids"
   ]
  },
  {
   "cell_type": "code",
   "execution_count": 57,
   "id": "162bfe73",
   "metadata": {},
   "outputs": [
    {
     "data": {
      "text/plain": [
       "2647"
      ]
     },
     "execution_count": 57,
     "metadata": {},
     "output_type": "execute_result"
    }
   ],
   "source": [
    "teens = (netflix_df.groupby(['rating'])['rating'].get_group('PG-13').count()\n",
    "         + netflix_df.groupby(['rating'])['rating'].get_group('TV-14').count())\n",
    "teens"
   ]
  },
  {
   "cell_type": "code",
   "execution_count": 58,
   "id": "ffba8b64",
   "metadata": {},
   "outputs": [
    {
     "data": {
      "text/plain": [
       "4089"
      ]
     },
     "execution_count": 58,
     "metadata": {},
     "output_type": "execute_result"
    }
   ],
   "source": [
    "mature = (netflix_df.groupby(['rating'])['rating'].get_group('TV-MA').count() \n",
    "          + netflix_df.groupby(['rating'])['rating'].get_group('R').count() \n",
    "          + netflix_df.groupby(['rating'])['rating'].get_group('NC-17').count() \n",
    "          + netflix_df.groupby(['rating'])['rating'].get_group('NR').count() \n",
    "          + netflix_df.groupby(['rating'])['rating'].get_group('UR').count())\n",
    "mature"
   ]
  },
  {
   "cell_type": "code",
   "execution_count": 59,
   "id": "f1541942",
   "metadata": {},
   "outputs": [],
   "source": [
    "rating = [little_kids, older_kids, teens, mature]\n",
    "names = ['little kids', 'older kids', 'teens', 'mature']"
   ]
  },
  {
   "cell_type": "code",
   "execution_count": 60,
   "id": "a31b8f3a",
   "metadata": {},
   "outputs": [
    {
     "data": {
      "image/png": "[encoded data removed]",
      "text/plain": [
       "<Figure size 720x432 with 1 Axes>"
      ]
     },
     "metadata": {
      "needs_background": "light"
     },
     "output_type": "display_data"
    }
   ],
   "source": [
    "plt.figure(figsize=(10,6))\n",
    "plt.plot(names, rating, 'o-y')\n",
    "plt.title('Content rating')\n",
    "plt.xlabel('rating')\n",
    "plt.ylabel('number of productions')\n",
    "plt.show()"
   ]
  },
  {
   "cell_type": "markdown",
   "id": "cc0e9ca1",
   "metadata": {},
   "source": [
    "As we can see from the plot, the correlation between age of the viewer and number of content is linear - the older viewer, the more content for them. Let's see how it looks when we take single ratings."
   ]
  },
  {
   "cell_type": "code",
   "execution_count": 61,
   "id": "748c04bd",
   "metadata": {},
   "outputs": [
    {
     "data": {
      "text/plain": [
       "TV-MA       3205\n",
       "TV-14       2157\n",
       "TV-PG        861\n",
       "R            799\n",
       "PG-13        490\n",
       "TV-Y7        333\n",
       "TV-Y         306\n",
       "PG           287\n",
       "TV-G         220\n",
       "NR            79\n",
       "G             41\n",
       "TV-Y7-FV       6\n",
       "NC-17          3\n",
       "UR             3\n",
       "Name: rating, dtype: int64"
      ]
     },
     "execution_count": 61,
     "metadata": {},
     "output_type": "execute_result"
    }
   ],
   "source": [
    "netflix_df.rating.value_counts()"
   ]
  },
  {
   "cell_type": "code",
   "execution_count": 62,
   "id": "2ab51b15",
   "metadata": {},
   "outputs": [
    {
     "data": {
      "image/png": "[encoded data removed]",
      "text/plain": [
       "<Figure size 1440x576 with 1 Axes>"
      ]
     },
     "metadata": {
      "needs_background": "light"
     },
     "output_type": "display_data"
    }
   ],
   "source": [
    "plt.figure(figsize=(20,8))\n",
    "plt.ylabel(None)\n",
    "plt.title('Most popular ratings', fontsize=18)\n",
    "sns.countplot(y = netflix_df.rating)\n",
    "plt.show()"
   ]
  },
  {
   "cell_type": "code",
   "execution_count": 63,
   "id": "260d6af7",
   "metadata": {},
   "outputs": [
    {
     "data": {
      "text/plain": [
       "TV-MA       2062\n",
       "TV-14       1427\n",
       "R            797\n",
       "TV-PG        540\n",
       "PG-13        490\n",
       "PG           287\n",
       "TV-Y7        139\n",
       "TV-Y         131\n",
       "TV-G         126\n",
       "NR            75\n",
       "G             41\n",
       "TV-Y7-FV       5\n",
       "NC-17          3\n",
       "UR             3\n",
       "Name: rating, dtype: int64"
      ]
     },
     "execution_count": 63,
     "metadata": {},
     "output_type": "execute_result"
    }
   ],
   "source": [
    "movies_df.rating.value_counts()"
   ]
  },
  {
   "cell_type": "code",
   "execution_count": 64,
   "id": "437c92d7",
   "metadata": {},
   "outputs": [
    {
     "data": {
      "text/plain": [
       "TV-MA       1143\n",
       "TV-14        730\n",
       "TV-PG        321\n",
       "TV-Y7        194\n",
       "TV-Y         175\n",
       "TV-G          94\n",
       "NR             4\n",
       "R              2\n",
       "TV-Y7-FV       1\n",
       "Name: rating, dtype: int64"
      ]
     },
     "execution_count": 64,
     "metadata": {},
     "output_type": "execute_result"
    }
   ],
   "source": [
    "series_df.rating.value_counts()"
   ]
  },
  {
   "cell_type": "code",
   "execution_count": 65,
   "id": "eb21c5f8",
   "metadata": {},
   "outputs": [
    {
     "data": {
      "image/png": "[encoded data removed]",
      "text/plain": [
       "<Figure size 1440x576 with 2 Axes>"
      ]
     },
     "metadata": {
      "needs_background": "light"
     },
     "output_type": "display_data"
    }
   ],
   "source": [
    "fig, axes = plt.subplots(1, 2, figsize=(20, 8))\n",
    "axes[0] = sns.countplot(y = movies_df.rating, \n",
    "                      ax=axes[0])\n",
    "axes[0].set_title('Movies', fontsize=16)\n",
    "axes[0].set_ylabel(None)\n",
    "\n",
    "\n",
    "axes[1] = sns.countplot(y = series_df.rating,\n",
    "                      ax=axes[1])\n",
    "axes[1].set_title('TV Shows', fontsize=16)\n",
    "axes[1].set_ylabel(None)\n",
    "plt.show()"
   ]
  },
  {
   "cell_type": "markdown",
   "id": "1babb30f",
   "metadata": {},
   "source": [
    "2 ratings clearly stand out at both types: TV-MA (the most popular) and TV-14. "
   ]
  },
  {
   "cell_type": "markdown",
   "id": "3a88cfeb",
   "metadata": {},
   "source": [
    "### On which days content is added?"
   ]
  },
  {
   "cell_type": "code",
   "execution_count": 66,
   "id": "492d3612",
   "metadata": {},
   "outputs": [],
   "source": [
    "add_times_by_weekdays = netflix_df.groupby(['weekday'])['weekday'].count()\n",
    "days_of_week = ['Monday', 'Tuesday', 'Wednesday', 'Thursday', 'Friday', 'Saturday', 'Sunday']"
   ]
  },
  {
   "cell_type": "code",
   "execution_count": 67,
   "id": "f4009f09",
   "metadata": {},
   "outputs": [
    {
     "data": {
      "image/png": "[encoded data removed]",
      "text/plain": [
       "<Figure size 648x360 with 1 Axes>"
      ]
     },
     "metadata": {
      "needs_background": "light"
     },
     "output_type": "display_data"
    }
   ],
   "source": [
    "ax = sns.barplot(y = add_times_by_weekdays, x = days_of_week)\n",
    "ax.set_title('Weekday')\n",
    "ax.set_ylabel('Number of productions')\n",
    "plt.show()"
   ]
  },
  {
   "cell_type": "code",
   "execution_count": 68,
   "id": "edbbe1c6",
   "metadata": {},
   "outputs": [],
   "source": [
    "movies_add_times = movies_df.groupby(['weekday'])['weekday'].count()\n",
    "series_add_times = series_df.groupby(['weekday'])['weekday'].count()"
   ]
  },
  {
   "cell_type": "code",
   "execution_count": 69,
   "id": "20a3b680",
   "metadata": {},
   "outputs": [
    {
     "data": {
      "image/png": "[encoded data removed]",
      "text/plain": [
       "<Figure size 648x360 with 1 Axes>"
      ]
     },
     "metadata": {
      "needs_background": "light"
     },
     "output_type": "display_data"
    }
   ],
   "source": [
    "X_axis = np.arange(len(days_of_week))\n",
    "plt.bar(X_axis - 0.2, movies_add_times, 0.4, label = 'Movies')\n",
    "plt.bar(X_axis + 0.2, series_add_times, 0.4, label = 'TV Shows')\n",
    "plt.xticks(X_axis, days_of_week)\n",
    "plt.ylabel(\"Number of productions\")\n",
    "plt.title('Number of productions added by day')\n",
    "plt.legend()\n",
    "plt.show()"
   ]
  },
  {
   "cell_type": "markdown",
   "id": "c5fe72aa",
   "metadata": {},
   "source": [
    "Most content is added on Fridays. My first thought was that  people usually don't go to work at the weekend and have more free time. New movies and series will encourage them to spend it watching Netlflix. But then I made quick research and it turned out that releasing movies on Friday came from the belief that producers would be blessed with good wealth. So I assume that for the same reason content is added to Netflix on Friday."
   ]
  },
  {
   "cell_type": "markdown",
   "id": "6cac9060",
   "metadata": {},
   "source": [
    "### Cast"
   ]
  },
  {
   "cell_type": "code",
   "execution_count": 70,
   "id": "60f08dad",
   "metadata": {},
   "outputs": [
    {
     "data": {
      "text/plain": [
       "0                                                     NaN\n",
       "1       Ama Qamata, Khosi Ngema, Gail Mabalane, Thaban...\n",
       "2       Sami Bouajila, Tracy Gotoas, Samuel Jouy, Nabi...\n",
       "3                                                     NaN\n",
       "4       Mayur More, Jitendra Kumar, Ranjan Raj, Alam K...\n",
       "                              ...                        \n",
       "8802    Mark Ruffalo, Jake Gyllenhaal, Robert Downey J...\n",
       "8803                                                  NaN\n",
       "8804    Jesse Eisenberg, Woody Harrelson, Emma Stone, ...\n",
       "8805    Tim Allen, Courteney Cox, Chevy Chase, Kate Ma...\n",
       "8806    Vicky Kaushal, Sarah-Jane Dias, Raaghav Chanan...\n",
       "Name: cast, Length: 8797, dtype: object"
      ]
     },
     "execution_count": 70,
     "metadata": {},
     "output_type": "execute_result"
    }
   ],
   "source": [
    "cast_raw = netflix_df['cast'].copy()\n",
    "cast_raw"
   ]
  },
  {
   "cell_type": "code",
   "execution_count": 71,
   "id": "5b53eb1b",
   "metadata": {},
   "outputs": [],
   "source": [
    "# dropping null values\n",
    "cast_raw.dropna(inplace=True)"
   ]
  },
  {
   "cell_type": "code",
   "execution_count": 72,
   "id": "50239231",
   "metadata": {},
   "outputs": [
    {
     "data": {
      "text/plain": [
       "array(['Ama Qamata, Khosi Ngema, Gail Mabalane, Thabang Molaba, Dillon Windvogel, Natasha Thahane, Arno Greeff, Xolile Tshabalala, Getmore Sithole, Cindy Mahlangu, Ryle De Morny, Greteli Fincham, Sello Maake Ka-Ncube, Odwa Gwanya, Mekaila Mathys, Sandi Schultz, Duane Williams, Shamilla Miller, Patrick Mofokeng',\n",
       "       'Sami Bouajila, Tracy Gotoas, Samuel Jouy, Nabiha Akkari, Sofia Lesaffre, Salim Kechiouche, Noureddine Farihi, Geert Van Rampelberg, Bakary Diombera',\n",
       "       'Mayur More, Jitendra Kumar, Ranjan Raj, Alam Khan, Ahsaas Channa, Revathi Pillai, Urvi Singh, Arun Kumar',\n",
       "       ...,\n",
       "       'Jesse Eisenberg, Woody Harrelson, Emma Stone, Abigail Breslin, Amber Heard, Bill Murray, Derek Graf',\n",
       "       'Tim Allen, Courteney Cox, Chevy Chase, Kate Mara, Ryan Newman, Michael Cassidy, Spencer Breslin, Rip Torn, Kevin Zegers',\n",
       "       'Vicky Kaushal, Sarah-Jane Dias, Raaghav Chanana, Manish Chaudhary, Meghna Malik, Malkeet Rauni, Anita Shabdish, Chittaranjan Tripathy'],\n",
       "      dtype=object)"
      ]
     },
     "execution_count": 72,
     "metadata": {},
     "output_type": "execute_result"
    }
   ],
   "source": [
    "cast = cast_raw.values\n",
    "cast"
   ]
  },
  {
   "cell_type": "code",
   "execution_count": 73,
   "id": "38ebfe9f",
   "metadata": {},
   "outputs": [],
   "source": [
    "all_cast = []\n",
    "for i in cast:\n",
    "    ## if 'i' is a (string type) set of values it needs to be splited and then added to list\n",
    "    ## otherwise it is a single value and can be added to list directly\n",
    "    if isinstance(i, str):\n",
    "        i = i.split(\",\")\n",
    "        for z in i:\n",
    "            z.replace(' ', '')\n",
    "            all_cast.append(z.strip())\n",
    "    else:\n",
    "        all_cast.append(i.strip())"
   ]
  },
  {
   "cell_type": "code",
   "execution_count": 74,
   "id": "68d7c755",
   "metadata": {},
   "outputs": [
    {
     "data": {
      "text/plain": [
       "['Ama Qamata',\n",
       " 'Khosi Ngema',\n",
       " 'Gail Mabalane',\n",
       " 'Thabang Molaba',\n",
       " 'Dillon Windvogel',\n",
       " 'Natasha Thahane',\n",
       " 'Arno Greeff',\n",
       " 'Xolile Tshabalala',\n",
       " 'Getmore Sithole',\n",
       " 'Cindy Mahlangu',\n",
       " 'Ryle De Morny',\n",
       " 'Greteli Fincham',\n",
       " 'Sello Maake Ka-Ncube',\n",
       " 'Odwa Gwanya',\n",
       " 'Mekaila Mathys',\n",
       " 'Sandi Schultz',\n",
       " 'Duane Williams',\n",
       " 'Shamilla Miller',\n",
       " 'Patrick Mofokeng',\n",
       " 'Sami Bouajila',\n",
       " 'Tracy Gotoas',\n",
       " 'Samuel Jouy',\n",
       " 'Nabiha Akkari',\n",
       " 'Sofia Lesaffre',\n",
       " 'Salim Kechiouche',\n",
       " 'Noureddine Farihi',\n",
       " 'Geert Van Rampelberg',\n",
       " 'Bakary Diombera',\n",
       " 'Mayur More',\n",
       " 'Jitendra Kumar',\n",
       " 'Ranjan Raj',\n",
       " 'Alam Khan',\n",
       " 'Ahsaas Channa',\n",
       " 'Revathi Pillai',\n",
       " 'Urvi Singh',\n",
       " 'Arun Kumar',\n",
       " 'Kate Siegel',\n",
       " 'Zach Gilford',\n",
       " 'Hamish Linklater',\n",
       " 'Henry Thomas',\n",
       " 'Kristin Lehman',\n",
       " 'Samantha Sloyan',\n",
       " 'Igby Rigney',\n",
       " 'Rahul Kohli',\n",
       " 'Annarah Cymone',\n",
       " 'Annabeth Gish',\n",
       " 'Alex Essoe',\n",
       " 'Rahul Abburi',\n",
       " 'Matt Biedel',\n",
       " 'Michael Trucco',\n",
       " 'Crystal Balint',\n",
       " 'Louis Oliver',\n",
       " 'Vanessa Hudgens',\n",
       " 'Kimiko Glenn',\n",
       " 'James Marsden',\n",
       " 'Sofia Carson',\n",
       " 'Liza Koshy',\n",
       " 'Ken Jeong',\n",
       " 'Elizabeth Perkins',\n",
       " 'Jane Krakowski',\n",
       " 'Michael McKean',\n",
       " 'Phil LaMarr',\n",
       " 'Kofi Ghanaba',\n",
       " 'Oyafunmike Ogunlano',\n",
       " 'Alexandra Duah',\n",
       " 'Nick Medley',\n",
       " 'Mutabaruka',\n",
       " 'Afemo Omilami',\n",
       " 'Reggie Carter',\n",
       " 'Mzuri',\n",
       " 'Mel Giedroyc',\n",
       " 'Sue Perkins',\n",
       " 'Mary Berry',\n",
       " 'Paul Hollywood',\n",
       " 'Melissa McCarthy',\n",
       " \"Chris O'Dowd\",\n",
       " 'Kevin Kline',\n",
       " 'Timothy Olyphant',\n",
       " 'Daveed Diggs',\n",
       " 'Skyler Gisondo',\n",
       " 'Laura Harrier',\n",
       " 'Rosalind Chao',\n",
       " 'Kimberly Quinn',\n",
       " 'Loretta Devine',\n",
       " 'Ravi Kapoor',\n",
       " 'Sukollawat Kanarot',\n",
       " 'Sushar Manaying',\n",
       " 'Pavarit Mongkolpisit',\n",
       " 'Sahajak Boonthanakit',\n",
       " 'Suthipongse Thatphithakkul',\n",
       " 'Bhasaworn Bawronkirati',\n",
       " 'Daweerit Chullasapya',\n",
       " 'Waratthaya Wongchayaporn',\n",
       " 'Kittiphoom Wongpentak',\n",
       " 'Abhicha Thanachanun',\n",
       " 'Nophand Boonyai',\n",
       " 'Kittipong Khamsat',\n",
       " 'Arisara Wongchalee',\n",
       " 'Jaytiya Naiwattanakul',\n",
       " 'Pantipa Arunwattanachai',\n",
       " 'Panupan Jantanawong',\n",
       " 'Kungtap Saelim',\n",
       " 'Phumphat Chartsuriyakiat',\n",
       " 'Issara Veranitinunt',\n",
       " 'Keerati Sivakuae',\n",
       " 'Panjai Sirisuwan',\n",
       " 'Supranee Charoenpol',\n",
       " 'Suda Chuenban',\n",
       " 'Visaka Banhansupavat',\n",
       " 'Pitchatorn Santinatornkul',\n",
       " 'Luna Wedler',\n",
       " 'Jannis Niewöhner',\n",
       " 'Milan Peschel',\n",
       " 'Edin Hasanović',\n",
       " 'Anna Fialová',\n",
       " 'Marlon Boess',\n",
       " 'Victor Boccard',\n",
       " 'Fleur Geffrier',\n",
       " 'Aziz Dyab',\n",
       " 'Mélanie Fouché',\n",
       " 'Elizaveta Maximová',\n",
       " 'Klara Castanho',\n",
       " 'Lucca Picon',\n",
       " 'Júlia Gomes',\n",
       " 'Marcus Bessa',\n",
       " 'Kiria Malheiros',\n",
       " 'Fernanda Concon',\n",
       " 'Gabriel Lima',\n",
       " 'Caio Cabral',\n",
       " 'Leonardo Cidade',\n",
       " 'Jade Cardozo',\n",
       " 'Logan Browning',\n",
       " 'Brandon P. Bell',\n",
       " 'DeRon Horton',\n",
       " 'Antoinette Robertson',\n",
       " 'John Patrick Amedori',\n",
       " 'Ashley Blaine Featherson',\n",
       " 'Marque Richardson',\n",
       " 'Giancarlo Esposito',\n",
       " 'Luis Ernesto Franco',\n",
       " 'Camila Sodi',\n",
       " 'Sergio Goyri',\n",
       " 'Samadhi Zendejas',\n",
       " 'Eduardo Yáñez',\n",
       " 'Sonya Smith',\n",
       " 'Alejandro Camacho',\n",
       " 'Azela Robinson',\n",
       " 'Uriel del Toro',\n",
       " 'Géraldine Bazán',\n",
       " 'Gabriela Roel',\n",
       " 'Marcus Ornellas',\n",
       " 'Freida Pinto',\n",
       " 'Logan Marshall-Green',\n",
       " 'Robert John Burke',\n",
       " 'Megan Elisabeth Kelly',\n",
       " 'Sarah Minnich',\n",
       " 'Hayes Hargrove',\n",
       " 'Mark Sivertsen',\n",
       " 'Brandon Fierro',\n",
       " 'Antonio Valles',\n",
       " 'Clint Obenchain',\n",
       " 'Blanca Suárez',\n",
       " 'Iván Marcos',\n",
       " 'Óscar Casas',\n",
       " 'Adrián Lastra',\n",
       " 'Francesc Garrido',\n",
       " 'Stefan Weinert',\n",
       " 'Julia Möller',\n",
       " 'Alicia Chojnowski',\n",
       " 'Engin Altan Düzyatan',\n",
       " 'Serdar Gökhan',\n",
       " 'Hülya Darcan',\n",
       " 'Kaan Taşaner',\n",
       " 'Esra Bilgiç',\n",
       " 'Osman Soykut',\n",
       " 'Serdar Deniz',\n",
       " 'Cengiz Coşkun',\n",
       " 'Reshad Strik',\n",
       " 'Hande Subaşı',\n",
       " 'Kamal Hassan',\n",
       " 'Meena',\n",
       " 'Gemini Ganesan',\n",
       " 'Heera Rajgopal',\n",
       " 'Nassar',\n",
       " 'S.P. Balasubrahmanyam',\n",
       " 'Maisie Benson',\n",
       " 'Paul Killam',\n",
       " 'Kerry Gudjohnsen',\n",
       " 'AC Lim',\n",
       " 'Prashanth',\n",
       " 'Aishwarya Rai Bachchan',\n",
       " 'Sri Lakshmi',\n",
       " 'Nassar',\n",
       " 'Brooke Satchwell',\n",
       " 'Arvind Swamy',\n",
       " 'Kajol',\n",
       " 'Prabhu Deva',\n",
       " 'Nassar',\n",
       " 'S.P. Balasubrahmanyam',\n",
       " 'Girish Karnad',\n",
       " 'Adam Sandler',\n",
       " 'Kevin James',\n",
       " 'Chris Rock',\n",
       " 'David Spade',\n",
       " 'Rob Schneider',\n",
       " 'Salma Hayek',\n",
       " 'Maria Bello',\n",
       " 'Maya Rudolph',\n",
       " 'Colin Quinn',\n",
       " 'Tim Meadows',\n",
       " 'Joyce Van Patten',\n",
       " 'Keri Russell',\n",
       " 'Josh Hamilton',\n",
       " 'J.K. Simmons',\n",
       " 'Dakota Goyo',\n",
       " 'Kadan Rockett',\n",
       " 'L.J. Benet',\n",
       " 'Rich Hutchman',\n",
       " 'Myndy Crist',\n",
       " 'Annie Thurman',\n",
       " 'Jake Brennan',\n",
       " 'Liam Hemsworth',\n",
       " 'Gary Oldman',\n",
       " 'Amber Heard',\n",
       " 'Harrison Ford',\n",
       " 'Lucas Till',\n",
       " 'Embeth Davidtz',\n",
       " 'Julian McMahon',\n",
       " 'Josh Holloway',\n",
       " 'Richard Dreyfuss',\n",
       " 'Angela Sarafyan',\n",
       " 'Abhishek Banerjee',\n",
       " 'Rinku Rajguru',\n",
       " 'Delzad Hiwale',\n",
       " 'Kunal Kapoor',\n",
       " 'Zoya Hussain',\n",
       " 'Nikhil Dwivedi',\n",
       " 'Palomi Ghosh',\n",
       " 'Lauren Ash',\n",
       " \"Rory O'Malley\",\n",
       " 'RuPaul Charles',\n",
       " 'Jill Talley',\n",
       " 'Ike Barinholtz',\n",
       " 'Jon Barinholtz',\n",
       " 'Matthew Craig',\n",
       " 'Bob Odenkirk',\n",
       " 'Mike Hagerty',\n",
       " 'Katie Rich',\n",
       " 'Chris Witaske',\n",
       " 'Asa Butterfield',\n",
       " 'Gillian Anderson',\n",
       " 'Ncuti Gatwa',\n",
       " 'Emma Mackey',\n",
       " 'Connor Swindells',\n",
       " 'Kedar Williams-Stirling',\n",
       " 'Alistair Petrie',\n",
       " 'Lee Jung-jae',\n",
       " 'Park Hae-soo',\n",
       " 'Wi Ha-jun',\n",
       " 'Oh Young-soo',\n",
       " 'Jung Ho-yeon',\n",
       " 'Heo Sung-tae',\n",
       " 'Kim Joo-ryoung',\n",
       " 'Tripathi Anupam',\n",
       " 'You Seong-joo',\n",
       " 'Lee You-mi',\n",
       " 'Dami Lee',\n",
       " 'Jason Lee',\n",
       " 'Bommie Catherine Han',\n",
       " 'Jennifer Waescher',\n",
       " 'Nancy Kim',\n",
       " 'Adrian Titieni',\n",
       " 'Elena Purea',\n",
       " 'Judith State',\n",
       " 'Valeriu Andriuță',\n",
       " 'Tudor Smoleanu',\n",
       " 'Virgil Aioanei',\n",
       " 'Radu Botar',\n",
       " 'Petronela Grigorescu',\n",
       " 'Bogdan Nechifor',\n",
       " 'Cristian Bota',\n",
       " 'Gilles Lellouche',\n",
       " 'Karim Leklou',\n",
       " 'François Civil',\n",
       " 'Adèle Exarchopoulos',\n",
       " 'Kenza Fortas',\n",
       " 'Cyril Lecomte',\n",
       " 'Michaël Abiteboul',\n",
       " 'Idir Azougli',\n",
       " 'Vincent Darmuzey',\n",
       " 'Jean-Yves Berteloot',\n",
       " 'Antti Pääkkönen',\n",
       " 'Heljä Heikkinen',\n",
       " 'Lynne Guaglione',\n",
       " 'Pasi Ruohonen',\n",
       " 'Rauno Ahonen',\n",
       " 'Billy Magnussen',\n",
       " 'Ron Yuan',\n",
       " 'Qu Jingjing',\n",
       " 'Terry Chen',\n",
       " 'Vanness Wu',\n",
       " 'Jin Xing',\n",
       " 'Philip Ng',\n",
       " 'Xia Yu',\n",
       " 'Yu Xia',\n",
       " 'Vatsal Dubey',\n",
       " 'Julie Tejwani',\n",
       " 'Rupa Bhimani',\n",
       " 'Jigna Bhardwaj',\n",
       " 'Rajesh Kava',\n",
       " 'Mousam',\n",
       " 'Swapnil',\n",
       " 'Yuri Lowenthal',\n",
       " 'Kimberly Brooks',\n",
       " 'Antony Del Rio',\n",
       " 'Trevor Devall',\n",
       " 'Ben Diskin',\n",
       " 'Grey Griffin',\n",
       " 'David Kaye',\n",
       " 'Tom Kenny',\n",
       " 'Judy Alice Lee',\n",
       " 'Roger Craig Smith',\n",
       " 'Fred Tatasciore',\n",
       " 'Roy Scheider',\n",
       " 'Robert Shaw',\n",
       " 'Richard Dreyfuss',\n",
       " 'Lorraine Gary',\n",
       " 'Murray Hamilton',\n",
       " 'Carl Gottlieb',\n",
       " 'Jeffrey Kramer',\n",
       " 'Susan Backlinie',\n",
       " 'Jonathan Filley',\n",
       " 'Ted Grossman',\n",
       " 'Roy Scheider',\n",
       " 'Lorraine Gary',\n",
       " 'Murray Hamilton',\n",
       " 'Joseph Mascolo',\n",
       " 'Jeffrey Kramer',\n",
       " 'Collin Wilcox Paxton',\n",
       " 'Ann Dusenberry',\n",
       " 'Mark Gruner',\n",
       " 'Barry Coe',\n",
       " 'Susan French',\n",
       " 'Dennis Quaid',\n",
       " 'Bess Armstrong',\n",
       " 'Simon MacCorkindale',\n",
       " 'Louis Gossett Jr.',\n",
       " 'John Putch',\n",
       " 'Lea Thompson',\n",
       " 'P.H. Moriarty',\n",
       " 'Dan Blasko',\n",
       " 'Liz Morris',\n",
       " 'Lisa Maurer',\n",
       " 'Lorraine Gary',\n",
       " 'Lance Guest',\n",
       " 'Mario Van Peebles',\n",
       " 'Karen Young',\n",
       " 'Michael Caine',\n",
       " 'Judith Barsi',\n",
       " 'Mitchell Anderson',\n",
       " 'Lynn Whitfield',\n",
       " 'Denzel Washington',\n",
       " 'Ryan Reynolds',\n",
       " 'Vera Farmiga',\n",
       " 'Brendan Gleeson',\n",
       " 'Sam Shepard',\n",
       " 'Rubén Blades',\n",
       " 'Nora Arnezeder',\n",
       " 'Robert Patrick',\n",
       " 'Liam Cunningham',\n",
       " 'Joel Kinnaman',\n",
       " 'Osas Ighodaro',\n",
       " 'Ini Dima-Okojie',\n",
       " 'Kemi Lala Akindoju',\n",
       " 'Toni Tones',\n",
       " 'Ebenezer Eno',\n",
       " 'Eso Okolocha DIke',\n",
       " 'Patrick Diabuah',\n",
       " 'Karibi Fubara',\n",
       " 'Temisan Emmanuel',\n",
       " 'Timini Egbuson',\n",
       " 'Denzel Washington',\n",
       " 'Ethan Hawke',\n",
       " 'Scott Glenn',\n",
       " 'Tom Berenger',\n",
       " 'Harris Yulin',\n",
       " 'Raymond J. Barry',\n",
       " 'Cliff Curtis',\n",
       " 'Dr. Dre',\n",
       " 'Snoop Dogg',\n",
       " 'Macy Gray',\n",
       " 'Eva Mendes',\n",
       " 'Richard Mofe-Damijo',\n",
       " 'Dakore Akande',\n",
       " 'Bimbo Manuel',\n",
       " 'Blossom Chukwujekwu',\n",
       " 'Deyemi Okanlawon',\n",
       " 'Etim Effiong',\n",
       " 'Denola Grey',\n",
       " 'Duke Akintola',\n",
       " 'Eku Edewor',\n",
       " 'Ade Laoye',\n",
       " 'Anee Icha',\n",
       " 'Kevin Ushi',\n",
       " 'Jude Chukwuka',\n",
       " 'Amanda Afolabi',\n",
       " 'Kashmira Irani',\n",
       " 'Chandan Anand',\n",
       " 'Dinesh Mehta',\n",
       " 'Ankit Arora',\n",
       " 'Pushkar Goggiaa',\n",
       " 'Anjali Rana',\n",
       " 'Aarya DharmChand Kumar',\n",
       " 'Amit Behl',\n",
       " 'Maleeka Ghai',\n",
       " 'Kappei Yamaguchi',\n",
       " 'Satsuki Yukino',\n",
       " 'Mieko Harada',\n",
       " 'Koji Tsujitani',\n",
       " 'Houko Kuwashima',\n",
       " 'Kumiko Watanabe',\n",
       " 'Noriko Hidaka',\n",
       " 'Kenichi Ogata',\n",
       " 'Toshiyuki Morikawa',\n",
       " 'Izumi Ogami',\n",
       " 'Kappei Yamaguchi',\n",
       " 'Satsuki Yukino',\n",
       " 'Koji Tsujitani',\n",
       " 'Houko Kuwashima',\n",
       " 'Kumiko Watanabe',\n",
       " 'Ken Narita',\n",
       " 'Akio Otsuka',\n",
       " 'Kikuko Inoue',\n",
       " 'Kappei Yamaguchi',\n",
       " 'Satsuki Yukino',\n",
       " 'Koji Tsujitani',\n",
       " 'Houko Kuwashima',\n",
       " 'Kumiko Watanabe',\n",
       " 'Noriko Hidaka',\n",
       " 'Ken Narita',\n",
       " 'Cho',\n",
       " 'Mamiko Noto',\n",
       " 'Nobutoshi Canna',\n",
       " 'Kappei Yamaguchi',\n",
       " 'Satsuki Yukino',\n",
       " 'Koji Tsujitani',\n",
       " 'Houko Kuwashima',\n",
       " 'Kumiko Watanabe',\n",
       " 'Kenichi Ogata',\n",
       " 'Noriko Hidaka',\n",
       " 'Hisako Kyoda',\n",
       " 'Ken Narita',\n",
       " 'Tomokazu Seki',\n",
       " 'Nicole Byer',\n",
       " 'Jacques Torres',\n",
       " 'Junko Takeuchi',\n",
       " 'Chie Nakamura',\n",
       " 'Rikiya Koyama',\n",
       " 'Kazuhiko Inoue',\n",
       " 'Masaki Terasoma',\n",
       " 'Mie Sonozaki',\n",
       " 'Yuichi Nakamura',\n",
       " 'Kengo Kawanishi',\n",
       " 'Kosei Hirota',\n",
       " 'Masako Katsuki',\n",
       " 'Junko Takeuchi',\n",
       " 'Chie Nakamura',\n",
       " 'Noriaki Sugiyama',\n",
       " 'Unsho Ishizuka',\n",
       " 'Motoko Kumai',\n",
       " 'Kazuhiko Inoue',\n",
       " 'Rikiya Koyama',\n",
       " 'Showtaro Morikubo',\n",
       " 'Nana Mizuki',\n",
       " 'Satoshi Hino',\n",
       " 'Shinji Kawada',\n",
       " 'Junko Takeuchi',\n",
       " 'Chie Nakamura',\n",
       " 'Kazuhiko Inoue',\n",
       " 'Satoshi Hino',\n",
       " 'Showtaro Morikubo',\n",
       " 'Kentaro Ito',\n",
       " 'Ryoka Yuzuki',\n",
       " 'Kohsuke Toriumi',\n",
       " 'Nana Mizuki',\n",
       " 'Shinji Kawada',\n",
       " 'Yoichi Masukawa',\n",
       " 'Koichi Tochika',\n",
       " 'Yukari Tamura',\n",
       " 'Junko Takeuchi',\n",
       " 'Chie Nakamura',\n",
       " 'Yoichi Masukawa',\n",
       " 'Koichi Tochika',\n",
       " 'Ayumi Fujimura',\n",
       " 'Keisuke Oda',\n",
       " 'Daisuke Kishio',\n",
       " 'Fumiko Orikasa',\n",
       " 'Hidetoshi Nakamura',\n",
       " 'Tetsuya Kakihara',\n",
       " 'Kisho Taniyama',\n",
       " 'Miyuki Sawashiro',\n",
       " 'Katsuyuki Konishi',\n",
       " 'Masako Katsuki',\n",
       " 'Keiko Nemoto',\n",
       " 'Masashi Ebara',\n",
       " 'Kazuhiko Inoue',\n",
       " 'Showtaro Morikubo',\n",
       " 'Romi Park',\n",
       " 'Daisuke Ono',\n",
       " 'Seizo Kato',\n",
       " 'Junko Takeuchi',\n",
       " 'Chie Nakamura',\n",
       " 'Satoshi Hino',\n",
       " 'Rikiya Koyama',\n",
       " 'Nobuaki Fukuda',\n",
       " 'Kenji Hamada',\n",
       " 'Keiko Nemoto',\n",
       " 'Saori Hayami',\n",
       " 'Yumi Toma',\n",
       " 'Yuko Kobayashi',\n",
       " 'Fujiko Takimoto',\n",
       " 'Mutsumi Tamura',\n",
       " 'Mayuki Makiguchi',\n",
       " 'Toshiyuki Morikawa',\n",
       " 'Junko Takeuchi',\n",
       " 'Gamon Kaai',\n",
       " 'Chie Nakamura',\n",
       " 'Showtaro Morikubo',\n",
       " 'Akira Ishida',\n",
       " 'Yasuyuki Kase',\n",
       " 'Urara Takano',\n",
       " 'Sachiko Kojima',\n",
       " 'Houko Kuwashima',\n",
       " 'Takako Honda',\n",
       " 'Junko Takeuchi',\n",
       " 'Chie Nakamura',\n",
       " 'Yoichi Masukawa',\n",
       " 'Kazuhiko Inoue',\n",
       " 'Akio Otsuka',\n",
       " 'Kyousuke Ikeda',\n",
       " 'Marika Hayashi',\n",
       " 'Umeji Sasaki',\n",
       " 'Masashi Sugawara',\n",
       " 'Hisao Egawa',\n",
       " 'Junko Takeuchi',\n",
       " 'Noriaki Sugiyama',\n",
       " 'Chie Nakamura',\n",
       " 'Kazuhiko Inoue',\n",
       " 'Yuhko Kaida',\n",
       " 'Tsutomu Isobe',\n",
       " 'Hirotaka Suzuoki',\n",
       " 'Jun Karasawa',\n",
       " 'Harii Kaneko',\n",
       " 'Ikuo Nishikawa',\n",
       " 'Winslow Fegley',\n",
       " 'Lidya Jewett',\n",
       " 'Krysten Ritter',\n",
       " 'Beth Chalmers',\n",
       " 'David Holt',\n",
       " 'Marcel McCalla',\n",
       " 'Teresa Gallagher',\n",
       " 'Mark-Paul Gosselaar',\n",
       " 'Tiffani Thiessen',\n",
       " 'Mario Lopez',\n",
       " 'Lark Voorhies',\n",
       " 'Elizabeth Berkley',\n",
       " 'Dustin Diamond',\n",
       " 'Dennis Haskins',\n",
       " 'Michael Schumacher',\n",
       " 'Itatí Cantoral',\n",
       " 'Evan Spiridellis',\n",
       " 'Erin Fitzgerald',\n",
       " 'Jeff Gill',\n",
       " 'Fred Tatasciore',\n",
       " 'Evan Michael Lee',\n",
       " 'Jared Isaacman',\n",
       " 'Sian Proctor',\n",
       " 'Chris Sembroski',\n",
       " 'Hayley Arceneaux',\n",
       " 'Jack Whitehall',\n",
       " 'Michael Whitehall',\n",
       " 'Sola Sobowale',\n",
       " 'Adesua Etomi',\n",
       " 'Remilekun \"Reminisce\" Safaru',\n",
       " 'Tobechukwu \"iLLbliss\" Ejiofor',\n",
       " 'Toni Tones',\n",
       " 'Paul Sambo',\n",
       " 'Jide Kosoko',\n",
       " 'Sharon Ooja',\n",
       " 'Bear Grylls',\n",
       " 'Jason Derek Prempeh',\n",
       " 'Daiki Yamashita',\n",
       " 'Kohsuke Toriumi',\n",
       " 'Jun Fukushima',\n",
       " 'Hiroki Yasumoto',\n",
       " 'Showtaro Morikubo',\n",
       " 'Kentaro Ito',\n",
       " 'Daisuke Kishio',\n",
       " 'Yoshitsugu Matsuoka',\n",
       " 'Junichi Suwabe',\n",
       " 'Ayaka Suwa',\n",
       " 'Megumi Han',\n",
       " 'Tomoaki Maeno',\n",
       " 'Tsubasa Yonaga',\n",
       " 'Tetsuya Kakihara',\n",
       " 'Satoshi Hino',\n",
       " 'Hiroyuki Yoshino',\n",
       " 'Atsushi Abe',\n",
       " 'Koji Yusa',\n",
       " 'Kouki Miyata',\n",
       " 'Hiro Shimono',\n",
       " 'Wataru Hatano',\n",
       " 'Yuichi Nakamura',\n",
       " 'Kenji Nojima',\n",
       " 'Mamoru Miyano',\n",
       " 'Daisuke Ono',\n",
       " 'Yuma Uchida',\n",
       " 'Jun Fukuyama',\n",
       " 'Sumriddhi Shukla',\n",
       " 'Jigna Bharadwaj',\n",
       " 'Sonal Kaushal',\n",
       " 'Neshma Chemburkar',\n",
       " 'Ganesh Divekar',\n",
       " 'Annamaya Verma',\n",
       " 'Anamay Verma',\n",
       " 'Manoj Pandey',\n",
       " 'Vijay Sethupathi',\n",
       " 'Parthiban',\n",
       " 'Raashi Khanna',\n",
       " 'Vijay Sethupathi',\n",
       " 'Parthiban',\n",
       " 'Raashi Khanna',\n",
       " 'Thomas Brodie-Sangster',\n",
       " 'Felicity Jones',\n",
       " 'Freddie Highmore',\n",
       " 'Patrick Stewart',\n",
       " 'Meera Syal',\n",
       " 'Sanjeev Bhaskar',\n",
       " 'Nonso Anozie',\n",
       " 'Mary Elizabeth Winstead',\n",
       " 'Jun Kunimura',\n",
       " 'Woody Harrelson',\n",
       " 'Tadanobu Asano',\n",
       " 'Miyavi',\n",
       " 'Michiel Huisman',\n",
       " 'Miku Martineau',\n",
       " 'Tom Ellis',\n",
       " 'Lauren German',\n",
       " 'Kevin Alejandro',\n",
       " 'D.B. Woodside',\n",
       " 'Lesley-Ann Brandt',\n",
       " 'Scarlett Estevez',\n",
       " 'Rachael Harris',\n",
       " 'Aimee Garcia',\n",
       " 'Tricia Helfer',\n",
       " 'Tom Welling',\n",
       " 'Jeremiah W. Birkett',\n",
       " 'Pej Vahdat',\n",
       " 'Michael Gladis',\n",
       " 'Jo Koy',\n",
       " 'Funke Akindele',\n",
       " 'Ayo Makun',\n",
       " 'Chioma Chukwuka Akpotha',\n",
       " 'Yemi Eberechi Alade',\n",
       " 'Blossom Chukwujekwu',\n",
       " 'Deyemi Okanlawon',\n",
       " 'Alexx Ekubo',\n",
       " 'Zubby Michael',\n",
       " 'Tina Mba',\n",
       " 'Femi Jacobs',\n",
       " 'Ikue Otani',\n",
       " 'Sarah Natochenny',\n",
       " 'Zeno Robinson',\n",
       " 'Cherami Leigh',\n",
       " 'James Carter Cathcart',\n",
       " 'Michele Knotz',\n",
       " 'Rodger Parsons',\n",
       " 'Ray Chase',\n",
       " 'Casey Mongillo',\n",
       " 'Tara Sands',\n",
       " 'David Kross',\n",
       " 'Hanno Koffler',\n",
       " 'Maria Ehrich',\n",
       " 'Robert Finster',\n",
       " 'Yung Ngo',\n",
       " 'Klaus Steinbacher',\n",
       " 'Livia Matthes',\n",
       " 'Nellie Thalbach',\n",
       " 'Jeon Hae-ri',\n",
       " 'Kim Eun-ah',\n",
       " 'Hong Bum-ki',\n",
       " 'Nam Do-hyeong',\n",
       " 'Um Sang-hyun',\n",
       " 'Malcolm X',\n",
       " 'Muhammad Ali',\n",
       " 'Julie Tejwani',\n",
       " 'Sabina Malik',\n",
       " 'Jigna Bhardwaj',\n",
       " 'Rupa Bhimani',\n",
       " 'Lalit Agarwal',\n",
       " 'Rajesh Shukla',\n",
       " 'Rajesh Kava',\n",
       " 'Emma Roberts',\n",
       " 'Danielle Macdonald',\n",
       " 'Awkwafina',\n",
       " 'Eiza González',\n",
       " 'Milla Jovovich',\n",
       " 'Jeremy Irvine',\n",
       " 'Arnaud Valois',\n",
       " 'Daniel Horvath',\n",
       " 'Pauline Etienne',\n",
       " 'Laurent Capelluto',\n",
       " 'Stefano Cassetti',\n",
       " 'Mehmet Kurtuluş',\n",
       " 'Babetida Sadjo',\n",
       " 'Jan Bijvoet',\n",
       " 'Ksawery Szlenkier',\n",
       " 'Vincent Londez',\n",
       " 'Regina Bikkinina',\n",
       " 'Alba Gaïa Kraghede Bellugi',\n",
       " 'Nabil Mallat',\n",
       " 'Elsa Öhrn',\n",
       " 'Mustapha Aarab',\n",
       " 'Jonay Pineda Skallak',\n",
       " 'Magnus Krepper',\n",
       " 'Loreen',\n",
       " 'Albin Grenholm',\n",
       " 'Simon Mezher',\n",
       " 'Elsa Bergström Terent',\n",
       " 'Josef Kadim',\n",
       " 'Yohannes Frezgi',\n",
       " 'Will Arnett',\n",
       " 'Ludacris',\n",
       " 'Natasha Lyonne',\n",
       " 'Stanley Tucci',\n",
       " 'Jordin Sparks',\n",
       " 'Gabriel Iglesias',\n",
       " \"Shaquille O'Neal\",\n",
       " 'Omar Chaparro',\n",
       " 'Alan Cumming',\n",
       " 'Andy Beckwith',\n",
       " 'Delia Sheppard',\n",
       " 'Kerry Shale',\n",
       " 'Michelle Buteau',\n",
       " 'Ronnie Van Zandt',\n",
       " 'Gary Rossington',\n",
       " 'Allen Collins',\n",
       " 'Leon Wilkeson',\n",
       " 'Bob Burns',\n",
       " 'Billy Powell',\n",
       " 'Ed King',\n",
       " 'Artimus Pyle',\n",
       " 'Steve Gaines',\n",
       " 'Johnny Van Zant',\n",
       " 'Jack Fisher',\n",
       " 'Tom Kenny',\n",
       " 'Amanda C. Miller',\n",
       " 'Kim Yarbrough',\n",
       " 'Keith Ferguson',\n",
       " 'Grey Griffin',\n",
       " 'Lily Rose Silver',\n",
       " 'Antonio Aakeel',\n",
       " 'Chipo Chung',\n",
       " 'Simon Foster',\n",
       " 'Teresa Gallagher',\n",
       " 'Simon Greenall',\n",
       " 'Kate Harbour',\n",
       " 'Paul Panting',\n",
       " 'Rob Rackstraw',\n",
       " 'William Vanderpuye',\n",
       " 'Helen Walsh',\n",
       " 'Keith Wickham',\n",
       " 'Andres Williams',\n",
       " 'Jo Wyatt',\n",
       " 'Julie Delpy',\n",
       " 'Elisabeth Shue',\n",
       " 'Sarah Jones',\n",
       " 'Alexia Landeau',\n",
       " 'Mathieu Demy',\n",
       " 'Troy Garity',\n",
       " 'Timm Sharp',\n",
       " 'Giovanni Ribisi',\n",
       " 'Austin Abell',\n",
       " 'Travis Turner',\n",
       " 'Cole Howard',\n",
       " 'Anna Cummer',\n",
       " 'Jesse Inocalla',\n",
       " 'Brian Dobson',\n",
       " 'Michael Adamthwaite',\n",
       " 'Joseph Girgis',\n",
       " 'Caitlyn Bairstow',\n",
       " 'Jide Kosoko',\n",
       " 'Omotola Jalade-Ekeinde',\n",
       " 'Yemi Blaq',\n",
       " 'Sola Sobowale',\n",
       " 'Ken Erics',\n",
       " 'Toyin Aimakhu',\n",
       " 'Segun Arinze',\n",
       " 'Jibola Dabo',\n",
       " 'Rotimi Salami',\n",
       " 'Pa Jimi Solanke',\n",
       " 'Rachael Okonkwo',\n",
       " 'Bassey Okon',\n",
       " 'Lucien Morgan',\n",
       " 'Magdalena Korpas',\n",
       " 'Robyn Slade',\n",
       " 'Kami Desilets',\n",
       " 'Antony Varghese',\n",
       " 'Reshma Rajan',\n",
       " 'Binny Rinky Benjamin',\n",
       " 'Vineeth Vishwam',\n",
       " 'Kichu Tellus',\n",
       " 'Sreekanth Dasan',\n",
       " 'Sarath Kumar',\n",
       " 'Tito Wilson',\n",
       " 'Anandhu',\n",
       " 'Bitto Davis',\n",
       " 'Sinoj Varghese',\n",
       " 'Peyton List',\n",
       " 'Karan Brar',\n",
       " 'Skai Jackson',\n",
       " 'Miranda May',\n",
       " 'Kevin G. Quinn',\n",
       " 'Nathan Arenas',\n",
       " 'Nina Lu',\n",
       " 'Mandy Grace',\n",
       " 'David de Vos',\n",
       " 'Donna Rusch',\n",
       " 'Devan Key',\n",
       " 'Isabella Mancuso',\n",
       " 'Ariana Guido',\n",
       " 'Aubri Ibrag',\n",
       " \"Sana'a Shaik\",\n",
       " 'Miah Madden',\n",
       " 'Mercy Cornwall',\n",
       " 'Georgia-May Davis',\n",
       " 'Ryan Harrison',\n",
       " 'Josh Heuston',\n",
       " 'Alexander Grant',\n",
       " 'Úrsula Corberó',\n",
       " 'Itziar Ituño',\n",
       " 'Álvaro Morte',\n",
       " 'Paco Tous',\n",
       " 'Enrique Arce',\n",
       " 'Pedro Alonso',\n",
       " 'María Pedraza',\n",
       " 'Alba Flores',\n",
       " 'Miguel Herrán',\n",
       " 'Jaime Lorente',\n",
       " 'Esther Acebo',\n",
       " 'Darko Peric',\n",
       " 'Kiti Mánver',\n",
       " 'Liam Mitchell',\n",
       " 'Dee Bradley Baker',\n",
       " 'Grey Griffin',\n",
       " 'Josh McDermitt',\n",
       " 'Kari Wahlgren',\n",
       " 'Judy Alice Lee',\n",
       " 'Ali Mawji',\n",
       " 'Michael Keaton',\n",
       " 'Stanley Tucci',\n",
       " 'Amy Ryan',\n",
       " 'Shunori Ramanathan',\n",
       " 'Ato Blankson-Wood',\n",
       " 'Tate Donovan',\n",
       " 'Laura Benanti',\n",
       " 'Chris Tardio',\n",
       " 'Victoria Justice',\n",
       " 'Midori Francis',\n",
       " 'Robyn Scott',\n",
       " 'Adam Garcia',\n",
       " 'Timothy Renouf',\n",
       " 'Gloria Garcia',\n",
       " 'Myfanwy Waring',\n",
       " 'Spencer Sutherland',\n",
       " 'Madhuri Dixit',\n",
       " 'Shah Rukh Khan',\n",
       " 'Tinnu Anand',\n",
       " 'Johny Lever',\n",
       " 'Kalpana Iyer',\n",
       " 'Himani Shivpuri',\n",
       " 'Sudha Chandran',\n",
       " 'Beena',\n",
       " 'Kiran Kumar',\n",
       " 'Abbie Cornish',\n",
       " 'Ben Whishaw',\n",
       " 'Paul Schneider',\n",
       " 'Kerry Fox',\n",
       " 'Edie Martin',\n",
       " 'Thomas Brodie-Sangster',\n",
       " 'Claudie Blakley',\n",
       " 'Gerard Monaco',\n",
       " 'Antonia Campbell-Hughes',\n",
       " 'Samuel Roukin',\n",
       " 'Krrish Chhabria',\n",
       " 'Hetal Gada',\n",
       " 'Vipin Sharma',\n",
       " 'Gulfam Khan',\n",
       " 'Suresh Menon',\n",
       " 'Vijay Maurya',\n",
       " 'Rajiv Lakshman',\n",
       " 'Ninad Kamat',\n",
       " 'Akshay Oberoi',\n",
       " 'Pankaj Tripathi',\n",
       " 'Ragini Khanna',\n",
       " 'Aamir Bashir',\n",
       " 'Shalini Vatsa',\n",
       " 'Ashish Verma',\n",
       " 'Janine Gutierrez',\n",
       " 'JC Santos',\n",
       " 'Victor Anastacio',\n",
       " 'Yesh Burce',\n",
       " 'Lotlot De Leon',\n",
       " 'Jon Allen',\n",
       " 'Kellen Goff',\n",
       " 'Joe Hernandez',\n",
       " 'Kaiji Tang',\n",
       " 'Lee Ji-eun',\n",
       " 'Yeo Jin-goo',\n",
       " 'Shin Jung-geun',\n",
       " 'Seo Yi-sook',\n",
       " 'Bae Hae-sun',\n",
       " 'Pyo Ji-hoon',\n",
       " 'Cho Hyun-chul',\n",
       " 'Kang Hong-suk',\n",
       " 'Lee Do-hyun',\n",
       " 'Lee Tae-seon',\n",
       " 'Kang Mina',\n",
       " 'Park You-na',\n",
       " 'Oh Ji-ho',\n",
       " 'Meg Ryan',\n",
       " 'Mark Ruffalo',\n",
       " 'Jennifer Jason Leigh',\n",
       " 'Nick Damici',\n",
       " 'Sharrieff Pugh',\n",
       " 'Kevin Bacon',\n",
       " 'Yaani King Mondschein',\n",
       " 'Heather Litteer',\n",
       " 'Sean Hayes',\n",
       " 'Wanda Sykes',\n",
       " 'Laurie Metcalf',\n",
       " 'David Harbour',\n",
       " 'Gary Cole',\n",
       " 'Patti Harrison',\n",
       " 'Matt Rogers',\n",
       " 'Aadil Khan',\n",
       " 'Sadia Khateeb',\n",
       " 'Zain Khan Durrani',\n",
       " 'Priyanshu Chatterjee',\n",
       " 'Bhavna Chauhan',\n",
       " 'Ashwin Dhar',\n",
       " 'Farid Azad Khan',\n",
       " 'Saghar Sehrai',\n",
       " 'Hilary Duff',\n",
       " 'Chad Michael Murray',\n",
       " 'Jennifer Coolidge',\n",
       " 'Dan Byrd',\n",
       " 'Regina King',\n",
       " 'Julie Gonzalo',\n",
       " 'Lin Shaye',\n",
       " 'Madeline Zima',\n",
       " 'Andrea Avery',\n",
       " 'Mary Pat Gleason',\n",
       " 'Paul Rodriguez',\n",
       " 'Whip Hubley',\n",
       " 'Kevin Kilner',\n",
       " 'Erica Hubbard',\n",
       " 'Simon Helberg',\n",
       " 'Glenn Close',\n",
       " 'Terence Stamp',\n",
       " 'Max Irons',\n",
       " 'Gillian Anderson',\n",
       " 'Christina Hendricks',\n",
       " 'Stefanie Martini',\n",
       " 'Julian Sands',\n",
       " 'Honor Kneafsey',\n",
       " 'Christian McKay',\n",
       " 'Amanda Abbington',\n",
       " 'Robert Redford',\n",
       " 'Jennifer Lopez',\n",
       " 'Morgan Freeman',\n",
       " 'Josh Lucas',\n",
       " 'Damian Lewis',\n",
       " 'Camryn Manheim',\n",
       " 'Becca Gardner',\n",
       " 'Lynda Boyd',\n",
       " 'Rob Hayter',\n",
       " 'P. Lynn Johnson',\n",
       " 'America Young',\n",
       " 'Amber May',\n",
       " 'Giselle Fernandez',\n",
       " 'Alejandro Saab',\n",
       " 'Dinora Walcott',\n",
       " 'Harrison Ford',\n",
       " 'Rutger Hauer',\n",
       " 'Sean Young',\n",
       " 'Edward James Olmos',\n",
       " 'M. Emmet Walsh',\n",
       " 'Daryl Hannah',\n",
       " 'William Sanderson',\n",
       " ...]"
      ]
     },
     "execution_count": 74,
     "metadata": {},
     "output_type": "execute_result"
    }
   ],
   "source": [
    "all_cast"
   ]
  },
  {
   "cell_type": "code",
   "execution_count": 75,
   "id": "3a145049",
   "metadata": {},
   "outputs": [],
   "source": [
    "cast_df = pd.DataFrame(all_cast, columns=['name'])"
   ]
  },
  {
   "cell_type": "code",
   "execution_count": 76,
   "id": "82e20cee",
   "metadata": {},
   "outputs": [
    {
     "data": {
      "text/html": [
       "<div>\n",
       "<style scoped>\n",
       "    .dataframe tbody tr th:only-of-type {\n",
       "        vertical-align: middle;\n",
       "    }\n",
       "\n",
       "    .dataframe tbody tr th {\n",
       "        vertical-align: top;\n",
       "    }\n",
       "\n",
       "    .dataframe thead th {\n",
       "        text-align: right;\n",
       "    }\n",
       "</style>\n",
       "<table border=\"1\" class=\"dataframe\">\n",
       "  <thead>\n",
       "    <tr style=\"text-align: right;\">\n",
       "      <th></th>\n",
       "      <th>name</th>\n",
       "    </tr>\n",
       "  </thead>\n",
       "  <tbody>\n",
       "    <tr>\n",
       "      <th>0</th>\n",
       "      <td>Ama Qamata</td>\n",
       "    </tr>\n",
       "    <tr>\n",
       "      <th>1</th>\n",
       "      <td>Khosi Ngema</td>\n",
       "    </tr>\n",
       "    <tr>\n",
       "      <th>2</th>\n",
       "      <td>Gail Mabalane</td>\n",
       "    </tr>\n",
       "    <tr>\n",
       "      <th>3</th>\n",
       "      <td>Thabang Molaba</td>\n",
       "    </tr>\n",
       "    <tr>\n",
       "      <th>4</th>\n",
       "      <td>Dillon Windvogel</td>\n",
       "    </tr>\n",
       "    <tr>\n",
       "      <th>...</th>\n",
       "      <td>...</td>\n",
       "    </tr>\n",
       "    <tr>\n",
       "      <th>64049</th>\n",
       "      <td>Manish Chaudhary</td>\n",
       "    </tr>\n",
       "    <tr>\n",
       "      <th>64050</th>\n",
       "      <td>Meghna Malik</td>\n",
       "    </tr>\n",
       "    <tr>\n",
       "      <th>64051</th>\n",
       "      <td>Malkeet Rauni</td>\n",
       "    </tr>\n",
       "    <tr>\n",
       "      <th>64052</th>\n",
       "      <td>Anita Shabdish</td>\n",
       "    </tr>\n",
       "    <tr>\n",
       "      <th>64053</th>\n",
       "      <td>Chittaranjan Tripathy</td>\n",
       "    </tr>\n",
       "  </tbody>\n",
       "</table>\n",
       "<p>64054 rows × 1 columns</p>\n",
       "</div>"
      ],
      "text/plain": [
       "                        name\n",
       "0                 Ama Qamata\n",
       "1                Khosi Ngema\n",
       "2              Gail Mabalane\n",
       "3             Thabang Molaba\n",
       "4           Dillon Windvogel\n",
       "...                      ...\n",
       "64049       Manish Chaudhary\n",
       "64050           Meghna Malik\n",
       "64051          Malkeet Rauni\n",
       "64052         Anita Shabdish\n",
       "64053  Chittaranjan Tripathy\n",
       "\n",
       "[64054 rows x 1 columns]"
      ]
     },
     "execution_count": 76,
     "metadata": {},
     "output_type": "execute_result"
    }
   ],
   "source": [
    "cast_df"
   ]
  },
  {
   "cell_type": "code",
   "execution_count": 77,
   "id": "7c7b88bb",
   "metadata": {},
   "outputs": [
    {
     "data": {
      "text/plain": [
       "name    0\n",
       "dtype: int64"
      ]
     },
     "execution_count": 77,
     "metadata": {},
     "output_type": "execute_result"
    }
   ],
   "source": [
    "cast_df.isna().sum()"
   ]
  },
  {
   "cell_type": "code",
   "execution_count": 78,
   "id": "e44692c7",
   "metadata": {},
   "outputs": [
    {
     "data": {
      "text/plain": [
       "Anupam Kher          43\n",
       "Shah Rukh Khan       35\n",
       "Julie Tejwani        33\n",
       "Takahiro Sakurai     32\n",
       "Naseeruddin Shah     32\n",
       "Rupa Bhimani         31\n",
       "Om Puri              30\n",
       "Akshay Kumar         30\n",
       "Yuki Kaji            29\n",
       "Paresh Rawal         28\n",
       "Amitabh Bachchan     28\n",
       "Boman Irani          27\n",
       "Rajesh Kava          26\n",
       "Vincent Tong         26\n",
       "Andrea Libman        25\n",
       "Kareena Kapoor       25\n",
       "Samuel L. Jackson    24\n",
       "John Cleese          24\n",
       "Fred Tatasciore      23\n",
       "Tara Strong          23\n",
       "Name: name, dtype: int64"
      ]
     },
     "execution_count": 78,
     "metadata": {},
     "output_type": "execute_result"
    }
   ],
   "source": [
    "top_cast = cast_df.name.value_counts().head(20)\n",
    "top_cast"
   ]
  },
  {
   "cell_type": "code",
   "execution_count": 79,
   "id": "db6611fd",
   "metadata": {},
   "outputs": [
    {
     "data": {
      "image/png": "[encoded data removed]",
      "text/plain": [
       "<Figure size 1152x576 with 1 Axes>"
      ]
     },
     "metadata": {
      "needs_background": "light"
     },
     "output_type": "display_data"
    }
   ],
   "source": [
    "plt.figure(figsize=(16,8))\n",
    "plt.title('Top 20 actors by number of content', fontsize=16)\n",
    "plt.ylabel('Number of productions')\n",
    "plt.xticks(rotation = 75)\n",
    "sns.barplot(x = top_cast.index, y = top_cast.values)\n",
    "plt.show()"
   ]
  },
  {
   "cell_type": "markdown",
   "id": "b3d9ee2f",
   "metadata": {},
   "source": [
    "Most of the top actors are from India."
   ]
  },
  {
   "cell_type": "code",
   "execution_count": 80,
   "id": "07d079ba",
   "metadata": {},
   "outputs": [],
   "source": [
    "directors = netflix_df['director'].copy()"
   ]
  },
  {
   "cell_type": "code",
   "execution_count": 81,
   "id": "142d4e5c",
   "metadata": {},
   "outputs": [
    {
     "data": {
      "text/plain": [
       "2627"
      ]
     },
     "execution_count": 81,
     "metadata": {},
     "output_type": "execute_result"
    }
   ],
   "source": [
    "directors.isna().sum()"
   ]
  },
  {
   "cell_type": "code",
   "execution_count": 82,
   "id": "b5771192",
   "metadata": {},
   "outputs": [],
   "source": [
    "directors.dropna(inplace=True)"
   ]
  },
  {
   "cell_type": "code",
   "execution_count": 83,
   "id": "b3b89680",
   "metadata": {},
   "outputs": [
    {
     "data": {
      "text/plain": [
       "Rajiv Chilaka             19\n",
       "Raúl Campos, Jan Suter    18\n",
       "Suhas Kadav               16\n",
       "Marcus Raboy              16\n",
       "Jay Karas                 14\n",
       "Cathy Garcia-Molina       13\n",
       "Jay Chapman               12\n",
       "Martin Scorsese           12\n",
       "Youssef Chahine           12\n",
       "Steven Spielberg          11\n",
       "Don Michael Paul          10\n",
       "David Dhawan               9\n",
       "Ryan Polito                8\n",
       "Hakan Algül                8\n",
       "Quentin Tarantino          8\n",
       "Kunle Afolayan             8\n",
       "Johnnie To                 8\n",
       "Lance Bangs                8\n",
       "Yılmaz Erdoğan             8\n",
       "Robert Rodriguez           8\n",
       "Name: director, dtype: int64"
      ]
     },
     "execution_count": 83,
     "metadata": {},
     "output_type": "execute_result"
    }
   ],
   "source": [
    "top_directors = directors.value_counts().head(20)\n",
    "top_directors"
   ]
  },
  {
   "cell_type": "code",
   "execution_count": 84,
   "id": "a89d4734",
   "metadata": {},
   "outputs": [
    {
     "data": {
      "image/png": "[encoded data removed]",
      "text/plain": [
       "<Figure size 1152x576 with 1 Axes>"
      ]
     },
     "metadata": {
      "needs_background": "light"
     },
     "output_type": "display_data"
    }
   ],
   "source": [
    "plt.figure(figsize=(16,8))\n",
    "plt.title('Top 20 directors by number of content', fontsize=16)\n",
    "plt.ylabel('Number of productions')\n",
    "plt.xticks(rotation = 75)\n",
    "sns.barplot(x = top_directors.index, y = top_directors.values)\n",
    "plt.show()"
   ]
  },
  {
   "cell_type": "markdown",
   "id": "2276e3a4",
   "metadata": {},
   "source": [
    "In directors situation is similar - most are from India."
   ]
  },
  {
   "cell_type": "markdown",
   "id": "0033739c",
   "metadata": {},
   "source": [
    "### Genres"
   ]
  },
  {
   "cell_type": "code",
   "execution_count": 85,
   "id": "ae1f2af8",
   "metadata": {},
   "outputs": [
    {
     "data": {
      "text/plain": [
       "0                                           Documentaries\n",
       "1         International TV Shows, TV Dramas, TV Mysteries\n",
       "2       Crime TV Shows, International TV Shows, TV Act...\n",
       "3                                  Docuseries, Reality TV\n",
       "4       International TV Shows, Romantic TV Shows, TV ...\n",
       "                              ...                        \n",
       "8802                       Cult Movies, Dramas, Thrillers\n",
       "8803               Kids' TV, Korean TV Shows, TV Comedies\n",
       "8804                              Comedies, Horror Movies\n",
       "8805                   Children & Family Movies, Comedies\n",
       "8806       Dramas, International Movies, Music & Musicals\n",
       "Name: listed_in, Length: 8797, dtype: object"
      ]
     },
     "execution_count": 85,
     "metadata": {},
     "output_type": "execute_result"
    }
   ],
   "source": [
    "genres = netflix_df.listed_in.copy()\n",
    "genres"
   ]
  },
  {
   "cell_type": "code",
   "execution_count": 86,
   "id": "ef644f5d",
   "metadata": {},
   "outputs": [],
   "source": [
    "genres.dropna(inplace=True)"
   ]
  },
  {
   "cell_type": "code",
   "execution_count": 87,
   "id": "c2f9ee0d",
   "metadata": {},
   "outputs": [],
   "source": [
    "all_genres = []\n",
    "for i in genres:\n",
    "    ## if 'i' is a (string type) set of values it needs to be splited and then added to list\n",
    "    ## otherwise it is a single value and can be added to list directly\n",
    "    if isinstance(i, str):\n",
    "        i = i.split(\",\")\n",
    "        for z in i:\n",
    "            z.replace(' ', '')\n",
    "            all_genres.append(z.strip())\n",
    "    else:\n",
    "        all_genres.append(i.strip())"
   ]
  },
  {
   "cell_type": "code",
   "execution_count": 88,
   "id": "68a35dfe",
   "metadata": {},
   "outputs": [
    {
     "data": {
      "text/plain": [
       "['Documentaries',\n",
       " 'International TV Shows',\n",
       " 'TV Dramas',\n",
       " 'TV Mysteries',\n",
       " 'Crime TV Shows',\n",
       " 'International TV Shows',\n",
       " 'TV Action & Adventure',\n",
       " 'Docuseries',\n",
       " 'Reality TV',\n",
       " 'International TV Shows',\n",
       " 'Romantic TV Shows',\n",
       " 'TV Comedies',\n",
       " 'TV Dramas',\n",
       " 'TV Horror',\n",
       " 'TV Mysteries',\n",
       " 'Children & Family Movies',\n",
       " 'Dramas',\n",
       " 'Independent Movies',\n",
       " 'International Movies',\n",
       " 'British TV Shows',\n",
       " 'Reality TV',\n",
       " 'Comedies',\n",
       " 'Dramas',\n",
       " 'Crime TV Shows',\n",
       " 'Docuseries',\n",
       " 'International TV Shows',\n",
       " 'Crime TV Shows',\n",
       " 'International TV Shows',\n",
       " 'TV Action & Adventure',\n",
       " 'Dramas',\n",
       " 'International Movies',\n",
       " 'Children & Family Movies',\n",
       " 'Comedies',\n",
       " 'British TV Shows',\n",
       " 'Crime TV Shows',\n",
       " 'Docuseries',\n",
       " 'TV Comedies',\n",
       " 'TV Dramas',\n",
       " 'Documentaries',\n",
       " 'International Movies',\n",
       " 'Crime TV Shows',\n",
       " 'Spanish-Language TV Shows',\n",
       " 'TV Dramas',\n",
       " 'Thrillers',\n",
       " 'International TV Shows',\n",
       " 'Spanish-Language TV Shows',\n",
       " 'TV Action & Adventure',\n",
       " 'Crime TV Shows',\n",
       " 'Docuseries',\n",
       " 'International TV Shows',\n",
       " 'International TV Shows',\n",
       " 'TV Action & Adventure',\n",
       " 'TV Dramas',\n",
       " 'Comedies',\n",
       " 'International Movies',\n",
       " 'Children & Family Movies',\n",
       " 'Comedies',\n",
       " 'International Movies',\n",
       " 'Romantic Movies',\n",
       " 'Docuseries',\n",
       " 'International TV Shows',\n",
       " 'Reality TV',\n",
       " 'Comedies',\n",
       " 'International Movies',\n",
       " 'Music & Musicals',\n",
       " 'Comedies',\n",
       " 'Horror Movies',\n",
       " 'Sci-Fi & Fantasy',\n",
       " 'Thrillers',\n",
       " 'Dramas',\n",
       " 'Independent Movies',\n",
       " 'International Movies',\n",
       " 'TV Comedies',\n",
       " 'British TV Shows',\n",
       " 'International TV Shows',\n",
       " 'TV Comedies',\n",
       " 'International TV Shows',\n",
       " 'TV Dramas',\n",
       " 'TV Thrillers',\n",
       " \"Kids' TV\",\n",
       " 'Dramas',\n",
       " 'International Movies',\n",
       " 'Thrillers',\n",
       " 'Action & Adventure',\n",
       " 'Dramas',\n",
       " 'International Movies',\n",
       " \"Kids' TV\",\n",
       " 'TV Comedies',\n",
       " 'Action & Adventure',\n",
       " 'Dramas',\n",
       " \"Kids' TV\",\n",
       " \"Kids' TV\",\n",
       " 'TV Sci-Fi & Fantasy',\n",
       " 'Action & Adventure',\n",
       " 'Classic Movies',\n",
       " 'Dramas',\n",
       " 'Dramas',\n",
       " 'Horror Movies',\n",
       " 'Thrillers',\n",
       " 'Action & Adventure',\n",
       " 'Horror Movies',\n",
       " 'Thrillers',\n",
       " 'Action & Adventure',\n",
       " 'Horror Movies',\n",
       " 'Thrillers',\n",
       " 'Documentaries',\n",
       " 'Action & Adventure',\n",
       " 'International TV Shows',\n",
       " 'Romantic TV Shows',\n",
       " 'TV Comedies',\n",
       " 'Dramas',\n",
       " 'Thrillers',\n",
       " 'International TV Shows',\n",
       " 'TV Dramas',\n",
       " 'International TV Shows',\n",
       " 'TV Dramas',\n",
       " 'TV Sci-Fi & Fantasy',\n",
       " 'Action & Adventure',\n",
       " 'Anime Features',\n",
       " 'International Movies',\n",
       " 'Action & Adventure',\n",
       " 'Anime Features',\n",
       " 'International Movies',\n",
       " 'Action & Adventure',\n",
       " 'Anime Features',\n",
       " 'International Movies',\n",
       " 'Action & Adventure',\n",
       " 'Anime Features',\n",
       " 'International Movies',\n",
       " 'Reality TV',\n",
       " 'Action & Adventure',\n",
       " 'Anime Features',\n",
       " 'International Movies',\n",
       " 'Action & Adventure',\n",
       " 'Anime Features',\n",
       " 'International Movies',\n",
       " 'Action & Adventure',\n",
       " 'Anime Features',\n",
       " 'International Movies',\n",
       " 'Action & Adventure',\n",
       " 'Anime Features',\n",
       " 'International Movies',\n",
       " 'Action & Adventure',\n",
       " 'Anime Features',\n",
       " 'International Movies',\n",
       " 'Action & Adventure',\n",
       " 'Anime Features',\n",
       " 'International Movies',\n",
       " 'Action & Adventure',\n",
       " 'Anime Features',\n",
       " 'International Movies',\n",
       " 'Action & Adventure',\n",
       " 'Anime Features',\n",
       " 'International Movies',\n",
       " 'Children & Family Movies',\n",
       " \"Kids' TV\",\n",
       " 'Docuseries',\n",
       " 'International TV Shows',\n",
       " \"Kids' TV\",\n",
       " 'TV Comedies',\n",
       " 'Documentaries',\n",
       " 'International Movies',\n",
       " 'Sports Movies',\n",
       " 'International TV Shows',\n",
       " 'TV Dramas',\n",
       " 'International TV Shows',\n",
       " 'Reality TV',\n",
       " 'Romantic TV Shows',\n",
       " 'Children & Family Movies',\n",
       " 'British TV Shows',\n",
       " 'Docuseries',\n",
       " 'International TV Shows',\n",
       " 'Dramas',\n",
       " 'International Movies',\n",
       " 'Reality TV',\n",
       " 'Children & Family Movies',\n",
       " 'Anime Series',\n",
       " 'International TV Shows',\n",
       " 'Children & Family Movies',\n",
       " 'Comedies',\n",
       " 'Comedies',\n",
       " 'Dramas',\n",
       " 'International Movies',\n",
       " 'Comedies',\n",
       " 'Dramas',\n",
       " 'International Movies',\n",
       " 'Children & Family Movies',\n",
       " 'Action & Adventure',\n",
       " 'Crime TV Shows',\n",
       " 'TV Comedies',\n",
       " 'TV Dramas',\n",
       " 'Reality TV',\n",
       " 'Action & Adventure',\n",
       " 'Comedies',\n",
       " 'Dramas',\n",
       " 'Anime Series',\n",
       " \"Kids' TV\",\n",
       " 'International Movies',\n",
       " 'Thrillers',\n",
       " \"Kids' TV\",\n",
       " 'Korean TV Shows',\n",
       " 'Documentaries',\n",
       " 'Sports Movies',\n",
       " \"Kids' TV\",\n",
       " 'Sci-Fi & Fantasy',\n",
       " 'Thrillers',\n",
       " 'Documentaries',\n",
       " 'International Movies',\n",
       " 'International TV Shows',\n",
       " 'TV Dramas',\n",
       " 'TV Mysteries',\n",
       " 'Dramas',\n",
       " 'International Movies',\n",
       " 'Romantic Movies',\n",
       " 'Children & Family Movies',\n",
       " 'Comedies',\n",
       " 'Reality TV',\n",
       " 'Documentaries',\n",
       " 'Music & Musicals',\n",
       " \"Kids' TV\",\n",
       " 'TV Comedies',\n",
       " 'TV Sci-Fi & Fantasy',\n",
       " 'British TV Shows',\n",
       " \"Kids' TV\",\n",
       " 'TV Comedies',\n",
       " 'TV Dramas',\n",
       " \"Kids' TV\",\n",
       " 'Documentaries',\n",
       " 'Sports Movies',\n",
       " 'Docuseries',\n",
       " 'Science & Nature TV',\n",
       " 'Dramas',\n",
       " 'International Movies',\n",
       " 'Thrillers',\n",
       " \"Kids' TV\",\n",
       " 'Korean TV Shows',\n",
       " 'Action & Adventure',\n",
       " 'Comedies',\n",
       " 'Dramas',\n",
       " \"Kids' TV\",\n",
       " 'TV Comedies',\n",
       " 'Children & Family Movies',\n",
       " 'Dramas',\n",
       " \"Kids' TV\",\n",
       " 'TV Dramas',\n",
       " 'Teen TV Shows',\n",
       " 'Crime TV Shows',\n",
       " 'International TV Shows',\n",
       " 'Spanish-Language TV Shows',\n",
       " 'Docuseries',\n",
       " 'International TV Shows',\n",
       " 'Spanish-Language TV Shows',\n",
       " \"Kids' TV\",\n",
       " 'Dramas',\n",
       " 'Comedies',\n",
       " 'Romantic Movies',\n",
       " 'Dramas',\n",
       " 'International Movies',\n",
       " 'Thrillers',\n",
       " 'Dramas',\n",
       " 'Romantic Movies',\n",
       " 'Comedies',\n",
       " 'Dramas',\n",
       " 'Independent Movies',\n",
       " 'Documentaries',\n",
       " 'Dramas',\n",
       " 'International Movies',\n",
       " 'Thrillers',\n",
       " 'Dramas',\n",
       " 'International Movies',\n",
       " 'Romantic Movies',\n",
       " \"Kids' TV\",\n",
       " 'TV Comedies',\n",
       " 'International TV Shows',\n",
       " 'Romantic TV Shows',\n",
       " 'TV Comedies',\n",
       " 'Thrillers',\n",
       " \"Kids' TV\",\n",
       " \"Kids' TV\",\n",
       " 'Korean TV Shows',\n",
       " 'Crime TV Shows',\n",
       " 'TV Action & Adventure',\n",
       " 'TV Comedies',\n",
       " 'Dramas',\n",
       " 'International Movies',\n",
       " 'Romantic Movies',\n",
       " 'Children & Family Movies',\n",
       " 'Comedies',\n",
       " 'Dramas',\n",
       " 'International Movies',\n",
       " 'Thrillers',\n",
       " 'Dramas',\n",
       " 'Children & Family Movies',\n",
       " 'Music & Musicals',\n",
       " 'Action & Adventure',\n",
       " 'Classic Movies',\n",
       " 'Cult Movies',\n",
       " 'International TV Shows',\n",
       " 'TV Action & Adventure',\n",
       " 'TV Comedies',\n",
       " 'Action & Adventure',\n",
       " 'Sci-Fi & Fantasy',\n",
       " 'Action & Adventure',\n",
       " 'Dramas',\n",
       " 'Action & Adventure',\n",
       " 'Dramas',\n",
       " 'Romantic Movies',\n",
       " 'Action & Adventure',\n",
       " 'Comedies',\n",
       " 'Dramas',\n",
       " 'Romantic Movies',\n",
       " 'Classic Movies',\n",
       " 'Comedies',\n",
       " 'Dramas',\n",
       " 'Dramas',\n",
       " 'International Movies',\n",
       " 'Thrillers',\n",
       " 'Action & Adventure',\n",
       " 'Dramas',\n",
       " 'Action & Adventure',\n",
       " 'Sci-Fi & Fantasy',\n",
       " 'Comedies',\n",
       " 'Cult Movies',\n",
       " 'Comedies',\n",
       " 'Cult Movies',\n",
       " 'Music & Musicals',\n",
       " 'Comedies',\n",
       " 'Music & Musicals',\n",
       " 'Reality TV',\n",
       " 'TV Shows',\n",
       " 'Action & Adventure',\n",
       " 'Comedies',\n",
       " 'Thrillers',\n",
       " 'Action & Adventure',\n",
       " 'International Movies',\n",
       " 'Comedies',\n",
       " \"Kids' TV\",\n",
       " 'Anime Series',\n",
       " 'International TV Shows',\n",
       " 'Teen TV Shows',\n",
       " 'Action & Adventure',\n",
       " 'Children & Family Movies',\n",
       " 'Cult Movies',\n",
       " 'Comedies',\n",
       " 'Dramas',\n",
       " 'Romantic Movies',\n",
       " 'Sci-Fi & Fantasy',\n",
       " 'Thrillers',\n",
       " 'Comedies',\n",
       " 'Romantic Movies',\n",
       " 'Comedies',\n",
       " 'Dramas',\n",
       " 'International Movies',\n",
       " 'TV Comedies',\n",
       " 'Comedies',\n",
       " 'Cult Movies',\n",
       " 'Sci-Fi & Fantasy',\n",
       " 'Dramas',\n",
       " 'Comedies',\n",
       " 'Romantic Movies',\n",
       " 'Action & Adventure',\n",
       " 'Comedies',\n",
       " 'Crime TV Shows',\n",
       " 'International TV Shows',\n",
       " 'Spanish-Language TV Shows',\n",
       " 'Classic Movies',\n",
       " 'Dramas',\n",
       " 'Children & Family Movies',\n",
       " 'Comedies',\n",
       " 'Action & Adventure',\n",
       " 'Children & Family Movies',\n",
       " 'Comedies',\n",
       " 'Action & Adventure',\n",
       " 'Dramas',\n",
       " 'Documentaries',\n",
       " 'Music & Musicals',\n",
       " 'Dramas',\n",
       " 'Faith & Spirituality',\n",
       " 'Comedies',\n",
       " 'Music & Musicals',\n",
       " 'Documentaries',\n",
       " 'LGBTQ Movies',\n",
       " 'Action & Adventure',\n",
       " 'Dramas',\n",
       " 'Dramas',\n",
       " 'Romantic Movies',\n",
       " 'Action & Adventure',\n",
       " 'Comedies',\n",
       " 'Action & Adventure',\n",
       " 'Classic Movies',\n",
       " 'Action & Adventure',\n",
       " 'Comedies',\n",
       " 'Comedies',\n",
       " 'Romantic Movies',\n",
       " 'Comedies',\n",
       " 'Romantic Movies',\n",
       " 'Docuseries',\n",
       " 'Comedies',\n",
       " 'Action & Adventure',\n",
       " 'Classic Movies',\n",
       " 'Reality TV',\n",
       " 'Documentaries',\n",
       " 'Sports Movies',\n",
       " 'International TV Shows',\n",
       " 'Romantic TV Shows',\n",
       " 'TV Comedies',\n",
       " 'International TV Shows',\n",
       " 'TV Comedies',\n",
       " 'Comedies',\n",
       " 'International Movies',\n",
       " \"Kids' TV\",\n",
       " 'TV Comedies',\n",
       " 'Dramas',\n",
       " 'International Movies',\n",
       " 'Dramas',\n",
       " 'Independent Movies',\n",
       " 'Action & Adventure',\n",
       " 'Comedies',\n",
       " 'International Movies',\n",
       " 'International TV Shows',\n",
       " 'TV Dramas',\n",
       " 'International TV Shows',\n",
       " 'Spanish-Language TV Shows',\n",
       " 'TV Dramas',\n",
       " 'Comedies',\n",
       " 'Dramas',\n",
       " 'International Movies',\n",
       " 'Comedies',\n",
       " 'Romantic Movies',\n",
       " \"Kids' TV\",\n",
       " 'TV Comedies',\n",
       " 'Crime TV Shows',\n",
       " 'International TV Shows',\n",
       " 'TV Dramas',\n",
       " 'Comedies',\n",
       " 'Dramas',\n",
       " 'International Movies',\n",
       " 'Action & Adventure',\n",
       " 'Horror Movies',\n",
       " 'International Movies',\n",
       " 'Dramas',\n",
       " 'International Movies',\n",
       " 'Thrillers',\n",
       " 'Comedies',\n",
       " 'International Movies',\n",
       " 'Music & Musicals',\n",
       " 'Comedies',\n",
       " 'International Movies',\n",
       " 'Comedies',\n",
       " 'International Movies',\n",
       " 'Comedies',\n",
       " 'International Movies',\n",
       " 'Sci-Fi & Fantasy',\n",
       " 'Dramas',\n",
       " 'Independent Movies',\n",
       " 'International Movies',\n",
       " 'Action & Adventure',\n",
       " 'International Movies',\n",
       " 'Music & Musicals',\n",
       " 'Dramas',\n",
       " 'International Movies',\n",
       " 'Music & Musicals',\n",
       " 'Dramas',\n",
       " 'International Movies',\n",
       " 'Music & Musicals',\n",
       " 'Horror Movies',\n",
       " 'International Movies',\n",
       " 'Horror Movies',\n",
       " 'International Movies',\n",
       " 'International TV Shows',\n",
       " 'TV Dramas',\n",
       " 'Docuseries',\n",
       " 'International TV Shows',\n",
       " 'Action & Adventure',\n",
       " 'International Movies',\n",
       " 'Action & Adventure',\n",
       " 'Dramas',\n",
       " 'International Movies',\n",
       " 'Comedies',\n",
       " 'Dramas',\n",
       " 'Independent Movies',\n",
       " 'Comedies',\n",
       " 'Dramas',\n",
       " 'International Movies',\n",
       " 'Reality TV',\n",
       " 'Teen TV Shows',\n",
       " 'Anime Series',\n",
       " 'International TV Shows',\n",
       " \"Kids' TV\",\n",
       " 'TV Comedies',\n",
       " 'Documentaries',\n",
       " 'Crime TV Shows',\n",
       " 'TV Dramas',\n",
       " 'TV Mysteries',\n",
       " 'Crime TV Shows',\n",
       " 'Docuseries',\n",
       " 'International TV Shows',\n",
       " 'International TV Shows',\n",
       " 'Reality TV',\n",
       " 'International TV Shows',\n",
       " 'TV Dramas',\n",
       " 'TV Mysteries',\n",
       " 'International TV Shows',\n",
       " 'TV Comedies',\n",
       " 'TV Dramas',\n",
       " 'Dramas',\n",
       " 'Independent Movies',\n",
       " 'Romantic Movies',\n",
       " 'Action & Adventure',\n",
       " 'Horror Movies',\n",
       " 'Documentaries',\n",
       " 'Sports Movies',\n",
       " 'Children & Family Movies',\n",
       " 'Dramas',\n",
       " 'Reality TV',\n",
       " 'Documentaries',\n",
       " 'Music & Musicals',\n",
       " \"Kids' TV\",\n",
       " 'TV Comedies',\n",
       " 'Documentaries',\n",
       " 'LGBTQ Movies',\n",
       " 'Sports Movies',\n",
       " 'Horror Movies',\n",
       " 'International Movies',\n",
       " 'Thrillers',\n",
       " 'Horror Movies',\n",
       " 'International Movies',\n",
       " 'Thrillers',\n",
       " 'Horror Movies',\n",
       " 'International Movies',\n",
       " 'Thrillers',\n",
       " 'Horror Movies',\n",
       " 'International Movies',\n",
       " 'Thrillers',\n",
       " 'Action & Adventure',\n",
       " 'Anime Features',\n",
       " 'TV Dramas',\n",
       " 'TV Mysteries',\n",
       " 'TV Sci-Fi & Fantasy',\n",
       " 'International TV Shows',\n",
       " 'TV Comedies',\n",
       " 'International TV Shows',\n",
       " 'Spanish-Language TV Shows',\n",
       " 'TV Comedies',\n",
       " 'Dramas',\n",
       " 'International Movies',\n",
       " 'Thrillers',\n",
       " 'Docuseries',\n",
       " 'International TV Shows',\n",
       " 'Dramas',\n",
       " 'International Movies',\n",
       " 'Romantic Movies',\n",
       " 'Action & Adventure',\n",
       " 'Dramas',\n",
       " 'TV Comedies',\n",
       " 'TV Dramas',\n",
       " 'Children & Family Movies',\n",
       " 'Comedies',\n",
       " 'Music & Musicals',\n",
       " 'Dramas',\n",
       " 'International Movies',\n",
       " 'Romantic Movies',\n",
       " 'Dramas',\n",
       " 'Independent Movies',\n",
       " 'Romantic Movies',\n",
       " 'International Movies',\n",
       " 'Thrillers',\n",
       " 'Dramas',\n",
       " 'International Movies',\n",
       " 'Romantic Movies',\n",
       " \"Kids' TV\",\n",
       " 'Documentaries',\n",
       " 'International Movies',\n",
       " 'Dramas',\n",
       " 'International Movies',\n",
       " 'Dramas',\n",
       " 'International Movies',\n",
       " 'Romantic Movies',\n",
       " 'Comedies',\n",
       " 'Dramas',\n",
       " 'International Movies',\n",
       " 'Comedies',\n",
       " 'Dramas',\n",
       " 'International Movies',\n",
       " 'Crime TV Shows',\n",
       " 'International TV Shows',\n",
       " 'TV Dramas',\n",
       " 'Comedies',\n",
       " 'International Movies',\n",
       " 'Romantic Movies',\n",
       " 'Documentaries',\n",
       " 'LGBTQ Movies',\n",
       " 'Sports Movies',\n",
       " \"Kids' TV\",\n",
       " 'Comedies',\n",
       " 'Independent Movies',\n",
       " 'Anime Series',\n",
       " 'International TV Shows',\n",
       " 'Romantic TV Shows',\n",
       " 'Docuseries',\n",
       " 'International TV Shows',\n",
       " 'Classic Movies',\n",
       " 'Dramas',\n",
       " 'Independent Movies',\n",
       " 'Dramas',\n",
       " 'International Movies',\n",
       " \"Kids' TV\",\n",
       " 'Action & Adventure',\n",
       " 'TV Dramas',\n",
       " 'TV Horror',\n",
       " 'TV Mysteries',\n",
       " \"Kids' TV\",\n",
       " 'Crime TV Shows',\n",
       " 'International TV Shows',\n",
       " 'TV Dramas',\n",
       " 'TV Comedies',\n",
       " 'TV Dramas',\n",
       " 'Crime TV Shows',\n",
       " 'International TV Shows',\n",
       " 'Spanish-Language TV Shows',\n",
       " 'International TV Shows',\n",
       " 'Romantic TV Shows',\n",
       " 'Spanish-Language TV Shows',\n",
       " 'International TV Shows',\n",
       " 'TV Dramas',\n",
       " 'Teen TV Shows',\n",
       " 'Stand-Up Comedy',\n",
       " 'Action & Adventure',\n",
       " 'Anime Features',\n",
       " 'Children & Family Movies',\n",
       " 'Reality TV',\n",
       " 'Comedies',\n",
       " 'International Movies',\n",
       " 'Dramas',\n",
       " 'Independent Movies',\n",
       " 'International Movies',\n",
       " 'Documentaries',\n",
       " 'International Movies',\n",
       " 'Comedies',\n",
       " 'Romantic Movies',\n",
       " 'Dramas',\n",
       " 'International Movies',\n",
       " \"Kids' TV\",\n",
       " 'International TV Shows',\n",
       " 'Romantic TV Shows',\n",
       " 'TV Comedies',\n",
       " 'Crime TV Shows',\n",
       " 'International TV Shows',\n",
       " 'Spanish-Language TV Shows',\n",
       " 'International TV Shows',\n",
       " 'Romantic TV Shows',\n",
       " 'TV Dramas',\n",
       " 'Documentaries',\n",
       " 'Sports Movies',\n",
       " 'Anime Series',\n",
       " 'International TV Shows',\n",
       " 'Comedies',\n",
       " 'Dramas',\n",
       " 'Independent Movies',\n",
       " 'Comedies',\n",
       " 'International Movies',\n",
       " 'Romantic Movies',\n",
       " 'International Movies',\n",
       " 'Music & Musicals',\n",
       " 'Action & Adventure',\n",
       " 'Comedies',\n",
       " 'TV Action & Adventure',\n",
       " 'TV Dramas',\n",
       " 'TV Mysteries',\n",
       " 'TV Shows',\n",
       " 'Comedies',\n",
       " 'Dramas',\n",
       " 'International Movies',\n",
       " 'Horror Movies',\n",
       " 'Independent Movies',\n",
       " 'International Movies',\n",
       " 'Children & Family Movies',\n",
       " 'Music & Musicals',\n",
       " 'Action & Adventure',\n",
       " 'Comedies',\n",
       " 'International Movies',\n",
       " 'Documentaries',\n",
       " 'International Movies',\n",
       " 'Comedies',\n",
       " 'Cult Movies',\n",
       " 'International Movies',\n",
       " 'Documentaries',\n",
       " 'Classic Movies',\n",
       " 'Dramas',\n",
       " 'International Movies',\n",
       " 'Dramas',\n",
       " 'International Movies',\n",
       " 'Horror Movies',\n",
       " 'Movies',\n",
       " 'Reality TV',\n",
       " 'Crime TV Shows',\n",
       " 'Docuseries',\n",
       " 'International TV Shows',\n",
       " 'Spanish-Language TV Shows',\n",
       " 'TV Dramas',\n",
       " 'Reality TV',\n",
       " 'International TV Shows',\n",
       " 'Romantic TV Shows',\n",
       " 'TV Dramas',\n",
       " 'Dramas',\n",
       " 'Independent Movies',\n",
       " 'Romantic Movies',\n",
       " 'Dramas',\n",
       " 'International Movies',\n",
       " 'International TV Shows',\n",
       " 'Romantic TV Shows',\n",
       " 'TV Comedies',\n",
       " 'Documentaries',\n",
       " 'LGBTQ Movies',\n",
       " 'Documentaries',\n",
       " 'International Movies',\n",
       " 'International TV Shows',\n",
       " 'Romantic TV Shows',\n",
       " 'TV Comedies',\n",
       " 'Docuseries',\n",
       " 'International TV Shows',\n",
       " 'Romantic TV Shows',\n",
       " 'TV Comedies',\n",
       " 'International TV Shows',\n",
       " 'Romantic TV Shows',\n",
       " 'TV Comedies',\n",
       " 'TV Comedies',\n",
       " \"Kids' TV\",\n",
       " 'Children & Family Movies',\n",
       " 'Comedies',\n",
       " 'Children & Family Movies',\n",
       " 'Comedies',\n",
       " 'Action & Adventure',\n",
       " 'Sci-Fi & Fantasy',\n",
       " 'Action & Adventure',\n",
       " 'Dramas',\n",
       " 'Children & Family Movies',\n",
       " 'Comedies',\n",
       " 'Sci-Fi & Fantasy',\n",
       " 'Anime Series',\n",
       " 'International TV Shows',\n",
       " 'TV Thrillers',\n",
       " 'Action & Adventure',\n",
       " 'Horror Movies',\n",
       " 'Sci-Fi & Fantasy',\n",
       " 'Classic Movies',\n",
       " 'Comedies',\n",
       " 'Cult Movies',\n",
       " 'Dramas',\n",
       " 'Romantic Movies',\n",
       " 'Dramas',\n",
       " 'Thrillers',\n",
       " 'TV Dramas',\n",
       " 'Teen TV Shows',\n",
       " 'Comedies',\n",
       " 'Romantic Movies',\n",
       " 'Anime Series',\n",
       " 'International TV Shows',\n",
       " 'Dramas',\n",
       " 'Independent Movies',\n",
       " 'International Movies',\n",
       " 'Action & Adventure',\n",
       " 'Sci-Fi & Fantasy',\n",
       " 'Thrillers',\n",
       " 'Dramas',\n",
       " 'Independent Movies',\n",
       " 'Comedies',\n",
       " 'Dramas',\n",
       " 'Children & Family Movies',\n",
       " 'Comedies',\n",
       " 'Dramas',\n",
       " 'Children & Family Movies',\n",
       " 'Comedies',\n",
       " 'Action & Adventure',\n",
       " 'Comedies',\n",
       " 'Children & Family Movies',\n",
       " 'Comedies',\n",
       " 'Sci-Fi & Fantasy',\n",
       " 'Comedies',\n",
       " 'Dramas',\n",
       " 'Sports Movies',\n",
       " 'Action & Adventure',\n",
       " 'Dramas',\n",
       " 'Sci-Fi & Fantasy',\n",
       " 'Action & Adventure',\n",
       " 'Comedies',\n",
       " 'Cult Movies',\n",
       " 'Comedies',\n",
       " 'Dramas',\n",
       " 'Horror Movies',\n",
       " 'Action & Adventure',\n",
       " 'Comedies',\n",
       " 'Dramas',\n",
       " 'Thrillers',\n",
       " 'Action & Adventure',\n",
       " 'Dramas',\n",
       " 'Independent Movies',\n",
       " 'Thrillers',\n",
       " 'Thrillers',\n",
       " 'Stand-Up Comedy',\n",
       " 'Comedies',\n",
       " 'Romantic Movies',\n",
       " 'TV Dramas',\n",
       " 'TV Sci-Fi & Fantasy',\n",
       " 'Dramas',\n",
       " 'International Movies',\n",
       " 'Action & Adventure',\n",
       " 'International Movies',\n",
       " 'Thrillers',\n",
       " \"Kids' TV\",\n",
       " 'TV Comedies',\n",
       " 'Dramas',\n",
       " 'Independent Movies',\n",
       " 'International Movies',\n",
       " 'British TV Shows',\n",
       " 'International TV Shows',\n",
       " 'Reality TV',\n",
       " 'Documentaries',\n",
       " 'International Movies',\n",
       " 'International TV Shows',\n",
       " 'Reality TV',\n",
       " 'British TV Shows',\n",
       " 'Crime TV Shows',\n",
       " 'Docuseries',\n",
       " 'TV Action & Adventure',\n",
       " 'TV Dramas',\n",
       " 'Teen TV Shows',\n",
       " 'Dramas',\n",
       " 'Independent Movies',\n",
       " 'International Movies',\n",
       " 'Action & Adventure',\n",
       " 'International Movies',\n",
       " 'Action & Adventure',\n",
       " 'Comedies',\n",
       " 'International Movies',\n",
       " 'Comedies',\n",
       " 'International Movies',\n",
       " 'Romantic Movies',\n",
       " 'Comedies',\n",
       " 'Romantic Movies',\n",
       " 'Anime Series',\n",
       " 'Action & Adventure',\n",
       " 'International Movies',\n",
       " 'Documentaries',\n",
       " 'Reality TV',\n",
       " 'Crime TV Shows',\n",
       " 'TV Action & Adventure',\n",
       " 'TV Sci-Fi & Fantasy',\n",
       " 'Crime TV Shows',\n",
       " 'International TV Shows',\n",
       " 'Spanish-Language TV Shows',\n",
       " 'TV Dramas',\n",
       " 'Teen TV Shows',\n",
       " 'Action & Adventure',\n",
       " 'International Movies',\n",
       " 'Thrillers',\n",
       " 'Crime TV Shows',\n",
       " 'International TV Shows',\n",
       " 'TV Comedies',\n",
       " \"Kids' TV\",\n",
       " 'Comedies',\n",
       " 'Dramas',\n",
       " 'International Movies',\n",
       " 'Stand-Up Comedy & Talk Shows',\n",
       " 'TV Comedies',\n",
       " 'Dramas',\n",
       " 'International Movies',\n",
       " 'Thrillers',\n",
       " 'Classic & Cult TV',\n",
       " 'TV Action & Adventure',\n",
       " 'TV Dramas',\n",
       " 'International TV Shows',\n",
       " 'TV Action & Adventure',\n",
       " 'TV Dramas',\n",
       " 'Action & Adventure',\n",
       " 'Dramas',\n",
       " 'Children & Family Movies',\n",
       " 'Sports Movies',\n",
       " 'Dramas',\n",
       " 'Independent Movies',\n",
       " 'International Movies',\n",
       " 'Comedies',\n",
       " 'International Movies',\n",
       " 'Action & Adventure',\n",
       " 'Horror Movies',\n",
       " 'International Movies',\n",
       " 'International TV Shows',\n",
       " 'Romantic TV Shows',\n",
       " 'TV Comedies',\n",
       " 'Horror Movies',\n",
       " 'International Movies',\n",
       " 'Thrillers',\n",
       " 'TV Action & Adventure',\n",
       " 'TV Sci-Fi & Fantasy',\n",
       " 'Anime Series',\n",
       " 'Stand-Up Comedy & Talk Shows',\n",
       " 'International TV Shows',\n",
       " 'Spanish-Language TV Shows',\n",
       " 'TV Action & Adventure',\n",
       " 'Dramas',\n",
       " 'Romantic Movies',\n",
       " 'Docuseries',\n",
       " 'Documentaries',\n",
       " 'Children & Family Movies',\n",
       " 'Children & Family Movies',\n",
       " 'Children & Family Movies',\n",
       " 'Children & Family Movies',\n",
       " 'Children & Family Movies',\n",
       " 'Children & Family Movies',\n",
       " 'Children & Family Movies',\n",
       " 'Children & Family Movies',\n",
       " 'Children & Family Movies',\n",
       " 'Children & Family Movies',\n",
       " 'Children & Family Movies',\n",
       " 'Children & Family Movies',\n",
       " 'Children & Family Movies',\n",
       " 'Children & Family Movies',\n",
       " 'Children & Family Movies',\n",
       " 'Sports Movies',\n",
       " 'Children & Family Movies',\n",
       " 'Children & Family Movies',\n",
       " 'Children & Family Movies',\n",
       " 'Children & Family Movies',\n",
       " 'Children & Family Movies',\n",
       " 'TV Dramas',\n",
       " 'Dramas',\n",
       " 'Comedies',\n",
       " 'International Movies',\n",
       " 'Anime Features',\n",
       " 'Children & Family Movies',\n",
       " 'International Movies',\n",
       " 'Dramas',\n",
       " 'International Movies',\n",
       " 'Thrillers',\n",
       " 'British TV Shows',\n",
       " 'International TV Shows',\n",
       " 'Reality TV',\n",
       " 'International TV Shows',\n",
       " 'Reality TV',\n",
       " 'Romantic TV Shows',\n",
       " 'Children & Family Movies',\n",
       " 'Comedies',\n",
       " 'Dramas',\n",
       " 'Independent Movies',\n",
       " 'Classic & Cult TV',\n",
       " 'Crime TV Shows',\n",
       " 'International TV Shows',\n",
       " 'Crime TV Shows',\n",
       " 'International TV Shows',\n",
       " 'Romantic TV Shows',\n",
       " 'Dramas',\n",
       " 'International Movies',\n",
       " 'Romantic Movies',\n",
       " 'Action & Adventure',\n",
       " 'Dramas',\n",
       " 'International Movies',\n",
       " 'Romantic Movies',\n",
       " 'Dramas',\n",
       " 'International Movies',\n",
       " 'Thrillers',\n",
       " 'Docuseries',\n",
       " 'Science & Nature TV',\n",
       " 'Horror Movies',\n",
       " 'LGBTQ Movies',\n",
       " \"Kids' TV\",\n",
       " 'TV Comedies',\n",
       " 'Comedies',\n",
       " 'International Movies',\n",
       " 'Docuseries',\n",
       " 'Dramas',\n",
       " 'Independent Movies',\n",
       " 'Thrillers',\n",
       " 'Dramas',\n",
       " 'Dramas',\n",
       " 'Romantic Movies',\n",
       " 'Dramas',\n",
       " 'Romantic Movies',\n",
       " 'Dramas',\n",
       " 'Romantic Movies',\n",
       " 'Dramas',\n",
       " 'Romantic Movies',\n",
       " 'Action & Adventure',\n",
       " 'Dramas',\n",
       " 'Romantic Movies',\n",
       " 'Comedies',\n",
       " 'Dramas',\n",
       " 'International Movies',\n",
       " 'Anime Series',\n",
       " 'International TV Shows',\n",
       " 'Comedies',\n",
       " 'Cult Movies',\n",
       " 'Documentaries',\n",
       " 'International Movies',\n",
       " 'Music & Musicals',\n",
       " 'International TV Shows',\n",
       " 'Romantic TV Shows',\n",
       " 'TV Comedies',\n",
       " 'Documentaries',\n",
       " 'International Movies',\n",
       " 'Sports Movies',\n",
       " ...]"
      ]
     },
     "execution_count": 88,
     "metadata": {},
     "output_type": "execute_result"
    }
   ],
   "source": [
    "all_genres"
   ]
  },
  {
   "cell_type": "code",
   "execution_count": 89,
   "id": "0ff5ea00",
   "metadata": {},
   "outputs": [],
   "source": [
    "all_genres_df = pd.DataFrame(all_genres, columns=['genre'])"
   ]
  },
  {
   "cell_type": "code",
   "execution_count": 90,
   "id": "d6c1fcac",
   "metadata": {},
   "outputs": [
    {
     "data": {
      "text/plain": [
       "International Movies        2752\n",
       "Dramas                      2427\n",
       "Comedies                    1674\n",
       "International TV Shows      1350\n",
       "Documentaries                869\n",
       "Action & Adventure           859\n",
       "TV Dramas                    762\n",
       "Independent Movies           756\n",
       "Children & Family Movies     641\n",
       "Romantic Movies              616\n",
       "Thrillers                    577\n",
       "TV Comedies                  574\n",
       "Crime TV Shows               469\n",
       "Kids' TV                     449\n",
       "Docuseries                   394\n",
       "Music & Musicals             375\n",
       "Romantic TV Shows            370\n",
       "Horror Movies                357\n",
       "Stand-Up Comedy              343\n",
       "Reality TV                   255\n",
       "Name: genre, dtype: int64"
      ]
     },
     "execution_count": 90,
     "metadata": {},
     "output_type": "execute_result"
    }
   ],
   "source": [
    "top_genres = all_genres_df.genre.value_counts().head(20)\n",
    "top_genres"
   ]
  },
  {
   "cell_type": "code",
   "execution_count": 91,
   "id": "e95472a5",
   "metadata": {},
   "outputs": [
    {
     "data": {
      "image/png": "[encoded data removed]",
      "text/plain": [
       "<Figure size 1152x576 with 1 Axes>"
      ]
     },
     "metadata": {
      "needs_background": "light"
     },
     "output_type": "display_data"
    }
   ],
   "source": [
    "plt.figure(figsize=(16,8))\n",
    "plt.title('Top genres', fontsize=16)\n",
    "plt.ylabel('Number of productions')\n",
    "plt.xticks(rotation = 75)\n",
    "sns.barplot(x = top_genres.index, y = top_genres.values)\n",
    "plt.show()"
   ]
  },
  {
   "cell_type": "code",
   "execution_count": 92,
   "id": "95eea46d",
   "metadata": {},
   "outputs": [
    {
     "data": {
      "text/plain": [
       "Dramas, International Movies                        362\n",
       "Documentaries                                       359\n",
       "Stand-Up Comedy                                     334\n",
       "Comedies, Dramas, International Movies              274\n",
       "Dramas, Independent Movies, International Movies    252\n",
       "Kids' TV                                            219\n",
       "Children & Family Movies                            215\n",
       "Children & Family Movies, Comedies                  201\n",
       "Documentaries, International Movies                 186\n",
       "Dramas, International Movies, Romantic Movies       180\n",
       "Comedies, International Movies                      176\n",
       "Comedies, International Movies, Romantic Movies     152\n",
       "Dramas                                              138\n",
       "Dramas, International Movies, Thrillers             134\n",
       "Action & Adventure, Dramas, International Movies    132\n",
       "Name: listed_in, dtype: int64"
      ]
     },
     "execution_count": 92,
     "metadata": {},
     "output_type": "execute_result"
    }
   ],
   "source": [
    "listed_in = netflix_df.listed_in.value_counts().head(15)\n",
    "listed_in"
   ]
  },
  {
   "cell_type": "code",
   "execution_count": 93,
   "id": "2d8c6d2c",
   "metadata": {},
   "outputs": [
    {
     "data": {
      "image/png": "[encoded data removed]",
      "text/plain": [
       "<Figure size 1440x720 with 1 Axes>"
      ]
     },
     "metadata": {
      "needs_background": "light"
     },
     "output_type": "display_data"
    }
   ],
   "source": [
    "plt.figure(figsize=(20,10))\n",
    "plt.title('Top listed', fontsize=18)\n",
    "plt.xlabel('Number of productions')\n",
    "sns.barplot(y = listed_in.index, x= listed_in.values)\n",
    "plt.show()"
   ]
  },
  {
   "cell_type": "markdown",
   "id": "768b23d9",
   "metadata": {},
   "source": [
    "In Netflix we can mostly find dramas, comedies and documentaries."
   ]
  },
  {
   "cell_type": "markdown",
   "id": "6f5f96c6",
   "metadata": {},
   "source": [
    "### Seasons"
   ]
  },
  {
   "cell_type": "code",
   "execution_count": 94,
   "id": "adafb049",
   "metadata": {},
   "outputs": [
    {
     "data": {
      "text/plain": [
       "1     1793\n",
       "2      421\n",
       "3      198\n",
       "4       94\n",
       "5       64\n",
       "6       33\n",
       "7       23\n",
       "8       17\n",
       "9        9\n",
       "10       6\n",
       "13       2\n",
       "15       2\n",
       "12       2\n",
       "17       1\n",
       "11       1\n",
       "Name: seasons_num, dtype: int64"
      ]
     },
     "execution_count": 94,
     "metadata": {},
     "output_type": "execute_result"
    }
   ],
   "source": [
    "season_counts = series_df['seasons_num'].value_counts()\n",
    "season_counts"
   ]
  },
  {
   "cell_type": "code",
   "execution_count": 95,
   "id": "c6dea36c",
   "metadata": {},
   "outputs": [
    {
     "data": {
      "image/png": "[encoded data removed]",
      "text/plain": [
       "<Figure size 1296x432 with 1 Axes>"
      ]
     },
     "metadata": {
      "needs_background": "light"
     },
     "output_type": "display_data"
    }
   ],
   "source": [
    "plt.figure(figsize=(18,6))\n",
    "plt.title('Seasons of series')\n",
    "plt.xlabel('Season counts')\n",
    "sns.barplot(x = season_counts.index, y = season_counts.values)\n",
    "plt.show()"
   ]
  },
  {
   "cell_type": "code",
   "execution_count": 96,
   "id": "e4705b07",
   "metadata": {},
   "outputs": [
    {
     "name": "stdout",
     "output_type": "stream",
     "text": [
      "Average seasons number in series is 1.75\n"
     ]
    }
   ],
   "source": [
    "avg_seasons_num = round(series_df.seasons_num.mean(), 2)\n",
    "print('Average seasons number in series is ' + str(avg_seasons_num))"
   ]
  },
  {
   "cell_type": "markdown",
   "id": "f46533e6",
   "metadata": {},
   "source": [
    "### Duration time"
   ]
  },
  {
   "cell_type": "code",
   "execution_count": 97,
   "id": "1d44ef57",
   "metadata": {},
   "outputs": [
    {
     "name": "stdout",
     "output_type": "stream",
     "text": [
      "Average duration time of movies is 99.58 minutes\n"
     ]
    }
   ],
   "source": [
    "avg_duration = round(movies_df['duration (min)'].mean(), 2)\n",
    "print('Average duration time of movies is ' + str(avg_duration) + ' minutes')"
   ]
  },
  {
   "cell_type": "code",
   "execution_count": 98,
   "id": "5d742819",
   "metadata": {},
   "outputs": [
    {
     "name": "stdout",
     "output_type": "stream",
     "text": [
      "The longest movie last 312 minutes and the shortest 3 minutes.\n"
     ]
    }
   ],
   "source": [
    "max_duration = movies_df['duration (min)'].max()\n",
    "min_duration = movies_df['duration (min)'].min()\n",
    "print('The longest movie last ' + str(max_duration) + ' minutes and the shortest ' + str(min_duration) + ' minutes.')"
   ]
  },
  {
   "cell_type": "code",
   "execution_count": 99,
   "id": "af67753f",
   "metadata": {},
   "outputs": [
    {
     "data": {
      "text/plain": [
       "country\n",
       "India                            126.92\n",
       "Philippines                      111.95\n",
       "United Kingdom, United States    111.21\n",
       "Indonesia                        108.83\n",
       "Egypt                            108.14\n",
       "Turkey                           107.42\n",
       "Nigeria                          107.03\n",
       "Spain                            100.05\n",
       "Japan                             98.46\n",
       "France                            93.47\n",
       "United States, Canada             90.73\n",
       "United States                     90.63\n",
       "Mexico                            87.53\n",
       "United Kingdom                    84.87\n",
       "Canada                            82.73\n",
       "Name: duration (min), dtype: float64"
      ]
     },
     "execution_count": 99,
     "metadata": {},
     "output_type": "execute_result"
    }
   ],
   "source": [
    "#### find an average of duration movie time of countries which have more than 50 productions\n",
    "avg_time_by_country = round(movies_df.groupby('country').filter(lambda x: len(x) > 50).groupby('country')['duration (min)'].mean(), 2)\n",
    "avg_time_by_country.sort_values(ascending = False)"
   ]
  },
  {
   "cell_type": "code",
   "execution_count": 100,
   "id": "2e148a6e",
   "metadata": {},
   "outputs": [
    {
     "data": {
      "image/png": "[encoded data removed]",
      "text/plain": [
       "<Figure size 864x576 with 1 Axes>"
      ]
     },
     "metadata": {
      "needs_background": "light"
     },
     "output_type": "display_data"
    }
   ],
   "source": [
    "plt.figure(figsize=(12,8))\n",
    "plt.title('Average movie time by country')\n",
    "plt.xlabel('Duration time (minutes)')\n",
    "ax = sns.barplot(y = avg_time_by_country.index, x = avg_time_by_country.values)\n",
    "ax.set_ylabel(None)\n",
    "plt.show()"
   ]
  },
  {
   "cell_type": "markdown",
   "id": "f78c0ff6",
   "metadata": {},
   "source": [
    "Clearly the longest movies are produced in India. The shortest are made in Canada and UK."
   ]
  },
  {
   "cell_type": "markdown",
   "id": "6cf6c88d",
   "metadata": {},
   "source": [
    "### Release year"
   ]
  },
  {
   "cell_type": "code",
   "execution_count": 101,
   "id": "ba0ba256",
   "metadata": {},
   "outputs": [
    {
     "data": {
      "text/plain": [
       "release_year\n",
       "1993    24\n",
       "1995    23\n",
       "1996    21\n",
       "1997    34\n",
       "1998    32\n",
       "Name: title, dtype: int64"
      ]
     },
     "execution_count": 101,
     "metadata": {},
     "output_type": "execute_result"
    }
   ],
   "source": [
    "# take only those years where there were more than 20 movies \n",
    "mv_release_year = movies_df.groupby('release_year').filter(lambda x: len(x) > 20).groupby('release_year')['title'].count()\n",
    "mv_release_year.head()"
   ]
  },
  {
   "cell_type": "code",
   "execution_count": 102,
   "id": "1b0a2f98",
   "metadata": {},
   "outputs": [
    {
     "data": {
      "text/plain": [
       "release_year\n",
       "1993    4\n",
       "1997    4\n",
       "1998    4\n",
       "1999    7\n",
       "2000    4\n",
       "Name: title, dtype: int64"
      ]
     },
     "execution_count": 102,
     "metadata": {},
     "output_type": "execute_result"
    }
   ],
   "source": [
    "# take only those years where there were more than 3 series\n",
    "series_release_year = series_df.groupby('release_year').filter(lambda x: len(x) > 3).groupby('release_year')['title'].count()\n",
    "series_release_year.head()"
   ]
  },
  {
   "cell_type": "code",
   "execution_count": 103,
   "id": "3fde487d",
   "metadata": {},
   "outputs": [
    {
     "data": {
      "image/png": "[encoded data removed]",
      "text/plain": [
       "<Figure size 864x576 with 1 Axes>"
      ]
     },
     "metadata": {
      "needs_background": "light"
     },
     "output_type": "display_data"
    }
   ],
   "source": [
    "plt.figure(figsize=(12,8))\n",
    "plt.title('Release years of Netflix content')\n",
    "plt.xlabel('Year')\n",
    "plt.ylabel('Number of content')\n",
    "plt.plot(mv_release_year.index, mv_release_year.values)\n",
    "plt.plot(series_release_year.index, series_release_year.values)\n",
    "plt.legend(['movies', 'series'], prop={'size': 15})\n",
    "plt.show()"
   ]
  },
  {
   "cell_type": "markdown",
   "id": "db9aa4a5",
   "metadata": {},
   "source": [
    "It looks like on Netflix we can find mostly new productions, especially newer than 2015.\n",
    "Let's find out the top 10 years by number of content released."
   ]
  },
  {
   "cell_type": "code",
   "execution_count": 104,
   "id": "baae7b6e",
   "metadata": {},
   "outputs": [
    {
     "data": {
      "text/plain": [
       "2018.0    1146\n",
       "2017.0    1031\n",
       "2019.0    1030\n",
       "2020.0     953\n",
       "2016.0     901\n",
       "2021.0     592\n",
       "2015.0     557\n",
       "2014.0     352\n",
       "2013.0     287\n",
       "2012.0     236\n",
       "Name: release_year, dtype: int64"
      ]
     },
     "execution_count": 104,
     "metadata": {},
     "output_type": "execute_result"
    }
   ],
   "source": [
    "release_year = netflix_df['release_year'].value_counts().head(10)\n",
    "release_year"
   ]
  },
  {
   "cell_type": "code",
   "execution_count": 105,
   "id": "62e57632",
   "metadata": {},
   "outputs": [
    {
     "data": {
      "image/png": "[encoded data removed]",
      "text/plain": [
       "<Figure size 864x432 with 1 Axes>"
      ]
     },
     "metadata": {
      "needs_background": "light"
     },
     "output_type": "display_data"
    }
   ],
   "source": [
    "plt.figure(figsize=(12,6))\n",
    "plt.title('TOP 10 years by released content')\n",
    "plt.ylabel('Number of productions')\n",
    "plt.xlabel('Year')\n",
    "sns.barplot(x = release_year.index, y = release_year.values)\n",
    "plt.show()"
   ]
  },
  {
   "cell_type": "markdown",
   "id": "50bd6268",
   "metadata": {},
   "source": [
    "TOP 10 years are the last 10 years. Netflix is adding new productions to attract younger audience and give actual content.\n",
    "Old classics are often not so interesting to the young, so we can barely found them on the platform."
   ]
  },
  {
   "cell_type": "markdown",
   "id": "1144236c",
   "metadata": {},
   "source": [
    "### New content by year"
   ]
  },
  {
   "cell_type": "code",
   "execution_count": 106,
   "id": "78733638",
   "metadata": {},
   "outputs": [
    {
     "data": {
      "text/plain": [
       "2019    2016\n",
       "2020    1879\n",
       "2018    1649\n",
       "2021    1498\n",
       "2017    1187\n",
       "2016     427\n",
       "2015      82\n",
       "2014      24\n",
       "2011      13\n",
       "2013      11\n",
       "Name: year, dtype: int64"
      ]
     },
     "execution_count": 106,
     "metadata": {},
     "output_type": "execute_result"
    }
   ],
   "source": [
    "year_added = netflix_df.year.value_counts().head(10)\n",
    "year_added.index = year_added.index.astype(int)\n",
    "year_added"
   ]
  },
  {
   "cell_type": "code",
   "execution_count": 107,
   "id": "6ad314b4",
   "metadata": {},
   "outputs": [
    {
     "data": {
      "text/plain": [
       "<matplotlib.legend.Legend at 0x1ce6ae3ed60>"
      ]
     },
     "execution_count": 107,
     "metadata": {},
     "output_type": "execute_result"
    },
    {
     "data": {
      "image/png": "[encoded data removed]",
      "text/plain": [
       "<Figure size 864x576 with 1 Axes>"
      ]
     },
     "metadata": {
      "needs_background": "light"
     },
     "output_type": "display_data"
    }
   ],
   "source": [
    "plt.figure(figsize=(12,8))\n",
    "plt.title('Content added on Netlix by year ')\n",
    "plt.xlabel('year')\n",
    "plt.ylabel('number of content')\n",
    "plt.plot(movies_df.groupby('year')['title'].count())\n",
    "plt.plot(series_df.groupby('year')['title'].count())\n",
    "plt.legend(['movies', 'series'], prop={'size': 15})"
   ]
  },
  {
   "cell_type": "code",
   "execution_count": 108,
   "id": "68d73683",
   "metadata": {},
   "outputs": [
    {
     "data": {
      "text/plain": [
       "2019    5.52\n",
       "2020    5.15\n",
       "2018    4.52\n",
       "2021    4.10\n",
       "2017    3.25\n",
       "2016    1.17\n",
       "2015    0.22\n",
       "2014    0.07\n",
       "2011    0.04\n",
       "2013    0.03\n",
       "2012    0.01\n",
       "2009    0.01\n",
       "2008    0.01\n",
       "2010    0.00\n",
       "Name: year, dtype: float64"
      ]
     },
     "execution_count": 108,
     "metadata": {},
     "output_type": "execute_result"
    }
   ],
   "source": [
    "year_add_per_day = round(netflix_df.year.value_counts() /365, 2)\n",
    "year_add_per_day.index = year_add_per_day.index.astype(int)\n",
    "year_add_per_day"
   ]
  },
  {
   "cell_type": "markdown",
   "id": "189b7ebf",
   "metadata": {},
   "source": [
    "In 2016 Netflix became more popular, so it were added much more productions. In 2020 and 2021 we can notice small decrease in number of added productions. It may be caused by few reasons. One of them is covid pandemic that started at the very end of the 2019 and made impossible to produce movies. Other reason that comes to my mind could be a surge in new users (which is mostly caused by covid). Netflix may see that they don't need to spend so much money on new productions, because the number of new subscribers will be growing anyway. So they can be more economic, thus having the same profit."
   ]
  },
  {
   "cell_type": "markdown",
   "id": "09a9247f",
   "metadata": {},
   "source": [
    "### Is there any correlation between realease year and duration time of Netflix movies?"
   ]
  },
  {
   "cell_type": "code",
   "execution_count": 110,
   "id": "68348d9a",
   "metadata": {},
   "outputs": [
    {
     "data": {
      "image/png": "[encoded data removed]",
      "text/plain": [
       "<Figure size 1152x576 with 1 Axes>"
      ]
     },
     "metadata": {
      "needs_background": "light"
     },
     "output_type": "display_data"
    }
   ],
   "source": [
    "plt.figure(figsize=(16,8))\n",
    "plt.scatter(movies_df.release_year, movies_df['duration (min)'])\n",
    "plt.show()"
   ]
  },
  {
   "cell_type": "markdown",
   "id": "946f6008",
   "metadata": {},
   "source": [
    "- most movies last 90 - 110 minutes\n",
    "- last years there were produced short movies (e.g. animations)\n",
    "- there are just single movies that are longer than 180 minutes (3 hours)"
   ]
  },
  {
   "cell_type": "markdown",
   "id": "5c03ca6b",
   "metadata": {},
   "source": [
    "### Does Netflix more focus on movies or series?"
   ]
  },
  {
   "cell_type": "code",
   "execution_count": 160,
   "id": "f1177a6b",
   "metadata": {},
   "outputs": [
    {
     "data": {
      "text/plain": [
       "year\n",
       "2008    1.000000\n",
       "2009    0.000000\n",
       "2010    0.000000\n",
       "2011    0.000000\n",
       "2012    0.000000\n",
       "2013    1.200000\n",
       "2014    3.800000\n",
       "2015    2.153846\n",
       "2016    1.426136\n",
       "2017    2.401146\n",
       "2018    3.002427\n",
       "2019    2.405405\n",
       "2020    2.157983\n",
       "2021    1.966337\n",
       "Name: title, dtype: float64"
      ]
     },
     "execution_count": 160,
     "metadata": {},
     "output_type": "execute_result"
    }
   ],
   "source": [
    "## I'm calculating the ratio of added movies to series each year\n",
    "x = movies_df.groupby('year')['title'].count() / series_df.groupby('year')['title'].count()\n",
    "x.fillna(0)"
   ]
  },
  {
   "cell_type": "code",
   "execution_count": 161,
   "id": "e6ff6d9b",
   "metadata": {},
   "outputs": [
    {
     "data": {
      "image/png": "[encoded data removed]",
      "text/plain": [
       "<Figure size 648x360 with 1 Axes>"
      ]
     },
     "metadata": {
      "needs_background": "light"
     },
     "output_type": "display_data"
    }
   ],
   "source": [
    "plt.plot(x.tail(10))\n",
    "plt.show()"
   ]
  },
  {
   "cell_type": "markdown",
   "id": "9d45c9de",
   "metadata": {},
   "source": [
    "In 2014 when Netflix wasn't so popular there were almost 4 movies added per 1 series. When the popularity of rapidly grown in 2016, number of added series was the highest and slightly less than number of added movies. In last years, ratio of added movies to series has been around 2 and is slowly decreasing."
   ]
  },
  {
   "cell_type": "markdown",
   "id": "ad29ef86",
   "metadata": {},
   "source": [
    "## Final conclusions"
   ]
  },
  {
   "cell_type": "markdown",
   "id": "0ca26dc5",
   "metadata": {},
   "source": [
    "In my analysis I found many insights and conclusions. Most important ones are:\n",
    "- in Netflix offer, 70% are movies and 30% are series\n",
    "- recently there are added about 2 movies per 1 series; this number is slowly decreasing\n",
    "- the biggest part of Netflix offer was produced in US, but there are also many content from India\n",
    "- almost all of top actors and directors by number of content are from India\n",
    "- top genres are: dramas, comedies, documentaries\n",
    "- we can find new content (mostly newer than 2015)\n",
    "- Netflix gained popularity in 2016 and quickly started to add new content\n",
    "- there are productions for everyone, from little kids to the mature; the older the audience, the more movies for them"
   ]
  }
 ],
 "metadata": {
  "kernelspec": {
   "display_name": "Python 3 (ipykernel)",
   "language": "python",
   "name": "python3"
  },
  "language_info": {
   "codemirror_mode": {
    "name": "ipython",
    "version": 3
   },
   "file_extension": ".py",
   "mimetype": "text/x-python",
   "name": "python",
   "nbconvert_exporter": "python",
   "pygments_lexer": "ipython3",
   "version": "3.9.12"
  }
 },
 "nbformat": 4,
 "nbformat_minor": 5
}
